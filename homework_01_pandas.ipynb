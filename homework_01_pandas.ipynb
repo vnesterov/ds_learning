{
 "cells": [
  {
   "cell_type": "markdown",
   "metadata": {
    "_uuid": "21c25e4f8bb31570029fd6b069131a5d00f84cf1",
    "id": "3-tVAicKr1C7"
   },
   "source": [
    "# Домашнее задание 1"
   ]
  },
  {
   "cell_type": "markdown",
   "source": [
    "## Описание данных"
   ],
   "metadata": {
    "id": "5HLoyae8xQ1l"
   }
  },
  {
   "cell_type": "markdown",
   "metadata": {
    "id": "vpSnDrAVr1C9"
   },
   "source": [
    "В архиве находится информация о студентах. Всего 10 групп студентов.  \n",
    "Файлы делятся на две категории:\n",
    "*   `Students_info_i` - информация о студентах из группы `i`\n",
    "*   `Students_marks_i` - оценки студентов из группы `i` за экзамены\n",
    "\n"
   ]
  },
  {
   "cell_type": "markdown",
   "metadata": {
    "id": "3przp22Ir1C9"
   },
   "source": [
    "Одно из важных достоинств pandas $-$ это удобные методы реляционного взаимодействия с данными, аналогичные, например, возможностям SQL для слияния и конкатенации таблиц: merge, join, concat. Наличие готовых методов позволяет не реализовывать самостоятельно поэлементную обработку данных и оперировать сразу целыми таблицами данных.\n",
    "\n",
    "Подробно об этих методах посмотрите тут:\n",
    "\n",
    " https://www.kaggle.com/residentmario/renaming-and-combining#Combining"
   ]
  },
  {
   "cell_type": "markdown",
   "source": [
    "## Практика"
   ],
   "metadata": {
    "id": "mcbGj3CoxYqm"
   }
  },
  {
   "cell_type": "code",
   "source": [
    "import numpy as np\n",
    "# импортируем библиотеку Pandas\n",
    "import pandas as pd\n",
    "import glob\n",
    "import os"
   ],
   "metadata": {
    "id": "OOiCLymw1F5B",
    "ExecuteTime": {
     "end_time": "2024-01-25T15:17:14.780491Z",
     "start_time": "2024-01-25T15:17:14.777986Z"
    }
   },
   "execution_count": 1,
   "outputs": []
  },
  {
   "cell_type": "code",
   "source": [
    "%%capture\n",
    "# загружаем данные\n",
    "!wget https://github.com/evgpat/datasets/raw/main/students.zip"
   ],
   "metadata": {
    "id": "McFB9a_B9bAd",
    "ExecuteTime": {
     "end_time": "2024-01-04T20:29:57.210715Z",
     "start_time": "2024-01-04T20:29:55.884509Z"
    }
   },
   "execution_count": 2,
   "outputs": []
  },
  {
   "cell_type": "code",
   "source": [
    "# проверяем загрузку (наличие файла students.zip)\n",
    "!ls -lah"
   ],
   "metadata": {
    "id": "ef78rqK6-U_j",
    "ExecuteTime": {
     "end_time": "2024-01-04T20:30:00.904825Z",
     "start_time": "2024-01-04T20:30:00.777232Z"
    }
   },
   "execution_count": 3,
   "outputs": [
    {
     "name": "stdout",
     "output_type": "stream",
     "text": [
      "total 104\r\n",
      "drwxr-xr-x  12 vladimirmikhailov  staff   384B Jan  4 23:29 \u001B[34m.\u001B[m\u001B[m\r\n",
      "drwxr-xr-x   5 vladimirmikhailov  staff   160B Dec 29 21:21 \u001B[34m..\u001B[m\u001B[m\r\n",
      "-rw-r--r--@  1 vladimirmikhailov  staff   6.0K Jan  4 04:30 .DS_Store\r\n",
      "drwxr-xr-x   9 vladimirmikhailov  staff   288B Jan  4 15:23 \u001B[34m.git\u001B[m\u001B[m\r\n",
      "-rw-r--r--@  1 vladimirmikhailov  staff    40B Dec 29 21:52 .gitignore\r\n",
      "drwxr-xr-x   8 vladimirmikhailov  staff   256B Dec 31 00:50 \u001B[34m.idea\u001B[m\u001B[m\r\n",
      "-rw-r--r--@  1 vladimirmikhailov  staff   326B Dec 29 21:52 pyvenv.cfg\r\n",
      "-rw-r--r--@  1 vladimirmikhailov  staff   744B Dec 29 21:59 requirements.txt\r\n",
      "drwxrwxr-x  22 vladimirmikhailov  staff   704B Jul 25 14:40 \u001B[34mstudents\u001B[m\u001B[m\r\n",
      "-rw-r--r--@  1 vladimirmikhailov  staff    16K Jan  3 15:52 students.zip\r\n",
      "-rw-r--r--@  1 vladimirmikhailov  staff    16K Jan  4 23:29 students.zip.1\r\n",
      "drwxr-xr-x  13 vladimirmikhailov  staff   416B Jan  4 23:30 \u001B[34mvenv\u001B[m\u001B[m\r\n"
     ]
    }
   ]
  },
  {
   "cell_type": "code",
   "source": [
    "# разархивируем данные\n",
    "!unzip students.zip"
   ],
   "metadata": {
    "id": "xECazP09-iId",
    "ExecuteTime": {
     "end_time": "2024-01-03T12:53:29.727979Z",
     "start_time": "2024-01-03T12:53:29.603624Z"
    }
   },
   "execution_count": 8,
   "outputs": [
    {
     "name": "stdout",
     "output_type": "stream",
     "text": [
      "Archive:  students.zip\r\n",
      "   creating: students/\r\n",
      "  inflating: students/Students_info_0.csv  \r\n",
      "  inflating: students/Students_info_1.csv  \r\n",
      "  inflating: students/Students_info_2.csv  \r\n",
      "  inflating: students/Students_info_3.csv  \r\n",
      "  inflating: students/Students_info_4.csv  \r\n",
      "  inflating: students/Students_info_5.csv  \r\n",
      "  inflating: students/Students_info_6.csv  \r\n",
      "  inflating: students/Students_info_7.csv  \r\n",
      "  inflating: students/Students_info_8.csv  \r\n",
      "  inflating: students/Students_info_9.csv  \r\n",
      "  inflating: students/Students_marks_0.csv  \r\n",
      "  inflating: students/Students_marks_1.csv  \r\n",
      "  inflating: students/Students_marks_2.csv  \r\n",
      "  inflating: students/Students_marks_3.csv  \r\n",
      "  inflating: students/Students_marks_4.csv  \r\n",
      "  inflating: students/Students_marks_5.csv  \r\n",
      "  inflating: students/Students_marks_6.csv  \r\n",
      "  inflating: students/Students_marks_7.csv  \r\n",
      "  inflating: students/Students_marks_8.csv  \r\n",
      "  inflating: students/Students_marks_9.csv  \r\n"
     ]
    }
   ]
  },
  {
   "cell_type": "code",
   "source": [
    "# смотрим что получилось\n",
    "!ls -lah students"
   ],
   "metadata": {
    "id": "m0n50cN0-72n",
    "ExecuteTime": {
     "end_time": "2024-01-09T16:39:49.895245Z",
     "start_time": "2024-01-09T16:39:49.768470Z"
    }
   },
   "execution_count": 2,
   "outputs": [
    {
     "name": "stdout",
     "output_type": "stream",
     "text": [
      "total 240\r\n",
      "drwxrwxr-x  22 vladimirmikhailov  staff   704B Jul 25 14:40 \u001B[34m.\u001B[m\u001B[m\r\n",
      "drwxr-xr-x  12 vladimirmikhailov  staff   384B Jan  4 23:29 \u001B[34m..\u001B[m\u001B[m\r\n",
      "-rw-rw-r--   1 vladimirmikhailov  staff   5.7K Jan 17  2021 Students_info_0.csv\r\n",
      "-rw-rw-r--   1 vladimirmikhailov  staff   5.9K Jan 17  2021 Students_info_1.csv\r\n",
      "-rw-rw-r--   1 vladimirmikhailov  staff   5.8K Jan 17  2021 Students_info_2.csv\r\n",
      "-rw-rw-r--   1 vladimirmikhailov  staff   5.8K Jan 17  2021 Students_info_3.csv\r\n",
      "-rw-rw-r--   1 vladimirmikhailov  staff   5.8K Jan 17  2021 Students_info_4.csv\r\n",
      "-rw-rw-r--   1 vladimirmikhailov  staff   5.9K Jan 17  2021 Students_info_5.csv\r\n",
      "-rw-rw-r--   1 vladimirmikhailov  staff   5.8K Jan 17  2021 Students_info_6.csv\r\n",
      "-rw-rw-r--   1 vladimirmikhailov  staff   5.8K Jan 17  2021 Students_info_7.csv\r\n",
      "-rw-rw-r--   1 vladimirmikhailov  staff   5.8K Jan 17  2021 Students_info_8.csv\r\n",
      "-rw-rw-r--   1 vladimirmikhailov  staff   5.9K Jan 17  2021 Students_info_9.csv\r\n",
      "-rw-rw-r--   1 vladimirmikhailov  staff   1.3K Jan 17  2021 Students_marks_0.csv\r\n",
      "-rw-rw-r--   1 vladimirmikhailov  staff   1.4K Jan 17  2021 Students_marks_1.csv\r\n",
      "-rw-rw-r--   1 vladimirmikhailov  staff   1.4K Jan 17  2021 Students_marks_2.csv\r\n",
      "-rw-rw-r--   1 vladimirmikhailov  staff   1.4K Jan 17  2021 Students_marks_3.csv\r\n",
      "-rw-rw-r--   1 vladimirmikhailov  staff   1.4K Jan 17  2021 Students_marks_4.csv\r\n",
      "-rw-rw-r--   1 vladimirmikhailov  staff   1.4K Jan 17  2021 Students_marks_5.csv\r\n",
      "-rw-rw-r--   1 vladimirmikhailov  staff   1.4K Jan 17  2021 Students_marks_6.csv\r\n",
      "-rw-rw-r--   1 vladimirmikhailov  staff   1.4K Jan 17  2021 Students_marks_7.csv\r\n",
      "-rw-rw-r--   1 vladimirmikhailov  staff   1.4K Jan 17  2021 Students_marks_8.csv\r\n",
      "-rw-rw-r--   1 vladimirmikhailov  staff   1.4K Jan 17  2021 Students_marks_9.csv\r\n"
     ]
    }
   ]
  },
  {
   "cell_type": "markdown",
   "metadata": {
    "id": "3kQnuewfr1C9"
   },
   "source": [
    "### Задание 1"
   ]
  },
  {
   "cell_type": "markdown",
   "source": [
    "Соберите всю информацию о студентах в одну таблицу df. В получившейся таблице должна быть информация и оценки всех студентов из всех групп. Напечатайте несколько строк таблицы для демонстрации результата"
   ],
   "metadata": {
    "id": "0QHaDoSi_OZd"
   }
  },
  {
   "cell_type": "code",
   "execution_count": 3,
   "metadata": {
    "id": "pjzfuMd6r1C9",
    "ExecuteTime": {
     "end_time": "2024-01-09T16:39:56.639888Z",
     "start_time": "2024-01-09T16:39:56.609588Z"
    }
   },
   "outputs": [],
   "source": [
    "def recursive_concat_csv_files(path):\n",
    "    # Initialize empty dataframes for Students and StudentsMark data\n",
    "    students_df = pd.DataFrame()\n",
    "    students_mark_df = pd.DataFrame()\n",
    "\n",
    "    # Define the mask patterns\n",
    "    students_pattern = \"Students_info\"\n",
    "    students_mark_pattern = \"Students_marks\"\n",
    "\n",
    "    # Walk through input directory tree\n",
    "    for root, dirs, files in os.walk(path):\n",
    "        for filename in files:\n",
    "            # Check if the file matches the \"Students_Info\" pattern\n",
    "            if filename.startswith(students_pattern) and filename.endswith(\".csv\"):\n",
    "                file_path = os.path.join(root, filename)\n",
    "                df = pd.read_csv(file_path)\n",
    "                students_df = pd.concat([students_df, df], ignore_index=True)\n",
    "\n",
    "            # Check if the file matches the \"Students_marks\" pattern\n",
    "            if filename.startswith(students_mark_pattern) and filename.endswith(\".csv\"):\n",
    "                file_path = os.path.join(root, filename)\n",
    "                df = pd.read_csv(file_path)\n",
    "                students_mark_df = pd.concat([students_mark_df, df], ignore_index=True)\n",
    "\n",
    "    return students_df, students_mark_df\n",
    "\n",
    "# Provide the path to the root directory where you want to search for CSV files\n",
    "path = \"/Users/vladimirmikhailov/PycharmProjects/lesson1/students\"\n",
    "\n",
    "# Call the function to concatenate CSV files based on the patterns\n",
    "students_data, students_mark_data = recursive_concat_csv_files(path)\n",
    "\n",
    "# Now, you have two dataframes: students_data and students_mark_data\n"
   ]
  },
  {
   "cell_type": "code",
   "outputs": [
    {
     "data": {
      "text/plain": "     index  gender race/ethnicity parental level of education         lunch  \\\n0      100    male        group B                some college      standard   \n1      101    male        group D           bachelor's degree      standard   \n2      102  female        group D          associate's degree      standard   \n3      103    male        group B                 high school      standard   \n4      104    male        group C                some college      standard   \n..     ...     ...            ...                         ...           ...   \n995    995  female        group E             master's degree      standard   \n996    996    male        group C                 high school  free/reduced   \n997    997  female        group C                 high school  free/reduced   \n998    998  female        group D                some college      standard   \n999    999  female        group D                some college  free/reduced   \n\n    test preparation course    group  \n0                      none   group2  \n1                 completed   group2  \n2                      none   group2  \n3                 completed   group2  \n4                 completed   group2  \n..                      ...      ...  \n995               completed  group10  \n996                    none  group10  \n997               completed  group10  \n998               completed  group10  \n999                    none  group10  \n\n[1000 rows x 7 columns]",
      "text/html": "<div>\n<style scoped>\n    .dataframe tbody tr th:only-of-type {\n        vertical-align: middle;\n    }\n\n    .dataframe tbody tr th {\n        vertical-align: top;\n    }\n\n    .dataframe thead th {\n        text-align: right;\n    }\n</style>\n<table border=\"1\" class=\"dataframe\">\n  <thead>\n    <tr style=\"text-align: right;\">\n      <th></th>\n      <th>index</th>\n      <th>gender</th>\n      <th>race/ethnicity</th>\n      <th>parental level of education</th>\n      <th>lunch</th>\n      <th>test preparation course</th>\n      <th>group</th>\n    </tr>\n  </thead>\n  <tbody>\n    <tr>\n      <th>0</th>\n      <td>100</td>\n      <td>male</td>\n      <td>group B</td>\n      <td>some college</td>\n      <td>standard</td>\n      <td>none</td>\n      <td>group2</td>\n    </tr>\n    <tr>\n      <th>1</th>\n      <td>101</td>\n      <td>male</td>\n      <td>group D</td>\n      <td>bachelor's degree</td>\n      <td>standard</td>\n      <td>completed</td>\n      <td>group2</td>\n    </tr>\n    <tr>\n      <th>2</th>\n      <td>102</td>\n      <td>female</td>\n      <td>group D</td>\n      <td>associate's degree</td>\n      <td>standard</td>\n      <td>none</td>\n      <td>group2</td>\n    </tr>\n    <tr>\n      <th>3</th>\n      <td>103</td>\n      <td>male</td>\n      <td>group B</td>\n      <td>high school</td>\n      <td>standard</td>\n      <td>completed</td>\n      <td>group2</td>\n    </tr>\n    <tr>\n      <th>4</th>\n      <td>104</td>\n      <td>male</td>\n      <td>group C</td>\n      <td>some college</td>\n      <td>standard</td>\n      <td>completed</td>\n      <td>group2</td>\n    </tr>\n    <tr>\n      <th>...</th>\n      <td>...</td>\n      <td>...</td>\n      <td>...</td>\n      <td>...</td>\n      <td>...</td>\n      <td>...</td>\n      <td>...</td>\n    </tr>\n    <tr>\n      <th>995</th>\n      <td>995</td>\n      <td>female</td>\n      <td>group E</td>\n      <td>master's degree</td>\n      <td>standard</td>\n      <td>completed</td>\n      <td>group10</td>\n    </tr>\n    <tr>\n      <th>996</th>\n      <td>996</td>\n      <td>male</td>\n      <td>group C</td>\n      <td>high school</td>\n      <td>free/reduced</td>\n      <td>none</td>\n      <td>group10</td>\n    </tr>\n    <tr>\n      <th>997</th>\n      <td>997</td>\n      <td>female</td>\n      <td>group C</td>\n      <td>high school</td>\n      <td>free/reduced</td>\n      <td>completed</td>\n      <td>group10</td>\n    </tr>\n    <tr>\n      <th>998</th>\n      <td>998</td>\n      <td>female</td>\n      <td>group D</td>\n      <td>some college</td>\n      <td>standard</td>\n      <td>completed</td>\n      <td>group10</td>\n    </tr>\n    <tr>\n      <th>999</th>\n      <td>999</td>\n      <td>female</td>\n      <td>group D</td>\n      <td>some college</td>\n      <td>free/reduced</td>\n      <td>none</td>\n      <td>group10</td>\n    </tr>\n  </tbody>\n</table>\n<p>1000 rows × 7 columns</p>\n</div>"
     },
     "execution_count": 4,
     "metadata": {},
     "output_type": "execute_result"
    }
   ],
   "source": [
    "students_data\n"
   ],
   "metadata": {
    "collapsed": false,
    "ExecuteTime": {
     "end_time": "2024-01-09T16:39:58.293256Z",
     "start_time": "2024-01-09T16:39:58.263621Z"
    }
   },
   "execution_count": 4
  },
  {
   "cell_type": "code",
   "outputs": [
    {
     "data": {
      "text/plain": "     index  math score  reading score  writing score\n0      100          79             67             67\n1      101          68             74             74\n2      102          85             91             89\n3      103          60             44             47\n4      104          98             86             90\n..     ...         ...            ...            ...\n995    995          88             99             95\n996    996          62             55             55\n997    997          59             71             65\n998    998          68             78             77\n999    999          77             86             86\n\n[1000 rows x 4 columns]",
      "text/html": "<div>\n<style scoped>\n    .dataframe tbody tr th:only-of-type {\n        vertical-align: middle;\n    }\n\n    .dataframe tbody tr th {\n        vertical-align: top;\n    }\n\n    .dataframe thead th {\n        text-align: right;\n    }\n</style>\n<table border=\"1\" class=\"dataframe\">\n  <thead>\n    <tr style=\"text-align: right;\">\n      <th></th>\n      <th>index</th>\n      <th>math score</th>\n      <th>reading score</th>\n      <th>writing score</th>\n    </tr>\n  </thead>\n  <tbody>\n    <tr>\n      <th>0</th>\n      <td>100</td>\n      <td>79</td>\n      <td>67</td>\n      <td>67</td>\n    </tr>\n    <tr>\n      <th>1</th>\n      <td>101</td>\n      <td>68</td>\n      <td>74</td>\n      <td>74</td>\n    </tr>\n    <tr>\n      <th>2</th>\n      <td>102</td>\n      <td>85</td>\n      <td>91</td>\n      <td>89</td>\n    </tr>\n    <tr>\n      <th>3</th>\n      <td>103</td>\n      <td>60</td>\n      <td>44</td>\n      <td>47</td>\n    </tr>\n    <tr>\n      <th>4</th>\n      <td>104</td>\n      <td>98</td>\n      <td>86</td>\n      <td>90</td>\n    </tr>\n    <tr>\n      <th>...</th>\n      <td>...</td>\n      <td>...</td>\n      <td>...</td>\n      <td>...</td>\n    </tr>\n    <tr>\n      <th>995</th>\n      <td>995</td>\n      <td>88</td>\n      <td>99</td>\n      <td>95</td>\n    </tr>\n    <tr>\n      <th>996</th>\n      <td>996</td>\n      <td>62</td>\n      <td>55</td>\n      <td>55</td>\n    </tr>\n    <tr>\n      <th>997</th>\n      <td>997</td>\n      <td>59</td>\n      <td>71</td>\n      <td>65</td>\n    </tr>\n    <tr>\n      <th>998</th>\n      <td>998</td>\n      <td>68</td>\n      <td>78</td>\n      <td>77</td>\n    </tr>\n    <tr>\n      <th>999</th>\n      <td>999</td>\n      <td>77</td>\n      <td>86</td>\n      <td>86</td>\n    </tr>\n  </tbody>\n</table>\n<p>1000 rows × 4 columns</p>\n</div>"
     },
     "execution_count": 5,
     "metadata": {},
     "output_type": "execute_result"
    }
   ],
   "source": [
    "students_mark_data"
   ],
   "metadata": {
    "collapsed": false,
    "ExecuteTime": {
     "end_time": "2024-01-09T16:40:04.797717Z",
     "start_time": "2024-01-09T16:40:04.769375Z"
    }
   },
   "execution_count": 5
  },
  {
   "cell_type": "code",
   "outputs": [
    {
     "data": {
      "text/plain": "(1000, 7)"
     },
     "execution_count": 6,
     "metadata": {},
     "output_type": "execute_result"
    }
   ],
   "source": [
    "students_data.shape"
   ],
   "metadata": {
    "collapsed": false,
    "ExecuteTime": {
     "end_time": "2024-01-09T16:40:12.182245Z",
     "start_time": "2024-01-09T16:40:12.173257Z"
    }
   },
   "execution_count": 6
  },
  {
   "cell_type": "code",
   "outputs": [
    {
     "data": {
      "text/plain": "(1000, 4)"
     },
     "execution_count": 7,
     "metadata": {},
     "output_type": "execute_result"
    }
   ],
   "source": [
    "students_mark_data.shape"
   ],
   "metadata": {
    "collapsed": false,
    "ExecuteTime": {
     "end_time": "2024-01-09T16:40:13.097886Z",
     "start_time": "2024-01-09T16:40:13.087800Z"
    }
   },
   "execution_count": 7
  },
  {
   "cell_type": "code",
   "outputs": [],
   "source": [
    "general_df = pd.merge(students_data, students_mark_data, on='index', how='outer')"
   ],
   "metadata": {
    "collapsed": false,
    "ExecuteTime": {
     "end_time": "2024-01-09T16:40:17.487905Z",
     "start_time": "2024-01-09T16:40:17.479421Z"
    }
   },
   "execution_count": 8
  },
  {
   "cell_type": "code",
   "outputs": [
    {
     "data": {
      "text/plain": "     index  gender race/ethnicity parental level of education         lunch  \\\n0      100    male        group B                some college      standard   \n1      101    male        group D           bachelor's degree      standard   \n2      102  female        group D          associate's degree      standard   \n3      103    male        group B                 high school      standard   \n4      104    male        group C                some college      standard   \n..     ...     ...            ...                         ...           ...   \n995    995  female        group E             master's degree      standard   \n996    996    male        group C                 high school  free/reduced   \n997    997  female        group C                 high school  free/reduced   \n998    998  female        group D                some college      standard   \n999    999  female        group D                some college  free/reduced   \n\n    test preparation course    group  math score  reading score  writing score  \n0                      none   group2          79             67             67  \n1                 completed   group2          68             74             74  \n2                      none   group2          85             91             89  \n3                 completed   group2          60             44             47  \n4                 completed   group2          98             86             90  \n..                      ...      ...         ...            ...            ...  \n995               completed  group10          88             99             95  \n996                    none  group10          62             55             55  \n997               completed  group10          59             71             65  \n998               completed  group10          68             78             77  \n999                    none  group10          77             86             86  \n\n[1000 rows x 10 columns]",
      "text/html": "<div>\n<style scoped>\n    .dataframe tbody tr th:only-of-type {\n        vertical-align: middle;\n    }\n\n    .dataframe tbody tr th {\n        vertical-align: top;\n    }\n\n    .dataframe thead th {\n        text-align: right;\n    }\n</style>\n<table border=\"1\" class=\"dataframe\">\n  <thead>\n    <tr style=\"text-align: right;\">\n      <th></th>\n      <th>index</th>\n      <th>gender</th>\n      <th>race/ethnicity</th>\n      <th>parental level of education</th>\n      <th>lunch</th>\n      <th>test preparation course</th>\n      <th>group</th>\n      <th>math score</th>\n      <th>reading score</th>\n      <th>writing score</th>\n    </tr>\n  </thead>\n  <tbody>\n    <tr>\n      <th>0</th>\n      <td>100</td>\n      <td>male</td>\n      <td>group B</td>\n      <td>some college</td>\n      <td>standard</td>\n      <td>none</td>\n      <td>group2</td>\n      <td>79</td>\n      <td>67</td>\n      <td>67</td>\n    </tr>\n    <tr>\n      <th>1</th>\n      <td>101</td>\n      <td>male</td>\n      <td>group D</td>\n      <td>bachelor's degree</td>\n      <td>standard</td>\n      <td>completed</td>\n      <td>group2</td>\n      <td>68</td>\n      <td>74</td>\n      <td>74</td>\n    </tr>\n    <tr>\n      <th>2</th>\n      <td>102</td>\n      <td>female</td>\n      <td>group D</td>\n      <td>associate's degree</td>\n      <td>standard</td>\n      <td>none</td>\n      <td>group2</td>\n      <td>85</td>\n      <td>91</td>\n      <td>89</td>\n    </tr>\n    <tr>\n      <th>3</th>\n      <td>103</td>\n      <td>male</td>\n      <td>group B</td>\n      <td>high school</td>\n      <td>standard</td>\n      <td>completed</td>\n      <td>group2</td>\n      <td>60</td>\n      <td>44</td>\n      <td>47</td>\n    </tr>\n    <tr>\n      <th>4</th>\n      <td>104</td>\n      <td>male</td>\n      <td>group C</td>\n      <td>some college</td>\n      <td>standard</td>\n      <td>completed</td>\n      <td>group2</td>\n      <td>98</td>\n      <td>86</td>\n      <td>90</td>\n    </tr>\n    <tr>\n      <th>...</th>\n      <td>...</td>\n      <td>...</td>\n      <td>...</td>\n      <td>...</td>\n      <td>...</td>\n      <td>...</td>\n      <td>...</td>\n      <td>...</td>\n      <td>...</td>\n      <td>...</td>\n    </tr>\n    <tr>\n      <th>995</th>\n      <td>995</td>\n      <td>female</td>\n      <td>group E</td>\n      <td>master's degree</td>\n      <td>standard</td>\n      <td>completed</td>\n      <td>group10</td>\n      <td>88</td>\n      <td>99</td>\n      <td>95</td>\n    </tr>\n    <tr>\n      <th>996</th>\n      <td>996</td>\n      <td>male</td>\n      <td>group C</td>\n      <td>high school</td>\n      <td>free/reduced</td>\n      <td>none</td>\n      <td>group10</td>\n      <td>62</td>\n      <td>55</td>\n      <td>55</td>\n    </tr>\n    <tr>\n      <th>997</th>\n      <td>997</td>\n      <td>female</td>\n      <td>group C</td>\n      <td>high school</td>\n      <td>free/reduced</td>\n      <td>completed</td>\n      <td>group10</td>\n      <td>59</td>\n      <td>71</td>\n      <td>65</td>\n    </tr>\n    <tr>\n      <th>998</th>\n      <td>998</td>\n      <td>female</td>\n      <td>group D</td>\n      <td>some college</td>\n      <td>standard</td>\n      <td>completed</td>\n      <td>group10</td>\n      <td>68</td>\n      <td>78</td>\n      <td>77</td>\n    </tr>\n    <tr>\n      <th>999</th>\n      <td>999</td>\n      <td>female</td>\n      <td>group D</td>\n      <td>some college</td>\n      <td>free/reduced</td>\n      <td>none</td>\n      <td>group10</td>\n      <td>77</td>\n      <td>86</td>\n      <td>86</td>\n    </tr>\n  </tbody>\n</table>\n<p>1000 rows × 10 columns</p>\n</div>"
     },
     "execution_count": 9,
     "metadata": {},
     "output_type": "execute_result"
    }
   ],
   "source": [
    "general_df"
   ],
   "metadata": {
    "collapsed": false,
    "ExecuteTime": {
     "end_time": "2024-01-09T16:40:18.803626Z",
     "start_time": "2024-01-09T16:40:18.769072Z"
    }
   },
   "execution_count": 9
  },
  {
   "cell_type": "markdown",
   "metadata": {
    "_uuid": "8524af4cbd2f7b7810e8a3095a74c9fe1df7eafa",
    "id": "YaAQdtmer1C-"
   },
   "source": [
    "### Задание 2"
   ]
  },
  {
   "cell_type": "markdown",
   "source": [
    "Удалите столбец index у полученной таблицы. Напечатайте первые 10 строк таблицы"
   ],
   "metadata": {
    "id": "mrtj9C2l_TVv"
   }
  },
  {
   "cell_type": "code",
   "execution_count": 10,
   "metadata": {
    "_uuid": "fe62eee87b9b94ab923f57b55eaf0554612aa9e9",
    "id": "QbZjjfk2r1C-",
    "ExecuteTime": {
     "end_time": "2024-01-09T16:40:43.096990Z",
     "start_time": "2024-01-09T16:40:43.089540Z"
    }
   },
   "outputs": [
    {
     "data": {
      "text/plain": "   gender race/ethnicity parental level of education         lunch  \\\n0    male        group B                some college      standard   \n1    male        group D           bachelor's degree      standard   \n2  female        group D          associate's degree      standard   \n3    male        group B                 high school      standard   \n4    male        group C                some college      standard   \n5  female        group C                some college      standard   \n6  female        group D             master's degree      standard   \n7    male        group E          associate's degree      standard   \n8  female        group B          associate's degree  free/reduced   \n9  female        group B            some high school      standard   \n\n  test preparation course   group  math score  reading score  writing score  \n0                    none  group2          79             67             67  \n1               completed  group2          68             74             74  \n2                    none  group2          85             91             89  \n3               completed  group2          60             44             47  \n4               completed  group2          98             86             90  \n5                    none  group2          58             67             72  \n6                    none  group2          87            100            100  \n7               completed  group2          66             63             64  \n8                    none  group2          52             76             70  \n9                    none  group2          70             64             72  ",
      "text/html": "<div>\n<style scoped>\n    .dataframe tbody tr th:only-of-type {\n        vertical-align: middle;\n    }\n\n    .dataframe tbody tr th {\n        vertical-align: top;\n    }\n\n    .dataframe thead th {\n        text-align: right;\n    }\n</style>\n<table border=\"1\" class=\"dataframe\">\n  <thead>\n    <tr style=\"text-align: right;\">\n      <th></th>\n      <th>gender</th>\n      <th>race/ethnicity</th>\n      <th>parental level of education</th>\n      <th>lunch</th>\n      <th>test preparation course</th>\n      <th>group</th>\n      <th>math score</th>\n      <th>reading score</th>\n      <th>writing score</th>\n    </tr>\n  </thead>\n  <tbody>\n    <tr>\n      <th>0</th>\n      <td>male</td>\n      <td>group B</td>\n      <td>some college</td>\n      <td>standard</td>\n      <td>none</td>\n      <td>group2</td>\n      <td>79</td>\n      <td>67</td>\n      <td>67</td>\n    </tr>\n    <tr>\n      <th>1</th>\n      <td>male</td>\n      <td>group D</td>\n      <td>bachelor's degree</td>\n      <td>standard</td>\n      <td>completed</td>\n      <td>group2</td>\n      <td>68</td>\n      <td>74</td>\n      <td>74</td>\n    </tr>\n    <tr>\n      <th>2</th>\n      <td>female</td>\n      <td>group D</td>\n      <td>associate's degree</td>\n      <td>standard</td>\n      <td>none</td>\n      <td>group2</td>\n      <td>85</td>\n      <td>91</td>\n      <td>89</td>\n    </tr>\n    <tr>\n      <th>3</th>\n      <td>male</td>\n      <td>group B</td>\n      <td>high school</td>\n      <td>standard</td>\n      <td>completed</td>\n      <td>group2</td>\n      <td>60</td>\n      <td>44</td>\n      <td>47</td>\n    </tr>\n    <tr>\n      <th>4</th>\n      <td>male</td>\n      <td>group C</td>\n      <td>some college</td>\n      <td>standard</td>\n      <td>completed</td>\n      <td>group2</td>\n      <td>98</td>\n      <td>86</td>\n      <td>90</td>\n    </tr>\n    <tr>\n      <th>5</th>\n      <td>female</td>\n      <td>group C</td>\n      <td>some college</td>\n      <td>standard</td>\n      <td>none</td>\n      <td>group2</td>\n      <td>58</td>\n      <td>67</td>\n      <td>72</td>\n    </tr>\n    <tr>\n      <th>6</th>\n      <td>female</td>\n      <td>group D</td>\n      <td>master's degree</td>\n      <td>standard</td>\n      <td>none</td>\n      <td>group2</td>\n      <td>87</td>\n      <td>100</td>\n      <td>100</td>\n    </tr>\n    <tr>\n      <th>7</th>\n      <td>male</td>\n      <td>group E</td>\n      <td>associate's degree</td>\n      <td>standard</td>\n      <td>completed</td>\n      <td>group2</td>\n      <td>66</td>\n      <td>63</td>\n      <td>64</td>\n    </tr>\n    <tr>\n      <th>8</th>\n      <td>female</td>\n      <td>group B</td>\n      <td>associate's degree</td>\n      <td>free/reduced</td>\n      <td>none</td>\n      <td>group2</td>\n      <td>52</td>\n      <td>76</td>\n      <td>70</td>\n    </tr>\n    <tr>\n      <th>9</th>\n      <td>female</td>\n      <td>group B</td>\n      <td>some high school</td>\n      <td>standard</td>\n      <td>none</td>\n      <td>group2</td>\n      <td>70</td>\n      <td>64</td>\n      <td>72</td>\n    </tr>\n  </tbody>\n</table>\n</div>"
     },
     "execution_count": 10,
     "metadata": {},
     "output_type": "execute_result"
    }
   ],
   "source": [
    "general_df.drop('index', axis=1, inplace=True)\n",
    "general_df.head(10)\n"
   ]
  },
  {
   "cell_type": "markdown",
   "metadata": {
    "_uuid": "5fcd622942b7ecfc318934c6a245d3bb3bf01e84",
    "id": "gLnD6YPkr1C-"
   },
   "source": [
    "### Задание 3"
   ]
  },
  {
   "cell_type": "markdown",
   "source": [
    "Выведите на экран размеры полученной таблицы"
   ],
   "metadata": {
    "id": "iSS1wJLqKoBm"
   }
  },
  {
   "cell_type": "code",
   "execution_count": 11,
   "metadata": {
    "_uuid": "16281cd7b4e941ebed8ca2e1b42f62f55d838684",
    "id": "iQQlxhAJr1C-",
    "ExecuteTime": {
     "end_time": "2024-01-09T16:40:51.633539Z",
     "start_time": "2024-01-09T16:40:51.620168Z"
    }
   },
   "outputs": [
    {
     "data": {
      "text/plain": "(1000, 9)"
     },
     "execution_count": 11,
     "metadata": {},
     "output_type": "execute_result"
    }
   ],
   "source": [
    "general_df.shape"
   ]
  },
  {
   "cell_type": "markdown",
   "metadata": {
    "_uuid": "fe8e3d58d29ca25dbbcf001392377643e6ff9a36",
    "id": "i4C0EUhTr1C-"
   },
   "source": [
    "### Задание 4"
   ]
  },
  {
   "cell_type": "markdown",
   "source": [
    "Выведите на экран статистические характеристики числовых столбцов таблицы (минимум, максимум, среднее значение, стандартное отклонение)"
   ],
   "metadata": {
    "id": "XKhfHhnuKq4m"
   }
  },
  {
   "cell_type": "code",
   "execution_count": 12,
   "metadata": {
    "_uuid": "e3d4bb80d2c4251fe517c24fcf08c5ff2d67b8aa",
    "id": "twppg5yZr1C-",
    "ExecuteTime": {
     "end_time": "2024-01-09T16:40:59.227916Z",
     "start_time": "2024-01-09T16:40:59.193049Z"
    }
   },
   "outputs": [
    {
     "data": {
      "text/plain": "                count    mean        std   min    25%   50%   75%    max\nmath score     1000.0  66.089  15.163080   0.0  57.00  66.0  77.0  100.0\nreading score  1000.0  69.169  14.600192  17.0  59.00  70.0  79.0  100.0\nwriting score  1000.0  68.054  15.195657  10.0  57.75  69.0  79.0  100.0",
      "text/html": "<div>\n<style scoped>\n    .dataframe tbody tr th:only-of-type {\n        vertical-align: middle;\n    }\n\n    .dataframe tbody tr th {\n        vertical-align: top;\n    }\n\n    .dataframe thead th {\n        text-align: right;\n    }\n</style>\n<table border=\"1\" class=\"dataframe\">\n  <thead>\n    <tr style=\"text-align: right;\">\n      <th></th>\n      <th>count</th>\n      <th>mean</th>\n      <th>std</th>\n      <th>min</th>\n      <th>25%</th>\n      <th>50%</th>\n      <th>75%</th>\n      <th>max</th>\n    </tr>\n  </thead>\n  <tbody>\n    <tr>\n      <th>math score</th>\n      <td>1000.0</td>\n      <td>66.089</td>\n      <td>15.163080</td>\n      <td>0.0</td>\n      <td>57.00</td>\n      <td>66.0</td>\n      <td>77.0</td>\n      <td>100.0</td>\n    </tr>\n    <tr>\n      <th>reading score</th>\n      <td>1000.0</td>\n      <td>69.169</td>\n      <td>14.600192</td>\n      <td>17.0</td>\n      <td>59.00</td>\n      <td>70.0</td>\n      <td>79.0</td>\n      <td>100.0</td>\n    </tr>\n    <tr>\n      <th>writing score</th>\n      <td>1000.0</td>\n      <td>68.054</td>\n      <td>15.195657</td>\n      <td>10.0</td>\n      <td>57.75</td>\n      <td>69.0</td>\n      <td>79.0</td>\n      <td>100.0</td>\n    </tr>\n  </tbody>\n</table>\n</div>"
     },
     "execution_count": 12,
     "metadata": {},
     "output_type": "execute_result"
    }
   ],
   "source": [
    "general_df.describe().transpose()"
   ]
  },
  {
   "cell_type": "code",
   "outputs": [
    {
     "data": {
      "text/plain": "gender                         object\nrace/ethnicity                 object\nparental level of education    object\nlunch                          object\ntest preparation course        object\ngroup                          object\nmath score                      int64\nreading score                   int64\nwriting score                   int64\ndtype: object"
     },
     "execution_count": 13,
     "metadata": {},
     "output_type": "execute_result"
    }
   ],
   "source": [
    "general_df.dtypes"
   ],
   "metadata": {
    "collapsed": false,
    "ExecuteTime": {
     "end_time": "2024-01-09T16:43:06.238188Z",
     "start_time": "2024-01-09T16:43:06.224890Z"
    }
   },
   "execution_count": 13
  },
  {
   "cell_type": "code",
   "outputs": [],
   "source": [
    "def convert_object_to_category_with_coerce(df):\n",
    "\n",
    "    converted_df = df.copy()  # Create a copy of the input DataFrame (to avoid modifying it in-place)\n",
    "\n",
    "    for col in converted_df.columns:\n",
    "        if converted_df[col].dtype == 'object':\n",
    "            try:\n",
    "                converted_df[col] = converted_df[col].astype('category', errors='coerce')\n",
    "            except ValueError:\n",
    "                # Handling conversion errors, if any = just a stub yet\n",
    "                pass\n",
    "\n",
    "    return converted_df"
   ],
   "metadata": {
    "collapsed": false,
    "ExecuteTime": {
     "end_time": "2024-01-09T16:43:10.113487Z",
     "start_time": "2024-01-09T16:43:10.093692Z"
    }
   },
   "execution_count": 14
  },
  {
   "cell_type": "code",
   "outputs": [],
   "source": [
    "df = convert_object_to_category_with_coerce(general_df)"
   ],
   "metadata": {
    "collapsed": false,
    "ExecuteTime": {
     "end_time": "2024-01-09T16:43:12.138550Z",
     "start_time": "2024-01-09T16:43:12.130737Z"
    }
   },
   "execution_count": 15
  },
  {
   "cell_type": "code",
   "outputs": [
    {
     "data": {
      "text/plain": "     gender race/ethnicity parental level of education         lunch  \\\n0      male        group B                some college      standard   \n1      male        group D           bachelor's degree      standard   \n2    female        group D          associate's degree      standard   \n3      male        group B                 high school      standard   \n4      male        group C                some college      standard   \n..      ...            ...                         ...           ...   \n995  female        group E             master's degree      standard   \n996    male        group C                 high school  free/reduced   \n997  female        group C                 high school  free/reduced   \n998  female        group D                some college      standard   \n999  female        group D                some college  free/reduced   \n\n    test preparation course    group  math score  reading score  writing score  \n0                      none   group2          79             67             67  \n1                 completed   group2          68             74             74  \n2                      none   group2          85             91             89  \n3                 completed   group2          60             44             47  \n4                 completed   group2          98             86             90  \n..                      ...      ...         ...            ...            ...  \n995               completed  group10          88             99             95  \n996                    none  group10          62             55             55  \n997               completed  group10          59             71             65  \n998               completed  group10          68             78             77  \n999                    none  group10          77             86             86  \n\n[1000 rows x 9 columns]",
      "text/html": "<div>\n<style scoped>\n    .dataframe tbody tr th:only-of-type {\n        vertical-align: middle;\n    }\n\n    .dataframe tbody tr th {\n        vertical-align: top;\n    }\n\n    .dataframe thead th {\n        text-align: right;\n    }\n</style>\n<table border=\"1\" class=\"dataframe\">\n  <thead>\n    <tr style=\"text-align: right;\">\n      <th></th>\n      <th>gender</th>\n      <th>race/ethnicity</th>\n      <th>parental level of education</th>\n      <th>lunch</th>\n      <th>test preparation course</th>\n      <th>group</th>\n      <th>math score</th>\n      <th>reading score</th>\n      <th>writing score</th>\n    </tr>\n  </thead>\n  <tbody>\n    <tr>\n      <th>0</th>\n      <td>male</td>\n      <td>group B</td>\n      <td>some college</td>\n      <td>standard</td>\n      <td>none</td>\n      <td>group2</td>\n      <td>79</td>\n      <td>67</td>\n      <td>67</td>\n    </tr>\n    <tr>\n      <th>1</th>\n      <td>male</td>\n      <td>group D</td>\n      <td>bachelor's degree</td>\n      <td>standard</td>\n      <td>completed</td>\n      <td>group2</td>\n      <td>68</td>\n      <td>74</td>\n      <td>74</td>\n    </tr>\n    <tr>\n      <th>2</th>\n      <td>female</td>\n      <td>group D</td>\n      <td>associate's degree</td>\n      <td>standard</td>\n      <td>none</td>\n      <td>group2</td>\n      <td>85</td>\n      <td>91</td>\n      <td>89</td>\n    </tr>\n    <tr>\n      <th>3</th>\n      <td>male</td>\n      <td>group B</td>\n      <td>high school</td>\n      <td>standard</td>\n      <td>completed</td>\n      <td>group2</td>\n      <td>60</td>\n      <td>44</td>\n      <td>47</td>\n    </tr>\n    <tr>\n      <th>4</th>\n      <td>male</td>\n      <td>group C</td>\n      <td>some college</td>\n      <td>standard</td>\n      <td>completed</td>\n      <td>group2</td>\n      <td>98</td>\n      <td>86</td>\n      <td>90</td>\n    </tr>\n    <tr>\n      <th>...</th>\n      <td>...</td>\n      <td>...</td>\n      <td>...</td>\n      <td>...</td>\n      <td>...</td>\n      <td>...</td>\n      <td>...</td>\n      <td>...</td>\n      <td>...</td>\n    </tr>\n    <tr>\n      <th>995</th>\n      <td>female</td>\n      <td>group E</td>\n      <td>master's degree</td>\n      <td>standard</td>\n      <td>completed</td>\n      <td>group10</td>\n      <td>88</td>\n      <td>99</td>\n      <td>95</td>\n    </tr>\n    <tr>\n      <th>996</th>\n      <td>male</td>\n      <td>group C</td>\n      <td>high school</td>\n      <td>free/reduced</td>\n      <td>none</td>\n      <td>group10</td>\n      <td>62</td>\n      <td>55</td>\n      <td>55</td>\n    </tr>\n    <tr>\n      <th>997</th>\n      <td>female</td>\n      <td>group C</td>\n      <td>high school</td>\n      <td>free/reduced</td>\n      <td>completed</td>\n      <td>group10</td>\n      <td>59</td>\n      <td>71</td>\n      <td>65</td>\n    </tr>\n    <tr>\n      <th>998</th>\n      <td>female</td>\n      <td>group D</td>\n      <td>some college</td>\n      <td>standard</td>\n      <td>completed</td>\n      <td>group10</td>\n      <td>68</td>\n      <td>78</td>\n      <td>77</td>\n    </tr>\n    <tr>\n      <th>999</th>\n      <td>female</td>\n      <td>group D</td>\n      <td>some college</td>\n      <td>free/reduced</td>\n      <td>none</td>\n      <td>group10</td>\n      <td>77</td>\n      <td>86</td>\n      <td>86</td>\n    </tr>\n  </tbody>\n</table>\n<p>1000 rows × 9 columns</p>\n</div>"
     },
     "execution_count": 16,
     "metadata": {},
     "output_type": "execute_result"
    }
   ],
   "source": [
    "df"
   ],
   "metadata": {
    "collapsed": false,
    "ExecuteTime": {
     "end_time": "2024-01-09T16:43:13.453386Z",
     "start_time": "2024-01-09T16:43:13.448210Z"
    }
   },
   "execution_count": 16
  },
  {
   "cell_type": "code",
   "outputs": [
    {
     "data": {
      "text/plain": "gender                         object\nrace/ethnicity                 object\nparental level of education    object\nlunch                          object\ntest preparation course        object\ngroup                          object\nmath score                      int64\nreading score                   int64\nwriting score                   int64\ndtype: object"
     },
     "execution_count": 17,
     "metadata": {},
     "output_type": "execute_result"
    }
   ],
   "source": [
    "df.dtypes"
   ],
   "metadata": {
    "collapsed": false,
    "ExecuteTime": {
     "end_time": "2024-01-09T16:43:15.892536Z",
     "start_time": "2024-01-09T16:43:15.871881Z"
    }
   },
   "execution_count": 17
  },
  {
   "cell_type": "code",
   "outputs": [
    {
     "data": {
      "text/plain": "gender                          2\nrace/ethnicity                  5\nparental level of education     6\nlunch                           2\ntest preparation course         2\ngroup                          10\nmath score                     81\nreading score                  72\nwriting score                  77\ndtype: int64"
     },
     "execution_count": 18,
     "metadata": {},
     "output_type": "execute_result"
    }
   ],
   "source": [
    "df.nunique()"
   ],
   "metadata": {
    "collapsed": false,
    "ExecuteTime": {
     "end_time": "2024-01-09T16:43:22.756781Z",
     "start_time": "2024-01-09T16:43:22.748268Z"
    }
   },
   "execution_count": 18
  },
  {
   "cell_type": "code",
   "outputs": [
    {
     "data": {
      "text/plain": "     gender race/ethnicity parental level of education     lunch  \\\n836    male        group E                 high school  standard   \n962  female        group E          associate's degree  standard   \n333    male        group B          associate's degree  standard   \n783  female        group D          associate's degree  standard   \n202    male        group C          associate's degree  standard   \n\n    test preparation course    group  math score  reading score  writing score  \n836                    none   group9          73             64             57  \n962                    none  group10         100            100            100  \n333                    none   group4          90             78             81  \n783               completed   group6          73             75             80  \n202                    none   group3          69             77             69  ",
      "text/html": "<div>\n<style scoped>\n    .dataframe tbody tr th:only-of-type {\n        vertical-align: middle;\n    }\n\n    .dataframe tbody tr th {\n        vertical-align: top;\n    }\n\n    .dataframe thead th {\n        text-align: right;\n    }\n</style>\n<table border=\"1\" class=\"dataframe\">\n  <thead>\n    <tr style=\"text-align: right;\">\n      <th></th>\n      <th>gender</th>\n      <th>race/ethnicity</th>\n      <th>parental level of education</th>\n      <th>lunch</th>\n      <th>test preparation course</th>\n      <th>group</th>\n      <th>math score</th>\n      <th>reading score</th>\n      <th>writing score</th>\n    </tr>\n  </thead>\n  <tbody>\n    <tr>\n      <th>836</th>\n      <td>male</td>\n      <td>group E</td>\n      <td>high school</td>\n      <td>standard</td>\n      <td>none</td>\n      <td>group9</td>\n      <td>73</td>\n      <td>64</td>\n      <td>57</td>\n    </tr>\n    <tr>\n      <th>962</th>\n      <td>female</td>\n      <td>group E</td>\n      <td>associate's degree</td>\n      <td>standard</td>\n      <td>none</td>\n      <td>group10</td>\n      <td>100</td>\n      <td>100</td>\n      <td>100</td>\n    </tr>\n    <tr>\n      <th>333</th>\n      <td>male</td>\n      <td>group B</td>\n      <td>associate's degree</td>\n      <td>standard</td>\n      <td>none</td>\n      <td>group4</td>\n      <td>90</td>\n      <td>78</td>\n      <td>81</td>\n    </tr>\n    <tr>\n      <th>783</th>\n      <td>female</td>\n      <td>group D</td>\n      <td>associate's degree</td>\n      <td>standard</td>\n      <td>completed</td>\n      <td>group6</td>\n      <td>73</td>\n      <td>75</td>\n      <td>80</td>\n    </tr>\n    <tr>\n      <th>202</th>\n      <td>male</td>\n      <td>group C</td>\n      <td>associate's degree</td>\n      <td>standard</td>\n      <td>none</td>\n      <td>group3</td>\n      <td>69</td>\n      <td>77</td>\n      <td>69</td>\n    </tr>\n  </tbody>\n</table>\n</div>"
     },
     "execution_count": 19,
     "metadata": {},
     "output_type": "execute_result"
    }
   ],
   "source": [
    "df.sample(5)"
   ],
   "metadata": {
    "collapsed": false,
    "ExecuteTime": {
     "end_time": "2024-01-09T16:43:29.603691Z",
     "start_time": "2024-01-09T16:43:29.596866Z"
    }
   },
   "execution_count": 19
  },
  {
   "cell_type": "code",
   "outputs": [],
   "source": [
    "# df['gender'] = df['gender'].astype('category')\n",
    "# df['race'] = df['race/ethnicity'].astype('category')\n",
    "# df['parent_ed_level'] = df['parental level of education'].astype('category')\n",
    "# df['lunch'] = df['lunch'].astype('category')\n",
    "# df['test_prep'] = df['test preparation course'].astype('category')\n",
    "# df['group'] = df['group'].astype('category')"
   ],
   "metadata": {
    "collapsed": false,
    "ExecuteTime": {
     "end_time": "2024-01-03T13:34:18.909326Z",
     "start_time": "2024-01-03T13:34:18.893869Z"
    }
   },
   "execution_count": 45
  },
  {
   "cell_type": "code",
   "outputs": [],
   "source": [
    "# df.dtypes"
   ],
   "metadata": {
    "collapsed": false,
    "ExecuteTime": {
     "end_time": "2024-01-03T16:05:58.043921Z",
     "start_time": "2024-01-03T16:05:58.041472Z"
    }
   },
   "execution_count": 87
  },
  {
   "cell_type": "markdown",
   "metadata": {
    "_uuid": "b26b7de83485ecb3b8a0a7865a596e24527c7b2f",
    "id": "BhS_xiIDr1C_"
   },
   "source": [
    "### Задание 5"
   ]
  },
  {
   "cell_type": "markdown",
   "source": [
    "Проверьте, есть ли в таблице пропущенные значения"
   ],
   "metadata": {
    "id": "utIlUSPeKvnJ"
   }
  },
  {
   "cell_type": "code",
   "execution_count": 21,
   "metadata": {
    "_uuid": "4eac3f8f83d07c6e58ad1576fe0e773f37034a2f",
    "id": "TXlZ2JKZr1C_",
    "ExecuteTime": {
     "end_time": "2024-01-05T12:15:40.269702Z",
     "start_time": "2024-01-05T12:15:40.248859Z"
    }
   },
   "outputs": [
    {
     "name": "stdout",
     "output_type": "stream",
     "text": [
      "<class 'pandas.core.frame.DataFrame'>\n",
      "RangeIndex: 1000 entries, 0 to 999\n",
      "Data columns (total 9 columns):\n",
      " #   Column                       Non-Null Count  Dtype \n",
      "---  ------                       --------------  ----- \n",
      " 0   gender                       1000 non-null   object\n",
      " 1   race/ethnicity               1000 non-null   object\n",
      " 2   parental level of education  1000 non-null   object\n",
      " 3   lunch                        1000 non-null   object\n",
      " 4   test preparation course      1000 non-null   object\n",
      " 5   group                        1000 non-null   object\n",
      " 6   math score                   1000 non-null   int64 \n",
      " 7   reading score                1000 non-null   int64 \n",
      " 8   writing score                1000 non-null   int64 \n",
      "dtypes: int64(3), object(6)\n",
      "memory usage: 70.4+ KB\n"
     ]
    }
   ],
   "source": [
    "df.info()"
   ]
  },
  {
   "cell_type": "code",
   "outputs": [
    {
     "data": {
      "text/plain": "gender                         0\nrace/ethnicity                 0\nparental level of education    0\nlunch                          0\ntest preparation course        0\ngroup                          0\nmath score                     0\nreading score                  0\nwriting score                  0\ndtype: int64"
     },
     "execution_count": 20,
     "metadata": {},
     "output_type": "execute_result"
    }
   ],
   "source": [
    "df.isna().sum()"
   ],
   "metadata": {
    "collapsed": false,
    "ExecuteTime": {
     "end_time": "2024-01-09T16:43:51.843323Z",
     "start_time": "2024-01-09T16:43:51.836079Z"
    }
   },
   "execution_count": 20
  },
  {
   "cell_type": "markdown",
   "metadata": {
    "id": "KOXkgrCsr1C_"
   },
   "source": [
    "### Задание 6"
   ]
  },
  {
   "cell_type": "markdown",
   "source": [
    "Выведите на экран средние баллы студентов по каждому предмету (`math`, `reading`, `writing`)"
   ],
   "metadata": {
    "id": "Ua3muRwsKyWZ"
   }
  },
  {
   "cell_type": "code",
   "execution_count": 21,
   "metadata": {
    "id": "h2pGYA-Wr1C_",
    "ExecuteTime": {
     "end_time": "2024-01-09T16:44:00.289085Z",
     "start_time": "2024-01-09T16:44:00.281Z"
    }
   },
   "outputs": [
    {
     "name": "stdout",
     "output_type": "stream",
     "text": [
      "66.089\n",
      "69.169\n",
      "68.054\n"
     ]
    }
   ],
   "source": [
    "print(df['math score'].mean())\n",
    "print(df['reading score'].mean())\n",
    "print(df['writing score'].mean())"
   ]
  },
  {
   "cell_type": "code",
   "outputs": [
    {
     "data": {
      "text/plain": "math score       66.089\nreading score    69.169\nwriting score    68.054\ndtype: float64"
     },
     "execution_count": 22,
     "metadata": {},
     "output_type": "execute_result"
    }
   ],
   "source": [
    "# Evgeniy's version\n",
    "scores = ['math score', 'reading score', 'writing score']\n",
    "df[scores].mean()"
   ],
   "metadata": {
    "collapsed": false,
    "ExecuteTime": {
     "end_time": "2024-01-09T16:44:06.060200Z",
     "start_time": "2024-01-09T16:44:06.033863Z"
    }
   },
   "execution_count": 22
  },
  {
   "cell_type": "markdown",
   "metadata": {
    "id": "fczoCZJTr1DA"
   },
   "source": [
    "### Задание 7"
   ]
  },
  {
   "cell_type": "markdown",
   "source": [
    "Как зависят оценки от того, проходил ли студент курс для подготовки к сдаче экзамена (test preparation course)?\n",
    "\n",
    "Выведите на экран для каждого предмета в отдельности средний балл студентов, проходивших курс для подготовки к экзамену и не проходивших курс."
   ],
   "metadata": {
    "id": "18pWMoCbK6Bm"
   }
  },
  {
   "cell_type": "code",
   "execution_count": 31,
   "metadata": {
    "id": "ZhWK8xVCr1DA",
    "ExecuteTime": {
     "end_time": "2024-01-09T16:53:55.886658Z",
     "start_time": "2024-01-09T16:53:55.848476Z"
    }
   },
   "outputs": [
    {
     "name": "stdout",
     "output_type": "stream",
     "text": [
      "math score    69.696\n",
      "Name: mean, dtype: float64\n",
      "reading score    73.894\n",
      "Name: mean, dtype: float64\n",
      "writing score    74.419\n",
      "Name: mean, dtype: float64\n"
     ]
    }
   ],
   "source": [
    "# ваш код здесь\n",
    "df_completed = df[df['test preparation course'] == 'completed']\n",
    "print(df_completed.describe()[['math score']].loc['mean'].round(3))\n",
    "print(df_completed.describe()[['reading score']].loc['mean'].round(3))\n",
    "print(df_completed.describe()[['writing score']].loc['mean'].round(3))"
   ]
  },
  {
   "cell_type": "code",
   "outputs": [
    {
     "name": "stdout",
     "output_type": "stream",
     "text": [
      "math score    64.078\n",
      "Name: mean, dtype: float64\n",
      "reading score    66.534\n",
      "Name: mean, dtype: float64\n",
      "writing score    64.505\n",
      "Name: mean, dtype: float64\n"
     ]
    }
   ],
   "source": [
    "df_non_completed = df[df['test preparation course'] != 'completed']\n",
    "print(df_non_completed.describe()[['math score']].loc['mean'].round(3))\n",
    "print(df_non_completed.describe()[['reading score']].loc['mean'].round(3))\n",
    "print(df_non_completed.describe()[['writing score']].loc['mean'].round(3))"
   ],
   "metadata": {
    "collapsed": false,
    "ExecuteTime": {
     "end_time": "2024-01-09T16:55:02.118105Z",
     "start_time": "2024-01-09T16:55:02.098981Z"
    }
   },
   "execution_count": 33
  },
  {
   "cell_type": "code",
   "outputs": [
    {
     "data": {
      "text/plain": "                         math score  reading score  writing score\ntest preparation course                                          \ncompleted                    69.696         73.894         74.419\nnone                         64.078         66.534         64.505",
      "text/html": "<div>\n<style scoped>\n    .dataframe tbody tr th:only-of-type {\n        vertical-align: middle;\n    }\n\n    .dataframe tbody tr th {\n        vertical-align: top;\n    }\n\n    .dataframe thead th {\n        text-align: right;\n    }\n</style>\n<table border=\"1\" class=\"dataframe\">\n  <thead>\n    <tr style=\"text-align: right;\">\n      <th></th>\n      <th>math score</th>\n      <th>reading score</th>\n      <th>writing score</th>\n    </tr>\n    <tr>\n      <th>test preparation course</th>\n      <th></th>\n      <th></th>\n      <th></th>\n    </tr>\n  </thead>\n  <tbody>\n    <tr>\n      <th>completed</th>\n      <td>69.696</td>\n      <td>73.894</td>\n      <td>74.419</td>\n    </tr>\n    <tr>\n      <th>none</th>\n      <td>64.078</td>\n      <td>66.534</td>\n      <td>64.505</td>\n    </tr>\n  </tbody>\n</table>\n</div>"
     },
     "execution_count": 26,
     "metadata": {},
     "output_type": "execute_result"
    }
   ],
   "source": [
    "#Evgeniy's version\n",
    "df.groupby('test preparation course')[scores].mean().round(3)"
   ],
   "metadata": {
    "collapsed": false,
    "ExecuteTime": {
     "end_time": "2024-01-09T16:52:51.012500Z",
     "start_time": "2024-01-09T16:52:51.004286Z"
    }
   },
   "execution_count": 26
  },
  {
   "cell_type": "markdown",
   "metadata": {
    "id": "0HoILF9Er1DA"
   },
   "source": [
    "### Задание 8"
   ]
  },
  {
   "cell_type": "markdown",
   "source": [
    "Выведите на экран все различные значения из столбца `lunch`"
   ],
   "metadata": {
    "id": "3dvqwn7XMl4L"
   }
  },
  {
   "cell_type": "code",
   "execution_count": 34,
   "metadata": {
    "id": "6l_XMKFbr1DA",
    "ExecuteTime": {
     "end_time": "2024-01-09T16:55:18.850263Z",
     "start_time": "2024-01-09T16:55:18.816886Z"
    }
   },
   "outputs": [
    {
     "name": "stdout",
     "output_type": "stream",
     "text": [
      "['standard' 'free/reduced']\n"
     ]
    }
   ],
   "source": [
    "# ваш код здесь\n",
    "print(df['lunch'].unique())"
   ]
  },
  {
   "cell_type": "markdown",
   "metadata": {
    "id": "8vG57VtAr1DA"
   },
   "source": [
    "### Задание 9"
   ]
  },
  {
   "cell_type": "markdown",
   "source": [
    "Переименуйте колонку `parental level of education` в `education`, а `test preparation course` в `test preparation` с помощью метода pandas [`rename`](https://pandas.pydata.org/pandas-docs/stable/reference/api/pandas.DataFrame.rename.html)"
   ],
   "metadata": {
    "id": "qdsFzJmVMy6w"
   }
  },
  {
   "cell_type": "code",
   "execution_count": 35,
   "metadata": {
    "id": "K7p_wEhzr1DB",
    "ExecuteTime": {
     "end_time": "2024-01-09T16:55:30.651239Z",
     "start_time": "2024-01-09T16:55:30.621984Z"
    }
   },
   "outputs": [
    {
     "data": {
      "text/plain": "Index(['gender', 'race/ethnicity', 'education', 'lunch', 'test preparation',\n       'group', 'math score', 'reading score', 'writing score'],\n      dtype='object')"
     },
     "execution_count": 35,
     "metadata": {},
     "output_type": "execute_result"
    }
   ],
   "source": [
    "# ваш код здесь\n",
    "df.rename(columns={\"parental level of education\": \"education\", \"test preparation course\": \"test preparation\"}, inplace=True)\n",
    "df.columns"
   ]
  },
  {
   "cell_type": "markdown",
   "source": [
    "### Задание 10"
   ],
   "metadata": {
    "id": "_Ft8TrDbM_ud"
   }
  },
  {
   "cell_type": "markdown",
   "metadata": {
    "id": "6NGpIYJzr1DB"
   },
   "source": [
    "**Зафиксируем минимальный балл для сдачи экзамена**"
   ]
  },
  {
   "cell_type": "code",
   "execution_count": 36,
   "metadata": {
    "id": "kxHBHeU6r1DB",
    "ExecuteTime": {
     "end_time": "2024-01-09T16:55:36.579853Z",
     "start_time": "2024-01-09T16:55:36.544730Z"
    }
   },
   "outputs": [],
   "source": [
    "passmark = 50"
   ]
  },
  {
   "cell_type": "markdown",
   "metadata": {
    "id": "xTjgdXGMr1DB"
   },
   "source": [
    "**Ответьте на вопросы**\n",
    "* Какая доля студентов сдала экзамен по математике (passmark > 50)?\n",
    "* Какая доля студентов, проходивших курс подготовки к экзамену, сдала экзамен по математике?\n",
    "* Какая доля женщин, не проходивших курс подготовки к экзамену, не сдала экзамен по математике?"
   ]
  },
  {
   "cell_type": "code",
   "execution_count": 37,
   "metadata": {
    "id": "5v8uB_2er1DB",
    "ExecuteTime": {
     "end_time": "2024-01-09T16:55:41.383435Z",
     "start_time": "2024-01-09T16:55:41.364206Z"
    }
   },
   "outputs": [
    {
     "name": "stdout",
     "output_type": "stream",
     "text": [
      "85.0 %\n"
     ]
    }
   ],
   "source": [
    "# ваш код здесь\n",
    "print(len(df[df['math score'] > 50]) / len(df) * 100, \"%\")"
   ]
  },
  {
   "cell_type": "code",
   "outputs": [
    {
     "data": {
      "text/plain": "0.85"
     },
     "execution_count": 39,
     "metadata": {},
     "output_type": "execute_result"
    }
   ],
   "source": [
    "#Evgeniy's version\n",
    "(df['math score'] > passmark).mean().round(3)"
   ],
   "metadata": {
    "collapsed": false,
    "ExecuteTime": {
     "end_time": "2024-01-09T18:14:53.071874Z",
     "start_time": "2024-01-09T18:14:53.062579Z"
    }
   },
   "execution_count": 39
  },
  {
   "cell_type": "code",
   "source": [
    "# ваш код здесь\n",
    "print(len(df_completed[df_completed['math score'] > 50]) / len(df))"
   ],
   "metadata": {
    "id": "Mwm_tNJ7NGvx",
    "ExecuteTime": {
     "end_time": "2024-01-05T13:42:52.062692Z",
     "start_time": "2024-01-05T13:42:52.053130Z"
    }
   },
   "execution_count": 68,
   "outputs": [
    {
     "name": "stdout",
     "output_type": "stream",
     "text": [
      "0.325\n"
     ]
    }
   ]
  },
  {
   "cell_type": "code",
   "outputs": [
    {
     "data": {
      "text/plain": "0.908"
     },
     "execution_count": 41,
     "metadata": {},
     "output_type": "execute_result"
    }
   ],
   "source": [
    "#Evgeniy's version\n",
    "(df_completed['math score'] > passmark).mean().round(3)"
   ],
   "metadata": {
    "collapsed": false,
    "ExecuteTime": {
     "end_time": "2024-01-09T18:15:38.301121Z",
     "start_time": "2024-01-09T18:15:38.292374Z"
    }
   },
   "execution_count": 41
  },
  {
   "cell_type": "code",
   "source": [
    "# ваш код здесь\n",
    "print(len(df_non_completed[df_non_completed['math score'] < 50].loc[df_non_completed['gender'] == 'female']) / len(df) * 100, \"%\")"
   ],
   "metadata": {
    "id": "XYmblIG_NIQg",
    "ExecuteTime": {
     "end_time": "2024-01-09T18:15:50.824699Z",
     "start_time": "2024-01-09T18:15:50.816009Z"
    }
   },
   "execution_count": 42,
   "outputs": [
    {
     "name": "stdout",
     "output_type": "stream",
     "text": [
      "7.000000000000001 %\n"
     ]
    }
   ]
  },
  {
   "cell_type": "markdown",
   "metadata": {
    "id": "LysYnT_pr1DB"
   },
   "source": [
    "### Задание 11"
   ]
  },
  {
   "cell_type": "markdown",
   "source": [
    "С помощью `groupby` выполните задания ниже. Также выведите время выполнения каждого из заданий.\n",
    "* Для каждой этнической группы выведите средний балл за экзамен по чтению\n",
    "* Для каждого уровня образования выведите минимальный балл за экзамен по письму"
   ],
   "metadata": {
    "id": "izOBIWgqMY_S"
   }
  },
  {
   "cell_type": "code",
   "outputs": [],
   "source": [
    "def myGroupBy_mean (df):\n",
    "    return df.groupby('race/ethnicity')['reading score'].mean()"
   ],
   "metadata": {
    "collapsed": false,
    "ExecuteTime": {
     "end_time": "2024-01-10T11:05:31.611278Z",
     "start_time": "2024-01-10T11:05:31.591349Z"
    }
   },
   "execution_count": 46
  },
  {
   "cell_type": "code",
   "outputs": [
    {
     "name": "stdout",
     "output_type": "stream",
     "text": [
      "race/ethnicity\n",
      "group A    64.674157\n",
      "group B    67.352632\n",
      "group C    69.103448\n",
      "group D    70.030534\n",
      "group E    73.028571\n",
      "Name: reading score, dtype: float64\n",
      "CPU times: user 1.14 ms, sys: 440 µs, total: 1.58 ms\n",
      "Wall time: 1.32 ms\n"
     ]
    }
   ],
   "source": [
    "%%time\n",
    "print(myGroupBy_mean(df))\n"
   ],
   "metadata": {
    "collapsed": false,
    "ExecuteTime": {
     "end_time": "2024-01-10T11:07:17.594410Z",
     "start_time": "2024-01-10T11:07:17.587914Z"
    }
   },
   "execution_count": 48
  },
  {
   "cell_type": "code",
   "outputs": [],
   "source": [
    "# import time\n",
    "# \n",
    "# def myGroupBy_mean (df):\n",
    "#     return df.groupby('race/ethnicity')['reading score'].mean()\n",
    "# \n",
    "# \n",
    "# start_time = time.time()\n",
    "# print(myGroupBy_mean(df))\n",
    "# end_time = time.time()\n",
    "# \n",
    "# execution_time = end_time - start_time\n",
    "# print(f\"Execution time: {execution_time} seconds\")"
   ],
   "metadata": {
    "collapsed": false,
    "ExecuteTime": {
     "end_time": "2024-01-10T11:08:01.089790Z",
     "start_time": "2024-01-10T11:08:01.081749Z"
    }
   },
   "execution_count": 50
  },
  {
   "cell_type": "code",
   "outputs": [],
   "source": [
    "def myGroupBy_min (df):\n",
    "    return df.groupby('education')['writing score'].min().sort_values(ascending=True)"
   ],
   "metadata": {
    "collapsed": false,
    "ExecuteTime": {
     "end_time": "2024-01-10T11:08:10.424755Z",
     "start_time": "2024-01-10T11:08:10.415950Z"
    }
   },
   "execution_count": 51
  },
  {
   "cell_type": "code",
   "outputs": [
    {
     "name": "stdout",
     "output_type": "stream",
     "text": [
      "education\n",
      "some high school      10\n",
      "high school           15\n",
      "some college          19\n",
      "associate's degree    35\n",
      "bachelor's degree     38\n",
      "master's degree       46\n",
      "Name: writing score, dtype: int64\n",
      "CPU times: user 1.2 ms, sys: 733 µs, total: 1.93 ms\n",
      "Wall time: 2 ms\n"
     ]
    }
   ],
   "source": [
    "%%time\n",
    "print(myGroupBy_min(df))"
   ],
   "metadata": {
    "collapsed": false,
    "ExecuteTime": {
     "end_time": "2024-01-10T11:08:11.413424Z",
     "start_time": "2024-01-10T11:08:11.405454Z"
    }
   },
   "execution_count": 52
  },
  {
   "cell_type": "code",
   "outputs": [],
   "source": [
    "# def myGroupBy_min (df):\n",
    "#     return df.groupby('education')['writing score'].min().sort_values(ascending=True)\n",
    "# \n",
    "# start_time = time.time()\n",
    "# print(myGroupBy_min(df))\n",
    "# end_time = time.time()\n",
    "# \n",
    "# execution_time = end_time - start_time\n",
    "# print(f\"Execution time: {execution_time} seconds\")"
   ],
   "metadata": {
    "collapsed": false,
    "ExecuteTime": {
     "end_time": "2024-01-10T11:07:57.747648Z",
     "start_time": "2024-01-10T11:07:57.740267Z"
    }
   },
   "execution_count": 49
  },
  {
   "cell_type": "code",
   "source": [
    "# ваш код здесь\n",
    "df"
   ],
   "metadata": {
    "id": "ZKo39lexMeh0",
    "ExecuteTime": {
     "end_time": "2024-01-10T11:09:44.257495Z",
     "start_time": "2024-01-10T11:09:44.228282Z"
    }
   },
   "execution_count": 53,
   "outputs": [
    {
     "data": {
      "text/plain": "     gender race/ethnicity           education         lunch test preparation  \\\n0      male        group B        some college      standard             none   \n1      male        group D   bachelor's degree      standard        completed   \n2    female        group D  associate's degree      standard             none   \n3      male        group B         high school      standard        completed   \n4      male        group C        some college      standard        completed   \n..      ...            ...                 ...           ...              ...   \n995  female        group E     master's degree      standard        completed   \n996    male        group C         high school  free/reduced             none   \n997  female        group C         high school  free/reduced        completed   \n998  female        group D        some college      standard        completed   \n999  female        group D        some college  free/reduced             none   \n\n       group  math score  reading score  writing score  \n0     group2          79             67             67  \n1     group2          68             74             74  \n2     group2          85             91             89  \n3     group2          60             44             47  \n4     group2          98             86             90  \n..       ...         ...            ...            ...  \n995  group10          88             99             95  \n996  group10          62             55             55  \n997  group10          59             71             65  \n998  group10          68             78             77  \n999  group10          77             86             86  \n\n[1000 rows x 9 columns]",
      "text/html": "<div>\n<style scoped>\n    .dataframe tbody tr th:only-of-type {\n        vertical-align: middle;\n    }\n\n    .dataframe tbody tr th {\n        vertical-align: top;\n    }\n\n    .dataframe thead th {\n        text-align: right;\n    }\n</style>\n<table border=\"1\" class=\"dataframe\">\n  <thead>\n    <tr style=\"text-align: right;\">\n      <th></th>\n      <th>gender</th>\n      <th>race/ethnicity</th>\n      <th>education</th>\n      <th>lunch</th>\n      <th>test preparation</th>\n      <th>group</th>\n      <th>math score</th>\n      <th>reading score</th>\n      <th>writing score</th>\n    </tr>\n  </thead>\n  <tbody>\n    <tr>\n      <th>0</th>\n      <td>male</td>\n      <td>group B</td>\n      <td>some college</td>\n      <td>standard</td>\n      <td>none</td>\n      <td>group2</td>\n      <td>79</td>\n      <td>67</td>\n      <td>67</td>\n    </tr>\n    <tr>\n      <th>1</th>\n      <td>male</td>\n      <td>group D</td>\n      <td>bachelor's degree</td>\n      <td>standard</td>\n      <td>completed</td>\n      <td>group2</td>\n      <td>68</td>\n      <td>74</td>\n      <td>74</td>\n    </tr>\n    <tr>\n      <th>2</th>\n      <td>female</td>\n      <td>group D</td>\n      <td>associate's degree</td>\n      <td>standard</td>\n      <td>none</td>\n      <td>group2</td>\n      <td>85</td>\n      <td>91</td>\n      <td>89</td>\n    </tr>\n    <tr>\n      <th>3</th>\n      <td>male</td>\n      <td>group B</td>\n      <td>high school</td>\n      <td>standard</td>\n      <td>completed</td>\n      <td>group2</td>\n      <td>60</td>\n      <td>44</td>\n      <td>47</td>\n    </tr>\n    <tr>\n      <th>4</th>\n      <td>male</td>\n      <td>group C</td>\n      <td>some college</td>\n      <td>standard</td>\n      <td>completed</td>\n      <td>group2</td>\n      <td>98</td>\n      <td>86</td>\n      <td>90</td>\n    </tr>\n    <tr>\n      <th>...</th>\n      <td>...</td>\n      <td>...</td>\n      <td>...</td>\n      <td>...</td>\n      <td>...</td>\n      <td>...</td>\n      <td>...</td>\n      <td>...</td>\n      <td>...</td>\n    </tr>\n    <tr>\n      <th>995</th>\n      <td>female</td>\n      <td>group E</td>\n      <td>master's degree</td>\n      <td>standard</td>\n      <td>completed</td>\n      <td>group10</td>\n      <td>88</td>\n      <td>99</td>\n      <td>95</td>\n    </tr>\n    <tr>\n      <th>996</th>\n      <td>male</td>\n      <td>group C</td>\n      <td>high school</td>\n      <td>free/reduced</td>\n      <td>none</td>\n      <td>group10</td>\n      <td>62</td>\n      <td>55</td>\n      <td>55</td>\n    </tr>\n    <tr>\n      <th>997</th>\n      <td>female</td>\n      <td>group C</td>\n      <td>high school</td>\n      <td>free/reduced</td>\n      <td>completed</td>\n      <td>group10</td>\n      <td>59</td>\n      <td>71</td>\n      <td>65</td>\n    </tr>\n    <tr>\n      <th>998</th>\n      <td>female</td>\n      <td>group D</td>\n      <td>some college</td>\n      <td>standard</td>\n      <td>completed</td>\n      <td>group10</td>\n      <td>68</td>\n      <td>78</td>\n      <td>77</td>\n    </tr>\n    <tr>\n      <th>999</th>\n      <td>female</td>\n      <td>group D</td>\n      <td>some college</td>\n      <td>free/reduced</td>\n      <td>none</td>\n      <td>group10</td>\n      <td>77</td>\n      <td>86</td>\n      <td>86</td>\n    </tr>\n  </tbody>\n</table>\n<p>1000 rows × 9 columns</p>\n</div>"
     },
     "execution_count": 53,
     "metadata": {},
     "output_type": "execute_result"
    }
   ]
  },
  {
   "cell_type": "markdown",
   "metadata": {
    "id": "iufsl6Rvr1DB"
   },
   "source": [
    "### Задание 12"
   ]
  },
  {
   "cell_type": "markdown",
   "source": [
    "Выполните задание 11 с помощью циклов. Сравните время выполнения"
   ],
   "metadata": {
    "id": "nyv-U8ARMTlg"
   }
  },
  {
   "cell_type": "code",
   "outputs": [],
   "source": [
    "unique_race = df['race/ethnicity'].drop_duplicates()"
   ],
   "metadata": {
    "collapsed": false,
    "ExecuteTime": {
     "end_time": "2024-01-10T11:41:19.555681Z",
     "start_time": "2024-01-10T11:41:19.500835Z"
    }
   },
   "execution_count": 113
  },
  {
   "cell_type": "code",
   "outputs": [
    {
     "name": "stdout",
     "output_type": "stream",
     "text": [
      "0     group B\n",
      "1     group D\n",
      "4     group C\n",
      "7     group E\n",
      "12    group A\n",
      "Name: race/ethnicity, dtype: object\n"
     ]
    }
   ],
   "source": [
    "print(unique_race)"
   ],
   "metadata": {
    "collapsed": false,
    "ExecuteTime": {
     "end_time": "2024-01-10T11:41:21.904727Z",
     "start_time": "2024-01-10T11:41:21.853271Z"
    }
   },
   "execution_count": 114
  },
  {
   "cell_type": "code",
   "outputs": [],
   "source": [
    "def myGroupBy_mean_circle(unique_race):\n",
    "    print(unique_race)"
   ],
   "metadata": {
    "collapsed": false,
    "ExecuteTime": {
     "end_time": "2024-01-10T13:57:26.469262Z",
     "start_time": "2024-01-10T13:57:26.461344Z"
    }
   },
   "execution_count": 134
  },
  {
   "cell_type": "code",
   "execution_count": 133,
   "metadata": {
    "id": "R_sP5oy3r1DC",
    "ExecuteTime": {
     "end_time": "2024-01-10T13:57:17.447322Z",
     "start_time": "2024-01-10T13:57:17.420334Z"
    }
   },
   "outputs": [
    {
     "name": "stdout",
     "output_type": "stream",
     "text": [
      "0     group B\n",
      "1     group D\n",
      "4     group C\n",
      "7     group E\n",
      "12    group A\n",
      "Name: race/ethnicity, dtype: object\n"
     ]
    }
   ],
   "source": [
    "myGroupBy_mean_circle(unique_race)"
   ]
  },
  {
   "cell_type": "markdown",
   "metadata": {
    "id": "eeqPh0-ar1DC"
   },
   "source": [
    "### Задание 13"
   ]
  },
  {
   "cell_type": "markdown",
   "source": [
    "Выведите на экран средние баллы студентов по каждому предмету в зависимости от пола и уровня образования.  \n",
    "То есть должно получиться количество групп, равных 2 * (число уровней образования), и для каждой такой группы выведите средний балл по каждому из предметов.\n",
    "\n",
    "Это можно сделать с помощью сводных таблиц ([pivot_table](https://www.kaggle.com/kamilpolak/tutorial-how-to-use-pivot-table-in-pandas))"
   ],
   "metadata": {
    "id": "vOZzthhpMEis"
   }
  },
  {
   "cell_type": "code",
   "execution_count": 155,
   "metadata": {
    "id": "QHbHlJT6r1DC",
    "ExecuteTime": {
     "end_time": "2024-01-10T14:58:27.178261Z",
     "start_time": "2024-01-10T14:58:27.168974Z"
    }
   },
   "outputs": [
    {
     "data": {
      "text/plain": "                           math score  reading score  writing score\ngender education                                                   \nfemale associate's degree   65.250000      74.120690      74.000000\n       bachelor's degree    68.349206      77.285714      78.380952\n       high school          59.351064      68.202128      66.691489\n       master's degree      66.500000      76.805556      77.638889\n       some college         65.406780      73.550847      74.050847\n       some high school     59.296703      69.109890      68.285714\nmale   associate's degree   70.764151      67.433962      65.405660\n       bachelor's degree    70.581818      68.090909      67.654545\n       high school          64.705882      61.480392      58.539216\n       master's degree      74.826087      73.130435      72.608696\n       some college         69.009259      64.990741      63.148148\n       some high school     67.840909      64.693182      61.375000",
      "text/html": "<div>\n<style scoped>\n    .dataframe tbody tr th:only-of-type {\n        vertical-align: middle;\n    }\n\n    .dataframe tbody tr th {\n        vertical-align: top;\n    }\n\n    .dataframe thead th {\n        text-align: right;\n    }\n</style>\n<table border=\"1\" class=\"dataframe\">\n  <thead>\n    <tr style=\"text-align: right;\">\n      <th></th>\n      <th></th>\n      <th>math score</th>\n      <th>reading score</th>\n      <th>writing score</th>\n    </tr>\n    <tr>\n      <th>gender</th>\n      <th>education</th>\n      <th></th>\n      <th></th>\n      <th></th>\n    </tr>\n  </thead>\n  <tbody>\n    <tr>\n      <th rowspan=\"6\" valign=\"top\">female</th>\n      <th>associate's degree</th>\n      <td>65.250000</td>\n      <td>74.120690</td>\n      <td>74.000000</td>\n    </tr>\n    <tr>\n      <th>bachelor's degree</th>\n      <td>68.349206</td>\n      <td>77.285714</td>\n      <td>78.380952</td>\n    </tr>\n    <tr>\n      <th>high school</th>\n      <td>59.351064</td>\n      <td>68.202128</td>\n      <td>66.691489</td>\n    </tr>\n    <tr>\n      <th>master's degree</th>\n      <td>66.500000</td>\n      <td>76.805556</td>\n      <td>77.638889</td>\n    </tr>\n    <tr>\n      <th>some college</th>\n      <td>65.406780</td>\n      <td>73.550847</td>\n      <td>74.050847</td>\n    </tr>\n    <tr>\n      <th>some high school</th>\n      <td>59.296703</td>\n      <td>69.109890</td>\n      <td>68.285714</td>\n    </tr>\n    <tr>\n      <th rowspan=\"6\" valign=\"top\">male</th>\n      <th>associate's degree</th>\n      <td>70.764151</td>\n      <td>67.433962</td>\n      <td>65.405660</td>\n    </tr>\n    <tr>\n      <th>bachelor's degree</th>\n      <td>70.581818</td>\n      <td>68.090909</td>\n      <td>67.654545</td>\n    </tr>\n    <tr>\n      <th>high school</th>\n      <td>64.705882</td>\n      <td>61.480392</td>\n      <td>58.539216</td>\n    </tr>\n    <tr>\n      <th>master's degree</th>\n      <td>74.826087</td>\n      <td>73.130435</td>\n      <td>72.608696</td>\n    </tr>\n    <tr>\n      <th>some college</th>\n      <td>69.009259</td>\n      <td>64.990741</td>\n      <td>63.148148</td>\n    </tr>\n    <tr>\n      <th>some high school</th>\n      <td>67.840909</td>\n      <td>64.693182</td>\n      <td>61.375000</td>\n    </tr>\n  </tbody>\n</table>\n</div>"
     },
     "execution_count": 155,
     "metadata": {},
     "output_type": "execute_result"
    }
   ],
   "source": [
    "# ваш код здесь\n",
    "mean = pd.pivot_table(df, index=['gender','education'], values={'math score', 'reading score', 'writing score'})\n",
    "mean"
   ]
  },
  {
   "cell_type": "markdown",
   "metadata": {
    "_uuid": "3e832cb427c4314582d1953a41b8c78db75e30e3",
    "id": "K2dzmojsr1DC"
   },
   "source": [
    "### Задание 14"
   ]
  },
  {
   "cell_type": "markdown",
   "source": [
    "Сколько студентов успешно сдали экзамен по математике?\n",
    "\n",
    "Создайте новый столбец в таблице `df` под названием `Math_PassStatus` и запишите в него F, если студент не сдал экзамен по математике (балл за экзамен < passmark), и P иначе.\n",
    "\n",
    "Посчитайте количество студентов, сдавших и не сдавших экзамен по математике.\n",
    "\n",
    "Сделайте аналогичные шаги для экзаменов по чтению и письму."
   ],
   "metadata": {
    "id": "G5EgmLmALpsb"
   }
  },
  {
   "cell_type": "code",
   "execution_count": 157,
   "metadata": {
    "_uuid": "f43cddb72cc96b30df84bc0de83a4d9170904340",
    "id": "6CWO_CTMr1DC",
    "ExecuteTime": {
     "end_time": "2024-01-10T15:05:51.848434Z",
     "start_time": "2024-01-10T15:05:51.841016Z"
    }
   },
   "outputs": [],
   "source": [
    "# ваш код здесь\n",
    "df['Math_PassStatus'] = df['math score'].apply(lambda x: 'F' if x < passmark else 'P')"
   ]
  },
  {
   "cell_type": "code",
   "outputs": [
    {
     "name": "stdout",
     "output_type": "stream",
     "text": [
      "865\n",
      "135\n"
     ]
    }
   ],
   "source": [
    "print((df['Math_PassStatus'] == 'P').sum())\n",
    "print((df['Math_PassStatus'] == 'F').sum())"
   ],
   "metadata": {
    "collapsed": false,
    "ExecuteTime": {
     "end_time": "2024-01-10T15:12:55.580140Z",
     "start_time": "2024-01-10T15:12:55.570135Z"
    }
   },
   "execution_count": 171
  },
  {
   "cell_type": "code",
   "outputs": [],
   "source": [
    "df['Reading_PassStatus'] = df['reading score'].apply(lambda x: 'F' if x < passmark else 'P')"
   ],
   "metadata": {
    "collapsed": false,
    "ExecuteTime": {
     "end_time": "2024-01-10T15:13:52.176495Z",
     "start_time": "2024-01-10T15:13:52.169224Z"
    }
   },
   "execution_count": 172
  },
  {
   "cell_type": "code",
   "outputs": [
    {
     "name": "stdout",
     "output_type": "stream",
     "text": [
      "910\n",
      "90\n"
     ]
    }
   ],
   "source": [
    "print((df['Reading_PassStatus'] == 'P').sum())\n",
    "print((df['Reading_PassStatus'] == 'F').sum())"
   ],
   "metadata": {
    "collapsed": false,
    "ExecuteTime": {
     "end_time": "2024-01-10T15:14:14.422308Z",
     "start_time": "2024-01-10T15:14:14.414208Z"
    }
   },
   "execution_count": 173
  },
  {
   "cell_type": "code",
   "outputs": [],
   "source": [
    "df['Writing_PassStatus'] = df['writing score'].apply(lambda x: 'F' if x < passmark else 'P')"
   ],
   "metadata": {
    "collapsed": false,
    "ExecuteTime": {
     "end_time": "2024-01-10T15:14:49.443286Z",
     "start_time": "2024-01-10T15:14:49.433032Z"
    }
   },
   "execution_count": 174
  },
  {
   "cell_type": "code",
   "outputs": [
    {
     "name": "stdout",
     "output_type": "stream",
     "text": [
      "886\n",
      "114\n"
     ]
    }
   ],
   "source": [
    "print((df['Writing_PassStatus'] == 'P').sum())\n",
    "print((df['Writing_PassStatus'] == 'F').sum())"
   ],
   "metadata": {
    "collapsed": false,
    "ExecuteTime": {
     "end_time": "2024-01-10T15:14:58.188679Z",
     "start_time": "2024-01-10T15:14:58.179735Z"
    }
   },
   "execution_count": 175
  },
  {
   "cell_type": "markdown",
   "metadata": {
    "_uuid": "b753c90914ee65501e2ed263ea614d88a381c472",
    "id": "0qNtF6SJr1DC"
   },
   "source": [
    "### Задание 15"
   ]
  },
  {
   "cell_type": "markdown",
   "source": [
    "Сколько студентов успешно сдали все экзамены?\n",
    "\n",
    "Создайте столбец `OverAll_PassStatus` и запишите в него для каждого студента 'F', если студент не сдал хотя бы один из трех экзаменов, а иначе 'P'.\n",
    "\n",
    "Посчитайте количество студентов, которые сдали все экзамены."
   ],
   "metadata": {
    "id": "sp71dDr3Lb-L"
   }
  },
  {
   "cell_type": "code",
   "execution_count": 213,
   "metadata": {
    "_uuid": "e98f895a022b967cab801447b616222439fe9d84",
    "id": "8bZEVcDMr1DC",
    "ExecuteTime": {
     "end_time": "2024-01-10T15:56:39.732162Z",
     "start_time": "2024-01-10T15:56:39.717658Z"
    }
   },
   "outputs": [],
   "source": [
    "# ваш код здесь\n",
    "df['OverAll_PassStatus'] = df.apply(lambda x: 'P' if (x['Math_PassStatus']=='P' and x['Reading_PassStatus'] =='P' and x['Writing_PassStatus']=='P') else 'F', axis=1)"
   ]
  },
  {
   "cell_type": "code",
   "outputs": [
    {
     "data": {
      "text/plain": "812"
     },
     "execution_count": 214,
     "metadata": {},
     "output_type": "execute_result"
    }
   ],
   "source": [
    "len(df[df['OverAll_PassStatus'] == 'P'])"
   ],
   "metadata": {
    "collapsed": false,
    "ExecuteTime": {
     "end_time": "2024-01-10T15:56:40.165444Z",
     "start_time": "2024-01-10T15:56:40.156272Z"
    }
   },
   "execution_count": 214
  },
  {
   "cell_type": "markdown",
   "metadata": {
    "_uuid": "3af9c6cb4cbfff66d4ae09509f10b8b6ce33075d",
    "id": "oezdmPXGr1DC"
   },
   "source": [
    "### Задание 16"
   ]
  },
  {
   "cell_type": "markdown",
   "source": [
    "Переведем баллы в оценки\n",
    "\n",
    "**Система перевода баллов в оценки**\n",
    "*   [90;100] = A\n",
    "*   [80;90) = B\n",
    "*   [70;80) = C\n",
    "*   [60;70) = D\n",
    "*   [50;60) = E\n",
    "*   [0;50) = F (Fail)\n",
    "\n",
    "Создайте вспомогательную функцию, которая будет по среднему баллу за три экзамена выставлять оценку студенту по данным выше критериям.\n",
    "\n",
    "Создайте столбец `Grade` и запишите в него оценку каждого студента.\n",
    "\n",
    "Выведите количество студентов, получивших каждую из оценок."
   ],
   "metadata": {
    "id": "hLJJR1GqLDc0"
   }
  },
  {
   "cell_type": "code",
   "outputs": [
    {
     "data": {
      "text/plain": "0      71.000\n1      72.000\n2      88.333\n3      50.333\n4      91.333\n        ...  \n995    94.000\n996    57.333\n997    65.000\n998    74.333\n999    83.000\nLength: 1000, dtype: float64"
     },
     "execution_count": 225,
     "metadata": {},
     "output_type": "execute_result"
    }
   ],
   "source": [
    "df[scores].mean(axis=1).round(3)"
   ],
   "metadata": {
    "collapsed": false,
    "ExecuteTime": {
     "end_time": "2024-01-10T16:06:26.062133Z",
     "start_time": "2024-01-10T16:06:26.050595Z"
    }
   },
   "execution_count": 225
  },
  {
   "cell_type": "code",
   "execution_count": 227,
   "metadata": {
    "_uuid": "04707c5be4237020b906d2ac705a0db3d620506f",
    "id": "tLSML7yrr1DD",
    "ExecuteTime": {
     "end_time": "2024-01-10T16:25:15.613899Z",
     "start_time": "2024-01-10T16:25:15.607052Z"
    }
   },
   "outputs": [],
   "source": [
    "def GetGrade(average_mark):\n",
    "    # ваш код здесь\n",
    "    match average_mark:\n",
    "        case mark if 90 <= mark <= 100:\n",
    "            return 'A'\n",
    "        case mark if 80 <= mark <= 90:\n",
    "            return 'B'\n",
    "        case mark if 70 <= mark <= 80:\n",
    "            return 'C'\n",
    "        case mark if 60 <= mark <= 70:\n",
    "            return 'D'\n",
    "        case mark if 50 <= mark <= 60:\n",
    "            return 'E'\n",
    "        case mark if 0 <= mark <= 50:\n",
    "            return 'F'\n",
    "        case _:\n",
    "            return 'None'\n",
    "\n",
    "# ваш код здесь\n",
    "df['Grade'] = df[scores].mean(axis=1).round(3).apply(lambda x: GetGrade(x))"
   ]
  },
  {
   "cell_type": "code",
   "outputs": [
    {
     "data": {
      "text/plain": "Grade\nC    261\nD    256\nE    182\nB    146\nF    103\nA     52\nName: count, dtype: int64"
     },
     "execution_count": 253,
     "metadata": {},
     "output_type": "execute_result"
    }
   ],
   "source": [
    "df['Grade'].value_counts()"
   ],
   "metadata": {
    "collapsed": false,
    "ExecuteTime": {
     "end_time": "2024-01-10T16:31:55.642657Z",
     "start_time": "2024-01-10T16:31:55.634729Z"
    }
   },
   "execution_count": 253
  },
  {
   "cell_type": "code",
   "outputs": [],
   "source": [],
   "metadata": {
    "collapsed": false
   }
  }
 ],
 "metadata": {
  "kernelspec": {
   "display_name": "Python 3 (ipykernel)",
   "language": "python",
   "name": "python3"
  },
  "language_info": {
   "codemirror_mode": {
    "name": "ipython",
    "version": 3
   },
   "file_extension": ".py",
   "mimetype": "text/x-python",
   "name": "python",
   "nbconvert_exporter": "python",
   "pygments_lexer": "ipython3",
   "version": "3.9.12"
  },
  "colab": {
   "provenance": []
  }
 },
 "nbformat": 4,
 "nbformat_minor": 0
}

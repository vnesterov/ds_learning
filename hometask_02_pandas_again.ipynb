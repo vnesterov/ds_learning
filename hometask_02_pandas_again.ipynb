{
 "cells": [
  {
   "cell_type": "markdown",
   "metadata": {
    "id": "fHcXLd0SqFHj"
   },
   "source": [
    "# Домашнее задание 2: Pandas для анализа данных"
   ]
  },
  {
   "cell_type": "code",
   "outputs": [
    {
     "name": "stdout",
     "output_type": "stream",
     "text": [
      "Python 3.11.7\r\n"
     ]
    }
   ],
   "source": [
    "!python --version"
   ],
   "metadata": {
    "collapsed": false,
    "ExecuteTime": {
     "end_time": "2024-02-03T21:21:05.919779Z",
     "start_time": "2024-02-03T21:21:05.780757Z"
    }
   },
   "execution_count": 74
  },
  {
   "cell_type": "code",
   "outputs": [],
   "source": [
    "# !which python"
   ],
   "metadata": {
    "collapsed": false,
    "ExecuteTime": {
     "end_time": "2024-01-31T17:53:56.996308Z",
     "start_time": "2024-01-31T17:53:56.979480Z"
    }
   },
   "execution_count": 2
  },
  {
   "cell_type": "code",
   "execution_count": 2,
   "metadata": {
    "id": "_HNDttaRjxXY",
    "ExecuteTime": {
     "end_time": "2024-02-03T16:00:29.534196Z",
     "start_time": "2024-02-03T16:00:29.513366Z"
    }
   },
   "outputs": [],
   "source": [
    "import matplotlib.pyplot as plt\n",
    "import numpy as np\n",
    "import pandas as pd\n",
    "import seaborn as sns\n",
    "from scipy.stats import norm"
   ]
  },
  {
   "cell_type": "markdown",
   "metadata": {
    "id": "FuJKWXhejxXb"
   },
   "source": [
    "Будем работать с датасетом Pima Indian Diabetes - это набор данных из Национального института диабета, болезней органов пищеварения и почек. Целью набора данных является диагностическое прогнозирование наличия диабета у пациента. Несколько ограничений были наложены на выбор этих экземпляров из большой базы данных. В частности, все пациенты здесь - женщины в возрасте от 21 года, индийского происхождения."
   ]
  },
  {
   "cell_type": "code",
   "source": [
    "DIABETS = 'https://raw.githubusercontent.com/evgpat/datasets/main/pima_indians_diabetes.csv'"
   ],
   "metadata": {
    "id": "jR0Yc-FoIc6F",
    "ExecuteTime": {
     "end_time": "2024-02-03T16:00:31.708982Z",
     "start_time": "2024-02-03T16:00:31.702983Z"
    }
   },
   "execution_count": 3,
   "outputs": []
  },
  {
   "cell_type": "code",
   "execution_count": 4,
   "metadata": {
    "id": "sTpCO57YjxXb",
    "outputId": "300454f2-bcc7-4475-9ad3-b980be1e71c6",
    "colab": {
     "base_uri": "https://localhost:8080/",
     "height": 363
    },
    "ExecuteTime": {
     "end_time": "2024-02-03T16:00:32.610403Z",
     "start_time": "2024-02-03T16:00:32.154783Z"
    }
   },
   "outputs": [
    {
     "data": {
      "text/plain": "   Pregnancies  Glucose  BloodPressure  SkinThickness  Insulin   BMI  \\\n0            6    148.0           72.0           35.0      NaN  33.6   \n1            1     85.0           66.0           29.0      NaN  26.6   \n2            8    183.0           64.0            NaN      NaN  23.3   \n3            1     89.0           66.0           23.0     94.0  28.1   \n4            0    137.0           40.0           35.0    168.0  43.1   \n5            5    116.0           74.0            NaN      NaN  25.6   \n6            3     78.0           50.0           32.0     88.0  31.0   \n7           10    115.0            NaN            NaN      NaN  35.3   \n8            2    197.0           70.0           45.0    543.0  30.5   \n9            8    125.0           96.0            NaN      NaN   NaN   \n\n   DiabetesPedigreeFunction  Age  Class  \n0                     0.627   50      1  \n1                     0.351   31      0  \n2                     0.672   32      1  \n3                     0.167   21      0  \n4                     2.288   33      1  \n5                     0.201   30      0  \n6                     0.248   26      1  \n7                     0.134   29      0  \n8                     0.158   53      1  \n9                     0.232   54      1  ",
      "text/html": "<div>\n<style scoped>\n    .dataframe tbody tr th:only-of-type {\n        vertical-align: middle;\n    }\n\n    .dataframe tbody tr th {\n        vertical-align: top;\n    }\n\n    .dataframe thead th {\n        text-align: right;\n    }\n</style>\n<table border=\"1\" class=\"dataframe\">\n  <thead>\n    <tr style=\"text-align: right;\">\n      <th></th>\n      <th>Pregnancies</th>\n      <th>Glucose</th>\n      <th>BloodPressure</th>\n      <th>SkinThickness</th>\n      <th>Insulin</th>\n      <th>BMI</th>\n      <th>DiabetesPedigreeFunction</th>\n      <th>Age</th>\n      <th>Class</th>\n    </tr>\n  </thead>\n  <tbody>\n    <tr>\n      <th>0</th>\n      <td>6</td>\n      <td>148.0</td>\n      <td>72.0</td>\n      <td>35.0</td>\n      <td>NaN</td>\n      <td>33.6</td>\n      <td>0.627</td>\n      <td>50</td>\n      <td>1</td>\n    </tr>\n    <tr>\n      <th>1</th>\n      <td>1</td>\n      <td>85.0</td>\n      <td>66.0</td>\n      <td>29.0</td>\n      <td>NaN</td>\n      <td>26.6</td>\n      <td>0.351</td>\n      <td>31</td>\n      <td>0</td>\n    </tr>\n    <tr>\n      <th>2</th>\n      <td>8</td>\n      <td>183.0</td>\n      <td>64.0</td>\n      <td>NaN</td>\n      <td>NaN</td>\n      <td>23.3</td>\n      <td>0.672</td>\n      <td>32</td>\n      <td>1</td>\n    </tr>\n    <tr>\n      <th>3</th>\n      <td>1</td>\n      <td>89.0</td>\n      <td>66.0</td>\n      <td>23.0</td>\n      <td>94.0</td>\n      <td>28.1</td>\n      <td>0.167</td>\n      <td>21</td>\n      <td>0</td>\n    </tr>\n    <tr>\n      <th>4</th>\n      <td>0</td>\n      <td>137.0</td>\n      <td>40.0</td>\n      <td>35.0</td>\n      <td>168.0</td>\n      <td>43.1</td>\n      <td>2.288</td>\n      <td>33</td>\n      <td>1</td>\n    </tr>\n    <tr>\n      <th>5</th>\n      <td>5</td>\n      <td>116.0</td>\n      <td>74.0</td>\n      <td>NaN</td>\n      <td>NaN</td>\n      <td>25.6</td>\n      <td>0.201</td>\n      <td>30</td>\n      <td>0</td>\n    </tr>\n    <tr>\n      <th>6</th>\n      <td>3</td>\n      <td>78.0</td>\n      <td>50.0</td>\n      <td>32.0</td>\n      <td>88.0</td>\n      <td>31.0</td>\n      <td>0.248</td>\n      <td>26</td>\n      <td>1</td>\n    </tr>\n    <tr>\n      <th>7</th>\n      <td>10</td>\n      <td>115.0</td>\n      <td>NaN</td>\n      <td>NaN</td>\n      <td>NaN</td>\n      <td>35.3</td>\n      <td>0.134</td>\n      <td>29</td>\n      <td>0</td>\n    </tr>\n    <tr>\n      <th>8</th>\n      <td>2</td>\n      <td>197.0</td>\n      <td>70.0</td>\n      <td>45.0</td>\n      <td>543.0</td>\n      <td>30.5</td>\n      <td>0.158</td>\n      <td>53</td>\n      <td>1</td>\n    </tr>\n    <tr>\n      <th>9</th>\n      <td>8</td>\n      <td>125.0</td>\n      <td>96.0</td>\n      <td>NaN</td>\n      <td>NaN</td>\n      <td>NaN</td>\n      <td>0.232</td>\n      <td>54</td>\n      <td>1</td>\n    </tr>\n  </tbody>\n</table>\n</div>"
     },
     "execution_count": 4,
     "metadata": {},
     "output_type": "execute_result"
    }
   ],
   "source": [
    "data = pd.read_csv(DIABETS)\n",
    "data.head(10)"
   ]
  },
  {
   "cell_type": "markdown",
   "metadata": {
    "id": "2XR6YIKGjxXf"
   },
   "source": [
    "Описание данных:\n",
    "\n",
    "- __Pregnancies__ - данная единица отображает количество беременностей, единицы измерения - целые числа от 0 до N. Тип переменной - количественная, дискретная.\n",
    "- __Glucose__ - данная единица отображает уровень глюкозы в крови, единицы измерения - целые числа. Тип переменной - количественная, дискретная.\n",
    "- __BloodPressure__ - данная единица отображает артериальное давление, единицы измерения - миллиметры р/с, целые числа. Тип переменной - количественная, дискретная.\n",
    "- __SkinThickness__ - данная единица отображает обхват трицепса в миллиметрах, целые числа. Тип переменной - количественная, дискретная.\n",
    "- __Insulin__ - данная единица отображает уровень инсулина в крови, целые числа. Тип переменной - количественная, дискретная.\n",
    "- __BMI__ - данная единица отображает индекс массы тела. Тип переменной - количественная, непрерывная.\n",
    "- __DiabetesPedigreeFunction__ - данная единица отображает риск наследственного диабета в зависимости наличия диабета у родственников. Выражается десятичной дробью от 0 до 1. Тип переменной - количественная, непрерывная.\n",
    "- __Age__ - данная единица отражает возраст в целых числах. Тип переменной - количественная, дискретная.\n",
    "- __Class__ - данная единица отражает наличие диабета у субъекта, выражена 0(здоров) или 1(болен). Тип переменной - категориальная, бинарная."
   ]
  },
  {
   "cell_type": "markdown",
   "source": [
    "## Задание 1"
   ],
   "metadata": {
    "id": "W_df6cJGKQtT"
   }
  },
  {
   "cell_type": "markdown",
   "metadata": {
    "id": "x0CsPO-4jxXg"
   },
   "source": [
    "Как вы видите, в данных много пропусков (NaN). Любым способом посчитайте количество пропусков в каждом из столбцов (но мы должны видеть как вы это делали).\n",
    "\n",
    "Для тех переменных, в которых есть пропуске, выведите количество пропущенных значений в следующем формате:\n",
    "\n",
    "\"В переменной {название переменной} {количество} пропущенных значений\""
   ]
  },
  {
   "cell_type": "code",
   "execution_count": 5,
   "metadata": {
    "id": "eO9dh0z6qFHo",
    "ExecuteTime": {
     "end_time": "2024-02-03T16:00:35.153724Z",
     "start_time": "2024-02-03T16:00:35.149964Z"
    }
   },
   "outputs": [
    {
     "data": {
      "text/plain": "Pregnancies                   0\nGlucose                       5\nBloodPressure                35\nSkinThickness               227\nInsulin                     374\nBMI                          11\nDiabetesPedigreeFunction      0\nAge                           0\nClass                         0\ndtype: int64"
     },
     "execution_count": 5,
     "metadata": {},
     "output_type": "execute_result"
    }
   ],
   "source": [
    "# решение\n",
    "data.isna().sum()"
   ]
  },
  {
   "cell_type": "code",
   "outputs": [
    {
     "name": "stdout",
     "output_type": "stream",
     "text": [
      "В переменной Pregnancies 0 пропущенных значений\n",
      "В переменной Glucose 5 пропущенных значений\n",
      "В переменной BloodPressure 35 пропущенных значений\n",
      "В переменной SkinThickness 227 пропущенных значений\n",
      "В переменной Insulin 374 пропущенных значений\n",
      "В переменной BMI 11 пропущенных значений\n",
      "В переменной DiabetesPedigreeFunction 0 пропущенных значений\n",
      "В переменной Age 0 пропущенных значений\n",
      "В переменной Class 0 пропущенных значений\n"
     ]
    }
   ],
   "source": [
    "for col in data.columns:\n",
    "    print('В переменной', col, data[col].isna().sum(), 'пропущенных значений')"
   ],
   "metadata": {
    "collapsed": false,
    "ExecuteTime": {
     "end_time": "2024-02-03T16:00:35.779434Z",
     "start_time": "2024-02-03T16:00:35.773072Z"
    }
   },
   "execution_count": 6
  },
  {
   "cell_type": "markdown",
   "source": [
    "## Задание 2"
   ],
   "metadata": {
    "id": "J7I3V1wpKObi"
   }
  },
  {
   "cell_type": "markdown",
   "metadata": {
    "id": "Q-S71t5rjxXj"
   },
   "source": [
    "Замените все пропуски дискретных признаков соответствующими медианами, непрерывных признаков - средними значениями."
   ]
  },
  {
   "cell_type": "code",
   "execution_count": 7,
   "metadata": {
    "id": "X6sFZJ_FjxXj",
    "ExecuteTime": {
     "end_time": "2024-02-03T16:00:37.761229Z",
     "start_time": "2024-02-03T16:00:37.740636Z"
    }
   },
   "outputs": [
    {
     "data": {
      "text/plain": "   Pregnancies  Glucose  BloodPressure  SkinThickness  Insulin   BMI  \\\n0            6    148.0           72.0           35.0    125.0  33.6   \n1            1     85.0           66.0           29.0    125.0  26.6   \n2            8    183.0           64.0           29.0    125.0  23.3   \n3            1     89.0           66.0           23.0     94.0  28.1   \n4            0    137.0           40.0           35.0    168.0  43.1   \n5            5    116.0           74.0           29.0    125.0  25.6   \n6            3     78.0           50.0           32.0     88.0  31.0   \n7           10    115.0           72.0           29.0    125.0  35.3   \n8            2    197.0           70.0           45.0    543.0  30.5   \n9            8    125.0           96.0           29.0    125.0   NaN   \n\n   DiabetesPedigreeFunction  Age  Class  \n0                     0.627   50      1  \n1                     0.351   31      0  \n2                     0.672   32      1  \n3                     0.167   21      0  \n4                     2.288   33      1  \n5                     0.201   30      0  \n6                     0.248   26      1  \n7                     0.134   29      0  \n8                     0.158   53      1  \n9                     0.232   54      1  ",
      "text/html": "<div>\n<style scoped>\n    .dataframe tbody tr th:only-of-type {\n        vertical-align: middle;\n    }\n\n    .dataframe tbody tr th {\n        vertical-align: top;\n    }\n\n    .dataframe thead th {\n        text-align: right;\n    }\n</style>\n<table border=\"1\" class=\"dataframe\">\n  <thead>\n    <tr style=\"text-align: right;\">\n      <th></th>\n      <th>Pregnancies</th>\n      <th>Glucose</th>\n      <th>BloodPressure</th>\n      <th>SkinThickness</th>\n      <th>Insulin</th>\n      <th>BMI</th>\n      <th>DiabetesPedigreeFunction</th>\n      <th>Age</th>\n      <th>Class</th>\n    </tr>\n  </thead>\n  <tbody>\n    <tr>\n      <th>0</th>\n      <td>6</td>\n      <td>148.0</td>\n      <td>72.0</td>\n      <td>35.0</td>\n      <td>125.0</td>\n      <td>33.6</td>\n      <td>0.627</td>\n      <td>50</td>\n      <td>1</td>\n    </tr>\n    <tr>\n      <th>1</th>\n      <td>1</td>\n      <td>85.0</td>\n      <td>66.0</td>\n      <td>29.0</td>\n      <td>125.0</td>\n      <td>26.6</td>\n      <td>0.351</td>\n      <td>31</td>\n      <td>0</td>\n    </tr>\n    <tr>\n      <th>2</th>\n      <td>8</td>\n      <td>183.0</td>\n      <td>64.0</td>\n      <td>29.0</td>\n      <td>125.0</td>\n      <td>23.3</td>\n      <td>0.672</td>\n      <td>32</td>\n      <td>1</td>\n    </tr>\n    <tr>\n      <th>3</th>\n      <td>1</td>\n      <td>89.0</td>\n      <td>66.0</td>\n      <td>23.0</td>\n      <td>94.0</td>\n      <td>28.1</td>\n      <td>0.167</td>\n      <td>21</td>\n      <td>0</td>\n    </tr>\n    <tr>\n      <th>4</th>\n      <td>0</td>\n      <td>137.0</td>\n      <td>40.0</td>\n      <td>35.0</td>\n      <td>168.0</td>\n      <td>43.1</td>\n      <td>2.288</td>\n      <td>33</td>\n      <td>1</td>\n    </tr>\n    <tr>\n      <th>5</th>\n      <td>5</td>\n      <td>116.0</td>\n      <td>74.0</td>\n      <td>29.0</td>\n      <td>125.0</td>\n      <td>25.6</td>\n      <td>0.201</td>\n      <td>30</td>\n      <td>0</td>\n    </tr>\n    <tr>\n      <th>6</th>\n      <td>3</td>\n      <td>78.0</td>\n      <td>50.0</td>\n      <td>32.0</td>\n      <td>88.0</td>\n      <td>31.0</td>\n      <td>0.248</td>\n      <td>26</td>\n      <td>1</td>\n    </tr>\n    <tr>\n      <th>7</th>\n      <td>10</td>\n      <td>115.0</td>\n      <td>72.0</td>\n      <td>29.0</td>\n      <td>125.0</td>\n      <td>35.3</td>\n      <td>0.134</td>\n      <td>29</td>\n      <td>0</td>\n    </tr>\n    <tr>\n      <th>8</th>\n      <td>2</td>\n      <td>197.0</td>\n      <td>70.0</td>\n      <td>45.0</td>\n      <td>543.0</td>\n      <td>30.5</td>\n      <td>0.158</td>\n      <td>53</td>\n      <td>1</td>\n    </tr>\n    <tr>\n      <th>9</th>\n      <td>8</td>\n      <td>125.0</td>\n      <td>96.0</td>\n      <td>29.0</td>\n      <td>125.0</td>\n      <td>NaN</td>\n      <td>0.232</td>\n      <td>54</td>\n      <td>1</td>\n    </tr>\n  </tbody>\n</table>\n</div>"
     },
     "execution_count": 7,
     "metadata": {},
     "output_type": "execute_result"
    }
   ],
   "source": [
    "# решение\n",
    "data.fillna({'Pregnancies':data.Pregnancies.median(),'Glucose':data.Glucose.median(),'BloodPressure':data.BloodPressure.median(),'SkinThickness':data.SkinThickness.median(),'Insulin':data.Insulin.median(),'Age':data.Age.median()}, inplace=True)\n",
    "data.head(10)"
   ]
  },
  {
   "cell_type": "code",
   "outputs": [
    {
     "data": {
      "text/plain": "   Pregnancies  Glucose  BloodPressure  SkinThickness  Insulin        BMI  \\\n0            6    148.0           72.0           35.0    125.0  33.600000   \n1            1     85.0           66.0           29.0    125.0  26.600000   \n2            8    183.0           64.0           29.0    125.0  23.300000   \n3            1     89.0           66.0           23.0     94.0  28.100000   \n4            0    137.0           40.0           35.0    168.0  43.100000   \n5            5    116.0           74.0           29.0    125.0  25.600000   \n6            3     78.0           50.0           32.0     88.0  31.000000   \n7           10    115.0           72.0           29.0    125.0  35.300000   \n8            2    197.0           70.0           45.0    543.0  30.500000   \n9            8    125.0           96.0           29.0    125.0  32.457464   \n\n   DiabetesPedigreeFunction  Age  Class  \n0                     0.627   50      1  \n1                     0.351   31      0  \n2                     0.672   32      1  \n3                     0.167   21      0  \n4                     2.288   33      1  \n5                     0.201   30      0  \n6                     0.248   26      1  \n7                     0.134   29      0  \n8                     0.158   53      1  \n9                     0.232   54      1  ",
      "text/html": "<div>\n<style scoped>\n    .dataframe tbody tr th:only-of-type {\n        vertical-align: middle;\n    }\n\n    .dataframe tbody tr th {\n        vertical-align: top;\n    }\n\n    .dataframe thead th {\n        text-align: right;\n    }\n</style>\n<table border=\"1\" class=\"dataframe\">\n  <thead>\n    <tr style=\"text-align: right;\">\n      <th></th>\n      <th>Pregnancies</th>\n      <th>Glucose</th>\n      <th>BloodPressure</th>\n      <th>SkinThickness</th>\n      <th>Insulin</th>\n      <th>BMI</th>\n      <th>DiabetesPedigreeFunction</th>\n      <th>Age</th>\n      <th>Class</th>\n    </tr>\n  </thead>\n  <tbody>\n    <tr>\n      <th>0</th>\n      <td>6</td>\n      <td>148.0</td>\n      <td>72.0</td>\n      <td>35.0</td>\n      <td>125.0</td>\n      <td>33.600000</td>\n      <td>0.627</td>\n      <td>50</td>\n      <td>1</td>\n    </tr>\n    <tr>\n      <th>1</th>\n      <td>1</td>\n      <td>85.0</td>\n      <td>66.0</td>\n      <td>29.0</td>\n      <td>125.0</td>\n      <td>26.600000</td>\n      <td>0.351</td>\n      <td>31</td>\n      <td>0</td>\n    </tr>\n    <tr>\n      <th>2</th>\n      <td>8</td>\n      <td>183.0</td>\n      <td>64.0</td>\n      <td>29.0</td>\n      <td>125.0</td>\n      <td>23.300000</td>\n      <td>0.672</td>\n      <td>32</td>\n      <td>1</td>\n    </tr>\n    <tr>\n      <th>3</th>\n      <td>1</td>\n      <td>89.0</td>\n      <td>66.0</td>\n      <td>23.0</td>\n      <td>94.0</td>\n      <td>28.100000</td>\n      <td>0.167</td>\n      <td>21</td>\n      <td>0</td>\n    </tr>\n    <tr>\n      <th>4</th>\n      <td>0</td>\n      <td>137.0</td>\n      <td>40.0</td>\n      <td>35.0</td>\n      <td>168.0</td>\n      <td>43.100000</td>\n      <td>2.288</td>\n      <td>33</td>\n      <td>1</td>\n    </tr>\n    <tr>\n      <th>5</th>\n      <td>5</td>\n      <td>116.0</td>\n      <td>74.0</td>\n      <td>29.0</td>\n      <td>125.0</td>\n      <td>25.600000</td>\n      <td>0.201</td>\n      <td>30</td>\n      <td>0</td>\n    </tr>\n    <tr>\n      <th>6</th>\n      <td>3</td>\n      <td>78.0</td>\n      <td>50.0</td>\n      <td>32.0</td>\n      <td>88.0</td>\n      <td>31.000000</td>\n      <td>0.248</td>\n      <td>26</td>\n      <td>1</td>\n    </tr>\n    <tr>\n      <th>7</th>\n      <td>10</td>\n      <td>115.0</td>\n      <td>72.0</td>\n      <td>29.0</td>\n      <td>125.0</td>\n      <td>35.300000</td>\n      <td>0.134</td>\n      <td>29</td>\n      <td>0</td>\n    </tr>\n    <tr>\n      <th>8</th>\n      <td>2</td>\n      <td>197.0</td>\n      <td>70.0</td>\n      <td>45.0</td>\n      <td>543.0</td>\n      <td>30.500000</td>\n      <td>0.158</td>\n      <td>53</td>\n      <td>1</td>\n    </tr>\n    <tr>\n      <th>9</th>\n      <td>8</td>\n      <td>125.0</td>\n      <td>96.0</td>\n      <td>29.0</td>\n      <td>125.0</td>\n      <td>32.457464</td>\n      <td>0.232</td>\n      <td>54</td>\n      <td>1</td>\n    </tr>\n  </tbody>\n</table>\n</div>"
     },
     "execution_count": 8,
     "metadata": {},
     "output_type": "execute_result"
    }
   ],
   "source": [
    "data.fillna({'BMI':data.BMI.mean(),'DiabetesPedigreeFunction':data.DiabetesPedigreeFunction.mean()}, inplace=True)\n",
    "data.head(10)"
   ],
   "metadata": {
    "collapsed": false,
    "ExecuteTime": {
     "end_time": "2024-02-03T16:00:38.645143Z",
     "start_time": "2024-02-03T16:00:38.640427Z"
    }
   },
   "execution_count": 8
  },
  {
   "cell_type": "markdown",
   "source": [
    "## Задание 3"
   ],
   "metadata": {
    "id": "TF6CeD4WKSsK"
   }
  },
  {
   "cell_type": "markdown",
   "metadata": {
    "id": "KPgh0pgojxXl"
   },
   "source": [
    "Выведите основные статистики (минимум, максимум, среднее, дисперсию, квантили) для всех столбцов."
   ]
  },
  {
   "cell_type": "code",
   "execution_count": 9,
   "metadata": {
    "id": "lBg_Pnt0jxXl",
    "ExecuteTime": {
     "end_time": "2024-02-03T16:00:40.399763Z",
     "start_time": "2024-02-03T16:00:40.366790Z"
    }
   },
   "outputs": [
    {
     "data": {
      "text/plain": "                          count        mean        std     min        25%  \\\nPregnancies               768.0    3.845052   3.369578   0.000    1.00000   \nGlucose                   768.0  121.656250  30.438286  44.000   99.75000   \nBloodPressure             768.0   72.386719  12.096642  24.000   64.00000   \nSkinThickness             768.0   29.108073   8.791221   7.000   25.00000   \nInsulin                   768.0  140.671875  86.383060  14.000  121.50000   \nBMI                       768.0   32.457464   6.875151  18.200   27.50000   \nDiabetesPedigreeFunction  768.0    0.471876   0.331329   0.078    0.24375   \nAge                       768.0   33.240885  11.760232  21.000   24.00000   \nClass                     768.0    0.348958   0.476951   0.000    0.00000   \n\n                               50%        75%     max  \nPregnancies                 3.0000    6.00000   17.00  \nGlucose                   117.0000  140.25000  199.00  \nBloodPressure              72.0000   80.00000  122.00  \nSkinThickness              29.0000   32.00000   99.00  \nInsulin                   125.0000  127.25000  846.00  \nBMI                        32.4000   36.60000   67.10  \nDiabetesPedigreeFunction    0.3725    0.62625    2.42  \nAge                        29.0000   41.00000   81.00  \nClass                       0.0000    1.00000    1.00  ",
      "text/html": "<div>\n<style scoped>\n    .dataframe tbody tr th:only-of-type {\n        vertical-align: middle;\n    }\n\n    .dataframe tbody tr th {\n        vertical-align: top;\n    }\n\n    .dataframe thead th {\n        text-align: right;\n    }\n</style>\n<table border=\"1\" class=\"dataframe\">\n  <thead>\n    <tr style=\"text-align: right;\">\n      <th></th>\n      <th>count</th>\n      <th>mean</th>\n      <th>std</th>\n      <th>min</th>\n      <th>25%</th>\n      <th>50%</th>\n      <th>75%</th>\n      <th>max</th>\n    </tr>\n  </thead>\n  <tbody>\n    <tr>\n      <th>Pregnancies</th>\n      <td>768.0</td>\n      <td>3.845052</td>\n      <td>3.369578</td>\n      <td>0.000</td>\n      <td>1.00000</td>\n      <td>3.0000</td>\n      <td>6.00000</td>\n      <td>17.00</td>\n    </tr>\n    <tr>\n      <th>Glucose</th>\n      <td>768.0</td>\n      <td>121.656250</td>\n      <td>30.438286</td>\n      <td>44.000</td>\n      <td>99.75000</td>\n      <td>117.0000</td>\n      <td>140.25000</td>\n      <td>199.00</td>\n    </tr>\n    <tr>\n      <th>BloodPressure</th>\n      <td>768.0</td>\n      <td>72.386719</td>\n      <td>12.096642</td>\n      <td>24.000</td>\n      <td>64.00000</td>\n      <td>72.0000</td>\n      <td>80.00000</td>\n      <td>122.00</td>\n    </tr>\n    <tr>\n      <th>SkinThickness</th>\n      <td>768.0</td>\n      <td>29.108073</td>\n      <td>8.791221</td>\n      <td>7.000</td>\n      <td>25.00000</td>\n      <td>29.0000</td>\n      <td>32.00000</td>\n      <td>99.00</td>\n    </tr>\n    <tr>\n      <th>Insulin</th>\n      <td>768.0</td>\n      <td>140.671875</td>\n      <td>86.383060</td>\n      <td>14.000</td>\n      <td>121.50000</td>\n      <td>125.0000</td>\n      <td>127.25000</td>\n      <td>846.00</td>\n    </tr>\n    <tr>\n      <th>BMI</th>\n      <td>768.0</td>\n      <td>32.457464</td>\n      <td>6.875151</td>\n      <td>18.200</td>\n      <td>27.50000</td>\n      <td>32.4000</td>\n      <td>36.60000</td>\n      <td>67.10</td>\n    </tr>\n    <tr>\n      <th>DiabetesPedigreeFunction</th>\n      <td>768.0</td>\n      <td>0.471876</td>\n      <td>0.331329</td>\n      <td>0.078</td>\n      <td>0.24375</td>\n      <td>0.3725</td>\n      <td>0.62625</td>\n      <td>2.42</td>\n    </tr>\n    <tr>\n      <th>Age</th>\n      <td>768.0</td>\n      <td>33.240885</td>\n      <td>11.760232</td>\n      <td>21.000</td>\n      <td>24.00000</td>\n      <td>29.0000</td>\n      <td>41.00000</td>\n      <td>81.00</td>\n    </tr>\n    <tr>\n      <th>Class</th>\n      <td>768.0</td>\n      <td>0.348958</td>\n      <td>0.476951</td>\n      <td>0.000</td>\n      <td>0.00000</td>\n      <td>0.0000</td>\n      <td>1.00000</td>\n      <td>1.00</td>\n    </tr>\n  </tbody>\n</table>\n</div>"
     },
     "execution_count": 9,
     "metadata": {},
     "output_type": "execute_result"
    }
   ],
   "source": [
    "# решение\n",
    "data.describe().transpose()"
   ]
  },
  {
   "cell_type": "markdown",
   "source": [
    "## Задание 4"
   ],
   "metadata": {
    "id": "ZjIW-Q47KUwd"
   }
  },
  {
   "cell_type": "markdown",
   "metadata": {
    "id": "SE52n_IZjxXn"
   },
   "source": [
    "У скольких женщин старше 50 лет обнаружен диабет?"
   ]
  },
  {
   "cell_type": "code",
   "execution_count": 10,
   "metadata": {
    "id": "nbypf5S8jxXo",
    "outputId": "7ec0ba00-a82d-41df-c48d-45f94eb65d3e",
    "ExecuteTime": {
     "end_time": "2024-02-03T16:00:45.629893Z",
     "start_time": "2024-02-03T16:00:45.624127Z"
    }
   },
   "outputs": [
    {
     "data": {
      "text/plain": "38"
     },
     "execution_count": 10,
     "metadata": {},
     "output_type": "execute_result"
    }
   ],
   "source": [
    "# ( ͡° ͜ʖ ͡°)づ ━━ ✫・*。\n",
    "# data[(data.Age > 50) & (data.Class == 1)].shape[0]  # старше 50 с диабетом\n",
    "len(data[(data['Age'] > 50) & (data['Class'] == 1)]) #вроде бы работает быстрее, чем через shape"
   ]
  },
  {
   "cell_type": "markdown",
   "source": [
    "## Задание 5"
   ],
   "metadata": {
    "id": "MzX_XnUxKWsp"
   }
  },
  {
   "cell_type": "markdown",
   "metadata": {
    "id": "KrBezBxVjxXr"
   },
   "source": [
    "Найдите трех женщин с наибольшими числом беременностей."
   ]
  },
  {
   "cell_type": "code",
   "execution_count": 49,
   "metadata": {
    "id": "TRzq5ouUjxXs",
    "ExecuteTime": {
     "end_time": "2024-02-03T20:09:01.291145Z",
     "start_time": "2024-02-03T20:09:01.264298Z"
    }
   },
   "outputs": [
    {
     "data": {
      "text/plain": "     Pregnancies  Glucose  BloodPressure  SkinThickness  Insulin   BMI  \\\n159           17    163.0           72.0           41.0    114.0  40.9   \n88            15    136.0           70.0           32.0    110.0  37.1   \n298           14    100.0           78.0           25.0    184.0  36.6   \n\n     DiabetesPedigreeFunction  Age  Class  \n159                     0.817   47      1  \n88                      0.153   43      1  \n298                     0.412   46      1  ",
      "text/html": "<div>\n<style scoped>\n    .dataframe tbody tr th:only-of-type {\n        vertical-align: middle;\n    }\n\n    .dataframe tbody tr th {\n        vertical-align: top;\n    }\n\n    .dataframe thead th {\n        text-align: right;\n    }\n</style>\n<table border=\"1\" class=\"dataframe\">\n  <thead>\n    <tr style=\"text-align: right;\">\n      <th></th>\n      <th>Pregnancies</th>\n      <th>Glucose</th>\n      <th>BloodPressure</th>\n      <th>SkinThickness</th>\n      <th>Insulin</th>\n      <th>BMI</th>\n      <th>DiabetesPedigreeFunction</th>\n      <th>Age</th>\n      <th>Class</th>\n    </tr>\n  </thead>\n  <tbody>\n    <tr>\n      <th>159</th>\n      <td>17</td>\n      <td>163.0</td>\n      <td>72.0</td>\n      <td>41.0</td>\n      <td>114.0</td>\n      <td>40.9</td>\n      <td>0.817</td>\n      <td>47</td>\n      <td>1</td>\n    </tr>\n    <tr>\n      <th>88</th>\n      <td>15</td>\n      <td>136.0</td>\n      <td>70.0</td>\n      <td>32.0</td>\n      <td>110.0</td>\n      <td>37.1</td>\n      <td>0.153</td>\n      <td>43</td>\n      <td>1</td>\n    </tr>\n    <tr>\n      <th>298</th>\n      <td>14</td>\n      <td>100.0</td>\n      <td>78.0</td>\n      <td>25.0</td>\n      <td>184.0</td>\n      <td>36.6</td>\n      <td>0.412</td>\n      <td>46</td>\n      <td>1</td>\n    </tr>\n  </tbody>\n</table>\n</div>"
     },
     "execution_count": 49,
     "metadata": {},
     "output_type": "execute_result"
    }
   ],
   "source": [
    "# решение\n",
    "data.sort_values(by='Pregnancies', ascending=False).head(3)"
   ]
  },
  {
   "cell_type": "markdown",
   "source": [
    "## Задание 6"
   ],
   "metadata": {
    "id": "Ny9thEXLKYpW"
   }
  },
  {
   "cell_type": "markdown",
   "metadata": {
    "id": "NHPD5gpWjxXu"
   },
   "source": [
    "Сколько женщин успели родить 3 или более детей до 30 лет?"
   ]
  },
  {
   "cell_type": "code",
   "execution_count": 50,
   "metadata": {
    "id": "tM3xMXiXjxXv",
    "ExecuteTime": {
     "end_time": "2024-02-03T20:09:04.359074Z",
     "start_time": "2024-02-03T20:09:04.331346Z"
    }
   },
   "outputs": [
    {
     "data": {
      "text/plain": "117"
     },
     "execution_count": 50,
     "metadata": {},
     "output_type": "execute_result"
    }
   ],
   "source": [
    "# решение\n",
    "data[(data['Pregnancies'] >= 3) & (data['Age'] < 30)].shape[0]"
   ]
  },
  {
   "cell_type": "markdown",
   "source": [
    "## Задание 7"
   ],
   "metadata": {
    "id": "yKtscYk1KbFI"
   }
  },
  {
   "cell_type": "markdown",
   "metadata": {
    "id": "Iwjda-nSjxXy"
   },
   "source": [
    "Нормальным кровяным давлением будем считать давление в диапазоне [80-89]. У какого процента женщин давление нормальное?"
   ]
  },
  {
   "cell_type": "code",
   "execution_count": 51,
   "metadata": {
    "id": "jjy6ra1RjxXz",
    "ExecuteTime": {
     "end_time": "2024-02-03T20:09:05.984429Z",
     "start_time": "2024-02-03T20:09:05.956310Z"
    }
   },
   "outputs": [
    {
     "data": {
      "text/plain": "0.189"
     },
     "execution_count": 51,
     "metadata": {},
     "output_type": "execute_result"
    }
   ],
   "source": [
    "# решение\n",
    "# data.BloodPressure.between(float(80.0),float(89.0), inclusive='both').count() #не заработала\n",
    "((data['BloodPressure'] >= 80.0) & (data['BloodPressure'] <= 89.0)).mean().round(3)"
   ]
  },
  {
   "cell_type": "markdown",
   "source": [
    "## Задание 8"
   ],
   "metadata": {
    "id": "ze_JNmp9Kd4_"
   }
  },
  {
   "cell_type": "markdown",
   "metadata": {
    "id": "4KhYpSOBjxX1"
   },
   "source": [
    "Считается, что BMI >= 30 - это признак ожирения.\n",
    "У скольких женщин с признаками ожирения кровяное давление выше среднего?"
   ]
  },
  {
   "cell_type": "code",
   "execution_count": 52,
   "metadata": {
    "id": "uBz8FcB4jxX1",
    "ExecuteTime": {
     "end_time": "2024-02-03T20:09:09.254711Z",
     "start_time": "2024-02-03T20:09:09.223158Z"
    }
   },
   "outputs": [
    {
     "data": {
      "text/plain": "251"
     },
     "execution_count": 52,
     "metadata": {},
     "output_type": "execute_result"
    }
   ],
   "source": [
    "# решение\n",
    "((data['BMI'] >= 30) & (data['BloodPressure'] > data['BloodPressure'].mean())).sum()"
   ]
  },
  {
   "cell_type": "markdown",
   "source": [
    "## Задание 9"
   ],
   "metadata": {
    "id": "CQh4mGriKgy8"
   }
  },
  {
   "cell_type": "markdown",
   "metadata": {
    "id": "JTQ_IValjxX3"
   },
   "source": [
    "Сравните средние значения для признаков __Glucose,\tBloodPressure,\tInsulin__ среди тех, у кого обнаружен диабет, и тех, у кого его нет."
   ]
  },
  {
   "cell_type": "code",
   "execution_count": 53,
   "metadata": {
    "id": "qEoifUyjjxX3",
    "ExecuteTime": {
     "end_time": "2024-02-03T20:09:11.709950Z",
     "start_time": "2024-02-03T20:09:11.692821Z"
    }
   },
   "outputs": [
    {
     "name": "stdout",
     "output_type": "stream",
     "text": [
      "Обнаружен диабет:\n",
      "Glucose          142.131\n",
      "BloodPressure     75.123\n",
      "Insulin          164.701\n",
      "dtype: float64\n",
      "Диабет не обнаружен:\n",
      "Glucose          110.682\n",
      "BloodPressure     70.920\n",
      "Insulin          127.792\n",
      "dtype: float64\n"
     ]
    }
   ],
   "source": [
    "# решение\n",
    "print('Обнаружен диабет:')\n",
    "print((data[data['Class'] == 1][['Glucose', 'BloodPressure', 'Insulin']]).mean().round(3))\n",
    "print('Диабет не обнаружен:')\n",
    "print((data[data['Class'] == 0][['Glucose', 'BloodPressure', 'Insulin']]).mean().round(3))"
   ]
  },
  {
   "cell_type": "code",
   "execution_count": 54,
   "metadata": {
    "id": "7JkZeqyXjxX6",
    "ExecuteTime": {
     "end_time": "2024-02-03T20:09:12.582676Z",
     "start_time": "2024-02-03T20:09:12.573622Z"
    }
   },
   "outputs": [
    {
     "data": {
      "text/plain": "             BloodPressure     Glucose     Insulin\nClass                                             \nЕсть диабет      75.123134  142.130597  164.701493\nНет диабета      70.920000  110.682000  127.792000",
      "text/html": "<div>\n<style scoped>\n    .dataframe tbody tr th:only-of-type {\n        vertical-align: middle;\n    }\n\n    .dataframe tbody tr th {\n        vertical-align: top;\n    }\n\n    .dataframe thead th {\n        text-align: right;\n    }\n</style>\n<table border=\"1\" class=\"dataframe\">\n  <thead>\n    <tr style=\"text-align: right;\">\n      <th></th>\n      <th>BloodPressure</th>\n      <th>Glucose</th>\n      <th>Insulin</th>\n    </tr>\n    <tr>\n      <th>Class</th>\n      <th></th>\n      <th></th>\n      <th></th>\n    </tr>\n  </thead>\n  <tbody>\n    <tr>\n      <th>Есть диабет</th>\n      <td>75.123134</td>\n      <td>142.130597</td>\n      <td>164.701493</td>\n    </tr>\n    <tr>\n      <th>Нет диабета</th>\n      <td>70.920000</td>\n      <td>110.682000</td>\n      <td>127.792000</td>\n    </tr>\n  </tbody>\n</table>\n</div>"
     },
     "execution_count": 54,
     "metadata": {},
     "output_type": "execute_result"
    }
   ],
   "source": [
    "# решение2\n",
    "\n",
    "# data['Class'].rename({\"0\": \"Диабет не обнаружен\", \"1\": \"Диабет обнаружен\"})\n",
    "# print(data.head(3))\n",
    "\n",
    "diab_pivot = pd.pivot_table(data.replace({0:'Нет диабета', 1:'Есть диабет'}), index=['Class'], values={'Glucose', 'BloodPressure', 'Insulin'})\n",
    "diab_pivot"
   ]
  },
  {
   "cell_type": "code",
   "execution_count": 55,
   "metadata": {
    "id": "IdlgkPfzjxX8",
    "ExecuteTime": {
     "end_time": "2024-02-03T20:09:16.920880Z",
     "start_time": "2024-02-03T20:09:16.907204Z"
    }
   },
   "outputs": [],
   "source": [
    "# решение"
   ]
  },
  {
   "cell_type": "markdown",
   "source": [
    "## Задание 10"
   ],
   "metadata": {
    "id": "8ftgGS9QKiv2"
   }
  },
  {
   "cell_type": "markdown",
   "metadata": {
    "id": "Ki1CXmz0jxYA"
   },
   "source": [
    "Постройте круговую диаграмму для признака __Class__."
   ]
  },
  {
   "cell_type": "code",
   "outputs": [
    {
     "data": {
      "text/plain": "<Axes: title={'center': 'Pie diag for'}, ylabel='count'>"
     },
     "execution_count": 56,
     "metadata": {},
     "output_type": "execute_result"
    },
    {
     "data": {
      "text/plain": "<Figure size 640x480 with 1 Axes>",
      "image/png": "[encoded data removed]"
     },
     "metadata": {},
     "output_type": "display_data"
    }
   ],
   "source": [
    "data['Class'].value_counts().groupby('Class').sum().plot(kind='pie', title='Pie diag for', autopct='%1.0f%%', colors=['red', 'blue'])"
   ],
   "metadata": {
    "collapsed": false,
    "ExecuteTime": {
     "end_time": "2024-02-03T20:09:18.397067Z",
     "start_time": "2024-02-03T20:09:18.358307Z"
    }
   },
   "execution_count": 56
  },
  {
   "cell_type": "markdown",
   "source": [
    "## Задание 11"
   ],
   "metadata": {
    "id": "3_1puRtCKmJr"
   }
  },
  {
   "cell_type": "markdown",
   "metadata": {
    "id": "uaLhpEi2jxYF"
   },
   "source": [
    "Постройте распределение для признака __BMI__ и сравните его с нормальным (напишите вывод в новой markdown-ячейке под графиками)"
   ]
  },
  {
   "cell_type": "code",
   "execution_count": 57,
   "metadata": {
    "id": "6AVYJbM1jxYG",
    "ExecuteTime": {
     "end_time": "2024-02-03T20:09:23.124059Z",
     "start_time": "2024-02-03T20:09:22.939181Z"
    }
   },
   "outputs": [
    {
     "name": "stdout",
     "output_type": "stream",
     "text": [
      "Axes(0.125,0.11;0.775x0.77)\n"
     ]
    },
    {
     "data": {
      "text/plain": "<Figure size 640x480 with 1 Axes>",
      "image/png": "[encoded data removed]"
     },
     "metadata": {},
     "output_type": "display_data"
    }
   ],
   "source": [
    "# решение\n",
    "print(data['BMI'].plot(kind='kde', title='BMI distribution'))"
   ]
  },
  {
   "cell_type": "code",
   "outputs": [],
   "source": [
    "from scipy.stats import norm \n",
    "import statistics\n",
    "import numpy as np\n",
    "import matplotlib.pyplot as plt\n",
    "import scipy.stats as stats"
   ],
   "metadata": {
    "collapsed": false,
    "ExecuteTime": {
     "end_time": "2024-02-03T20:09:24.203615Z",
     "start_time": "2024-02-03T20:09:24.197251Z"
    }
   },
   "execution_count": 58
  },
  {
   "cell_type": "markdown",
   "source": [
    "Постройте нормальное распределение поверх графика."
   ],
   "metadata": {
    "id": "JoobdX6kK6ms"
   }
  },
  {
   "cell_type": "code",
   "source": [
    "# решение\n",
    "data['BMI'].plot(kind='kde', title='Normal one over BMI distribution', xlabel = 'BMI', legend=True)\n",
    "\n",
    "x = np.arange(0, 80, 0.1)\n",
    "plt.plot(x, norm.pdf(x, data.BMI.mean(), data.BMI.std()), color='red', linewidth=1.5, linestyle='dashed', label='Normal distribution')\n",
    "plt.legend()\n",
    "plt.show()"
   ],
   "metadata": {
    "id": "jrBFPtsGK7fu",
    "ExecuteTime": {
     "end_time": "2024-02-03T20:09:26.406473Z",
     "start_time": "2024-02-03T20:09:26.273246Z"
    }
   },
   "execution_count": 59,
   "outputs": [
    {
     "data": {
      "text/plain": "<Figure size 640x480 with 1 Axes>",
      "image/png": "[encoded data removed]"
     },
     "metadata": {},
     "output_type": "display_data"
    }
   ]
  },
  {
   "cell_type": "markdown",
   "source": [
    "Вывод: Распределение для __BMI__ практически не отличается от сгенерированного нормального. Можно полагать, что значения __BMI__ в рамках нормального распределения. В свою очередь, это значит, что в среднем BMI для данного датасета - data.BMI.mean()"
   ],
   "metadata": {
    "collapsed": false
   }
  },
  {
   "cell_type": "code",
   "outputs": [
    {
     "data": {
      "text/plain": "<Axes: title={'center': 'BMI distribution'}, xlabel='BMI', ylabel='Count'>"
     },
     "execution_count": 60,
     "metadata": {},
     "output_type": "execute_result"
    },
    {
     "data": {
      "text/plain": "<Figure size 900x600 with 1 Axes>",
      "image/png": "[encoded data removed]"
     },
     "metadata": {},
     "output_type": "display_data"
    }
   ],
   "source": [
    "# решение2\n",
    "\n",
    "fig, ax = plt.subplots(figsize=(9, 6))\n",
    "ax.set_title('BMI distribution', fontsize=15)\n",
    "sns.histplot(data.BMI,\n",
    "bins=30,\n",
    "ax=ax,\n",
    "kde=True,\n",
    "color='green',\n",
    "edgecolor='darkgreen')"
   ],
   "metadata": {
    "collapsed": false,
    "ExecuteTime": {
     "end_time": "2024-02-03T20:09:28.969993Z",
     "start_time": "2024-02-03T20:09:28.710104Z"
    }
   },
   "execution_count": 60
  },
  {
   "cell_type": "markdown",
   "source": [
    "## Задание 12"
   ],
   "metadata": {
    "id": "ALOasf8DKrJV"
   }
  },
  {
   "cell_type": "markdown",
   "metadata": {
    "id": "jQEMd-qyjxYK"
   },
   "source": [
    "Постройте следующий график: процент больных диабетом в зависимости от числа беременностей."
   ]
  },
  {
   "cell_type": "code",
   "outputs": [],
   "source": [
    "import seaborn as sns"
   ],
   "metadata": {
    "collapsed": false,
    "ExecuteTime": {
     "end_time": "2024-02-03T20:09:33.322645Z",
     "start_time": "2024-02-03T20:09:33.314719Z"
    }
   },
   "execution_count": 61
  },
  {
   "cell_type": "code",
   "outputs": [],
   "source": [
    "# data.head(3)"
   ],
   "metadata": {
    "collapsed": false,
    "ExecuteTime": {
     "end_time": "2024-02-03T20:09:33.845260Z",
     "start_time": "2024-02-03T20:09:33.838633Z"
    }
   },
   "execution_count": 62
  },
  {
   "cell_type": "code",
   "execution_count": 63,
   "metadata": {
    "id": "L2smN5VBjxYK",
    "ExecuteTime": {
     "end_time": "2024-02-03T20:09:34.544121Z",
     "start_time": "2024-02-03T20:09:34.368103Z"
    }
   },
   "outputs": [
    {
     "data": {
      "text/plain": "<Axes: xlabel='Pregnancies', ylabel='Class'>"
     },
     "execution_count": 63,
     "metadata": {},
     "output_type": "execute_result"
    },
    {
     "data": {
      "text/plain": "<Figure size 640x480 with 1 Axes>",
      "image/png": "[encoded data removed]"
     },
     "metadata": {},
     "output_type": "display_data"
    }
   ],
   "source": [
    "# решение\n",
    "sns.lineplot(x='Pregnancies', y='Class', data=data)"
   ]
  },
  {
   "cell_type": "markdown",
   "source": [
    "Вроде выглядит неплохо, но не уверен, что вообще правильно, не понимаю, как интерпретировать график. Ведь у нас Class либо 0, либо 1. Откуда дробные значения между? Или все-таки график построен неверно?"
   ],
   "metadata": {
    "collapsed": false
   }
  },
  {
   "cell_type": "markdown",
   "source": [
    "## Задание 13"
   ],
   "metadata": {
    "id": "8JT1xXo7Kthi"
   }
  },
  {
   "cell_type": "markdown",
   "metadata": {
    "id": "lQUXC7FqjxYM"
   },
   "source": [
    "Добавьте новый бинарный признак:\n",
    "\n",
    "__wasPregnant__ $\\in$ {0,1} - была женщина беременна (1) или нет (0)"
   ]
  },
  {
   "cell_type": "code",
   "execution_count": 64,
   "metadata": {
    "id": "iOH2LVQzjxYN",
    "ExecuteTime": {
     "end_time": "2024-02-03T20:09:42.362240Z",
     "start_time": "2024-02-03T20:09:42.344044Z"
    }
   },
   "outputs": [],
   "source": [
    "# решение\n",
    "data['wasPregnant'] = data['Pregnancies'].apply(lambda x: 1 if x > 0 else 0)"
   ]
  },
  {
   "cell_type": "code",
   "outputs": [
    {
     "data": {
      "text/plain": "   Pregnancies  wasPregnant\n0            6            1\n1            1            1\n2            8            1\n3            1            1\n4            0            0",
      "text/html": "<div>\n<style scoped>\n    .dataframe tbody tr th:only-of-type {\n        vertical-align: middle;\n    }\n\n    .dataframe tbody tr th {\n        vertical-align: top;\n    }\n\n    .dataframe thead th {\n        text-align: right;\n    }\n</style>\n<table border=\"1\" class=\"dataframe\">\n  <thead>\n    <tr style=\"text-align: right;\">\n      <th></th>\n      <th>Pregnancies</th>\n      <th>wasPregnant</th>\n    </tr>\n  </thead>\n  <tbody>\n    <tr>\n      <th>0</th>\n      <td>6</td>\n      <td>1</td>\n    </tr>\n    <tr>\n      <th>1</th>\n      <td>1</td>\n      <td>1</td>\n    </tr>\n    <tr>\n      <th>2</th>\n      <td>8</td>\n      <td>1</td>\n    </tr>\n    <tr>\n      <th>3</th>\n      <td>1</td>\n      <td>1</td>\n    </tr>\n    <tr>\n      <th>4</th>\n      <td>0</td>\n      <td>0</td>\n    </tr>\n  </tbody>\n</table>\n</div>"
     },
     "execution_count": 65,
     "metadata": {},
     "output_type": "execute_result"
    }
   ],
   "source": [
    "data[['Pregnancies','wasPregnant']].head(5)"
   ],
   "metadata": {
    "collapsed": false,
    "ExecuteTime": {
     "end_time": "2024-02-03T20:09:44.700353Z",
     "start_time": "2024-02-03T20:09:44.694216Z"
    }
   },
   "execution_count": 65
  },
  {
   "cell_type": "markdown",
   "source": [
    "## Задание 14"
   ],
   "metadata": {
    "id": "eSxAnVPJKvq5"
   }
  },
  {
   "cell_type": "markdown",
   "metadata": {
    "id": "lz7v-028jxYP"
   },
   "source": [
    "Сравните процент больных диабетом среди женщин, которые были беременны и не были."
   ]
  },
  {
   "cell_type": "code",
   "execution_count": 66,
   "metadata": {
    "id": "7AbUJ9DgjxYP",
    "ExecuteTime": {
     "end_time": "2024-02-03T20:09:48.775402Z",
     "start_time": "2024-02-03T20:09:48.757687Z"
    }
   },
   "outputs": [
    {
     "name": "stdout",
     "output_type": "stream",
     "text": [
      "230\n",
      "38\n"
     ]
    }
   ],
   "source": [
    "# решение\n",
    "print(len(data[(data['wasPregnant'] == 1) & (data['Class'] == 1)]))\n",
    "print(len(data[(data['wasPregnant'] == 0) & (data['Class'] == 1)]))"
   ]
  },
  {
   "cell_type": "code",
   "outputs": [],
   "source": [
    "#хотелось бы какой-то наглядный график. Не придумал пока"
   ],
   "metadata": {
    "collapsed": false,
    "ExecuteTime": {
     "end_time": "2024-02-03T20:09:50.371379Z",
     "start_time": "2024-02-03T20:09:50.368139Z"
    }
   },
   "execution_count": 67
  },
  {
   "cell_type": "markdown",
   "source": [
    "## Задание 15"
   ],
   "metadata": {
    "id": "a-P3dHT2KyMe"
   }
  },
  {
   "cell_type": "markdown",
   "metadata": {
    "id": "JFvXThqxjxYS"
   },
   "source": [
    "Добавьте новый категориальный признак __bodyType__ на основе столбца BMI:\n",
    "\n",
    "__BMI Categories:__\n",
    "    \n",
    "Underweight = <18.5\n",
    "\n",
    "Normal weight = 18.5–24.9\n",
    "\n",
    "Overweight = 25–29.9\n",
    "\n",
    "Obesity = BMI of 30 or greater\n",
    "\n",
    "Признак должен принимать значения Underweight, Normal weight, Overweight и Obesity."
   ]
  },
  {
   "cell_type": "code",
   "outputs": [],
   "source": [
    "def convertBMI(bmi):\n",
    "    match bmi:\n",
    "        case bm if bm < 18.5:\n",
    "            return 'Underweight'\n",
    "        case bm if 18.5 <= bm <= 24.9:\n",
    "            return 'Normal weight'\n",
    "        case bm if 25 <= bm <= 29.9:\n",
    "            return 'Overweight'\n",
    "        case bm if bm >= 30:\n",
    "            return 'Obesity'\n",
    "        case _:\n",
    "            return 'None'\n",
    "        "
   ],
   "metadata": {
    "collapsed": false,
    "ExecuteTime": {
     "end_time": "2024-02-03T20:09:57.748579Z",
     "start_time": "2024-02-03T20:09:57.731137Z"
    }
   },
   "execution_count": 68
  },
  {
   "cell_type": "code",
   "execution_count": 69,
   "metadata": {
    "id": "MZTrFpp2jxYS",
    "ExecuteTime": {
     "end_time": "2024-02-03T20:09:59.198173Z",
     "start_time": "2024-02-03T20:09:59.189332Z"
    }
   },
   "outputs": [],
   "source": [
    "# решение\n",
    "data['bodyType'] = data['BMI'].apply(lambda x: convertBMI(x))"
   ]
  },
  {
   "cell_type": "code",
   "outputs": [
    {
     "data": {
      "text/plain": "   Pregnancies  Glucose  BloodPressure  SkinThickness  Insulin   BMI  \\\n0            6    148.0           72.0           35.0    125.0  33.6   \n1            1     85.0           66.0           29.0    125.0  26.6   \n2            8    183.0           64.0           29.0    125.0  23.3   \n3            1     89.0           66.0           23.0     94.0  28.1   \n4            0    137.0           40.0           35.0    168.0  43.1   \n\n   DiabetesPedigreeFunction  Age  Class  wasPregnant       bodyType  \n0                     0.627   50      1            1        Obesity  \n1                     0.351   31      0            1     Overweight  \n2                     0.672   32      1            1  Normal weight  \n3                     0.167   21      0            1     Overweight  \n4                     2.288   33      1            0        Obesity  ",
      "text/html": "<div>\n<style scoped>\n    .dataframe tbody tr th:only-of-type {\n        vertical-align: middle;\n    }\n\n    .dataframe tbody tr th {\n        vertical-align: top;\n    }\n\n    .dataframe thead th {\n        text-align: right;\n    }\n</style>\n<table border=\"1\" class=\"dataframe\">\n  <thead>\n    <tr style=\"text-align: right;\">\n      <th></th>\n      <th>Pregnancies</th>\n      <th>Glucose</th>\n      <th>BloodPressure</th>\n      <th>SkinThickness</th>\n      <th>Insulin</th>\n      <th>BMI</th>\n      <th>DiabetesPedigreeFunction</th>\n      <th>Age</th>\n      <th>Class</th>\n      <th>wasPregnant</th>\n      <th>bodyType</th>\n    </tr>\n  </thead>\n  <tbody>\n    <tr>\n      <th>0</th>\n      <td>6</td>\n      <td>148.0</td>\n      <td>72.0</td>\n      <td>35.0</td>\n      <td>125.0</td>\n      <td>33.6</td>\n      <td>0.627</td>\n      <td>50</td>\n      <td>1</td>\n      <td>1</td>\n      <td>Obesity</td>\n    </tr>\n    <tr>\n      <th>1</th>\n      <td>1</td>\n      <td>85.0</td>\n      <td>66.0</td>\n      <td>29.0</td>\n      <td>125.0</td>\n      <td>26.6</td>\n      <td>0.351</td>\n      <td>31</td>\n      <td>0</td>\n      <td>1</td>\n      <td>Overweight</td>\n    </tr>\n    <tr>\n      <th>2</th>\n      <td>8</td>\n      <td>183.0</td>\n      <td>64.0</td>\n      <td>29.0</td>\n      <td>125.0</td>\n      <td>23.3</td>\n      <td>0.672</td>\n      <td>32</td>\n      <td>1</td>\n      <td>1</td>\n      <td>Normal weight</td>\n    </tr>\n    <tr>\n      <th>3</th>\n      <td>1</td>\n      <td>89.0</td>\n      <td>66.0</td>\n      <td>23.0</td>\n      <td>94.0</td>\n      <td>28.1</td>\n      <td>0.167</td>\n      <td>21</td>\n      <td>0</td>\n      <td>1</td>\n      <td>Overweight</td>\n    </tr>\n    <tr>\n      <th>4</th>\n      <td>0</td>\n      <td>137.0</td>\n      <td>40.0</td>\n      <td>35.0</td>\n      <td>168.0</td>\n      <td>43.1</td>\n      <td>2.288</td>\n      <td>33</td>\n      <td>1</td>\n      <td>0</td>\n      <td>Obesity</td>\n    </tr>\n  </tbody>\n</table>\n</div>"
     },
     "execution_count": 70,
     "metadata": {},
     "output_type": "execute_result"
    }
   ],
   "source": [
    "data.head(5)"
   ],
   "metadata": {
    "collapsed": false,
    "ExecuteTime": {
     "end_time": "2024-02-03T20:09:59.765421Z",
     "start_time": "2024-02-03T20:09:59.738280Z"
    }
   },
   "execution_count": 70
  },
  {
   "cell_type": "markdown",
   "source": [
    "## Задание 16"
   ],
   "metadata": {
    "id": "V1khjHcwK14o"
   }
  },
  {
   "cell_type": "markdown",
   "metadata": {
    "id": "9mGxubgGjxYU"
   },
   "source": [
    "Будем считать \"здоровыми\" тех, у кого нормальный вес и кровяное давление. Какой процент \"здоровых\" женщин больны диабетом?"
   ]
  },
  {
   "cell_type": "code",
   "execution_count": 71,
   "metadata": {
    "id": "lIUbdSEFjxYV",
    "ExecuteTime": {
     "end_time": "2024-02-03T20:10:03.106457Z",
     "start_time": "2024-02-03T20:10:03.075865Z"
    }
   },
   "outputs": [
    {
     "data": {
      "text/plain": "0.001"
     },
     "execution_count": 71,
     "metadata": {},
     "output_type": "execute_result"
    }
   ],
   "source": [
    "# решение\n",
    "((data['BloodPressure'] >= 80.0) & (data['BloodPressure'] <= 89.0) & (data['bodyType'] == 'Normal weight') & (data['Class'] == 1)).mean().round(3)"
   ]
  },
  {
   "cell_type": "code",
   "outputs": [
    {
     "data": {
      "text/plain": "Class\n0    0.9\n1    0.1\nName: proportion, dtype: float64"
     },
     "execution_count": 73,
     "metadata": {},
     "output_type": "execute_result"
    }
   ],
   "source": [
    "#решение2\n",
    "data[(data['BloodPressure'] >= 80) & (data['BloodPressure'] <= 89) & (data['bodyType'] == 'Normal weight')]['Class'].value_counts(normalize = True)"
   ],
   "metadata": {
    "collapsed": false,
    "ExecuteTime": {
     "end_time": "2024-02-03T20:10:51.434701Z",
     "start_time": "2024-02-03T20:10:51.414682Z"
    }
   },
   "execution_count": 73
  },
  {
   "cell_type": "code",
   "outputs": [],
   "source": [],
   "metadata": {
    "collapsed": false
   }
  }
 ],
 "metadata": {
  "colab": {
   "provenance": []
  },
  "kernelspec": {
   "display_name": "Python 3",
   "language": "python",
   "name": "python3"
  },
  "language_info": {
   "codemirror_mode": {
    "name": "ipython",
    "version": 3
   },
   "file_extension": ".py",
   "mimetype": "text/x-python",
   "name": "python",
   "nbconvert_exporter": "python",
   "pygments_lexer": "ipython3",
   "version": "3.6.6"
  }
 },
 "nbformat": 4,
 "nbformat_minor": 0
}

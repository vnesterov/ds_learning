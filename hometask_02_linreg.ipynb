{
 "cells": [
  {
   "cell_type": "markdown",
   "metadata": {
    "id": "VRUsuZR2cQoY"
   },
   "source": [
    "# Домашнее задание 2: Линейные модели. Работа с признаками"
   ]
  },
  {
   "cell_type": "markdown",
   "source": [
    "## Импорт библиотек и загрузка данных"
   ],
   "metadata": {
    "id": "dKifEoUwTDPS"
   }
  },
  {
   "cell_type": "code",
   "outputs": [],
   "source": [
    "RANDOM_STATE = 42\n",
    "TEST_SIZE = 0.3"
   ],
   "metadata": {
    "collapsed": false,
    "ExecuteTime": {
     "end_time": "2024-02-11T13:21:34.153397Z",
     "start_time": "2024-02-11T13:21:34.146487Z"
    }
   },
   "execution_count": 23
  },
  {
   "cell_type": "code",
   "execution_count": 24,
   "metadata": {
    "id": "ilS-8Xr8cQod",
    "ExecuteTime": {
     "end_time": "2024-02-11T13:21:35.514226Z",
     "start_time": "2024-02-11T13:21:35.505657Z"
    }
   },
   "outputs": [],
   "source": [
    "import numpy as np\n",
    "import pandas as pd\n",
    "import matplotlib.pyplot as plt"
   ]
  },
  {
   "cell_type": "markdown",
   "metadata": {
    "id": "uGTNbhIPcQof"
   },
   "source": [
    "В этом задании мы рассмотрим различные аспекты построения линейной модели. Будем работать с одним из классических наборов данных в статистике, содержащим информацию о бриллиантах. Описание можно посмотреть [здесь](https://www.kaggle.com/shivam2503/diamonds)."
   ]
  },
  {
   "cell_type": "code",
   "source": [
    "DIAMONDS = 'https://raw.githubusercontent.com/evgpat/datasets/main/diamonds.csv'"
   ],
   "metadata": {
    "id": "BKTrB1PRTL6S",
    "ExecuteTime": {
     "end_time": "2024-02-11T13:21:37.500755Z",
     "start_time": "2024-02-11T13:21:37.491005Z"
    }
   },
   "execution_count": 25,
   "outputs": []
  },
  {
   "cell_type": "code",
   "execution_count": 26,
   "metadata": {
    "id": "rw4iV_yLcQof",
    "outputId": "5541c55e-55de-437a-f394-f3fe6e679846",
    "colab": {
     "base_uri": "https://localhost:8080/",
     "height": 206
    },
    "ExecuteTime": {
     "end_time": "2024-02-11T13:21:40.195631Z",
     "start_time": "2024-02-11T13:21:37.951324Z"
    }
   },
   "outputs": [
    {
     "data": {
      "text/plain": "   Unnamed: 0  carat      cut color clarity  depth  table  price     x     y  \\\n0           1   0.23    Ideal     E     SI2   61.5   55.0    326  3.95  3.98   \n1           2   0.21  Premium     E     SI1   59.8   61.0    326  3.89  3.84   \n2           3   0.23     Good     E     VS1   56.9   65.0    327  4.05  4.07   \n3           4   0.29  Premium     I     VS2   62.4   58.0    334  4.20  4.23   \n4           5   0.31     Good     J     SI2   63.3   58.0    335  4.34  4.35   \n\n      z  \n0  2.43  \n1  2.31  \n2  2.31  \n3  2.63  \n4  2.75  ",
      "text/html": "<div>\n<style scoped>\n    .dataframe tbody tr th:only-of-type {\n        vertical-align: middle;\n    }\n\n    .dataframe tbody tr th {\n        vertical-align: top;\n    }\n\n    .dataframe thead th {\n        text-align: right;\n    }\n</style>\n<table border=\"1\" class=\"dataframe\">\n  <thead>\n    <tr style=\"text-align: right;\">\n      <th></th>\n      <th>Unnamed: 0</th>\n      <th>carat</th>\n      <th>cut</th>\n      <th>color</th>\n      <th>clarity</th>\n      <th>depth</th>\n      <th>table</th>\n      <th>price</th>\n      <th>x</th>\n      <th>y</th>\n      <th>z</th>\n    </tr>\n  </thead>\n  <tbody>\n    <tr>\n      <th>0</th>\n      <td>1</td>\n      <td>0.23</td>\n      <td>Ideal</td>\n      <td>E</td>\n      <td>SI2</td>\n      <td>61.5</td>\n      <td>55.0</td>\n      <td>326</td>\n      <td>3.95</td>\n      <td>3.98</td>\n      <td>2.43</td>\n    </tr>\n    <tr>\n      <th>1</th>\n      <td>2</td>\n      <td>0.21</td>\n      <td>Premium</td>\n      <td>E</td>\n      <td>SI1</td>\n      <td>59.8</td>\n      <td>61.0</td>\n      <td>326</td>\n      <td>3.89</td>\n      <td>3.84</td>\n      <td>2.31</td>\n    </tr>\n    <tr>\n      <th>2</th>\n      <td>3</td>\n      <td>0.23</td>\n      <td>Good</td>\n      <td>E</td>\n      <td>VS1</td>\n      <td>56.9</td>\n      <td>65.0</td>\n      <td>327</td>\n      <td>4.05</td>\n      <td>4.07</td>\n      <td>2.31</td>\n    </tr>\n    <tr>\n      <th>3</th>\n      <td>4</td>\n      <td>0.29</td>\n      <td>Premium</td>\n      <td>I</td>\n      <td>VS2</td>\n      <td>62.4</td>\n      <td>58.0</td>\n      <td>334</td>\n      <td>4.20</td>\n      <td>4.23</td>\n      <td>2.63</td>\n    </tr>\n    <tr>\n      <th>4</th>\n      <td>5</td>\n      <td>0.31</td>\n      <td>Good</td>\n      <td>J</td>\n      <td>SI2</td>\n      <td>63.3</td>\n      <td>58.0</td>\n      <td>335</td>\n      <td>4.34</td>\n      <td>4.35</td>\n      <td>2.75</td>\n    </tr>\n  </tbody>\n</table>\n</div>"
     },
     "execution_count": 26,
     "metadata": {},
     "output_type": "execute_result"
    }
   ],
   "source": [
    "data = pd.read_csv(DIAMONDS)\n",
    "data.head(5)"
   ]
  },
  {
   "cell_type": "code",
   "outputs": [
    {
     "data": {
      "text/plain": "(53940, 11)"
     },
     "execution_count": 27,
     "metadata": {},
     "output_type": "execute_result"
    }
   ],
   "source": [
    "data.shape"
   ],
   "metadata": {
    "collapsed": false,
    "ExecuteTime": {
     "end_time": "2024-02-11T13:21:41.592053Z",
     "start_time": "2024-02-11T13:21:41.579684Z"
    }
   },
   "execution_count": 27
  },
  {
   "cell_type": "markdown",
   "source": [
    "Посмотрим на типы столбцов"
   ],
   "metadata": {
    "id": "ojs5EchFWhci"
   }
  },
  {
   "cell_type": "code",
   "source": [
    "data.dtypes"
   ],
   "metadata": {
    "id": "1JKPpem2Wius",
    "ExecuteTime": {
     "end_time": "2024-02-11T13:21:43.532045Z",
     "start_time": "2024-02-11T13:21:43.528025Z"
    }
   },
   "execution_count": 28,
   "outputs": [
    {
     "data": {
      "text/plain": "Unnamed: 0      int64\ncarat         float64\ncut            object\ncolor          object\nclarity        object\ndepth         float64\ntable         float64\nprice           int64\nx             float64\ny             float64\nz             float64\ndtype: object"
     },
     "execution_count": 28,
     "metadata": {},
     "output_type": "execute_result"
    }
   ]
  },
  {
   "cell_type": "markdown",
   "metadata": {
    "id": "Lw0VvSiDcQof"
   },
   "source": [
    "Мы будем решать задачу предсказания цены бриллианта `price` в зависимости от его характеристик."
   ]
  },
  {
   "cell_type": "markdown",
   "metadata": {
    "id": "jWAAav2YcQog"
   },
   "source": [
    "## Построение модели"
   ]
  },
  {
   "cell_type": "markdown",
   "metadata": {
    "id": "wRlfn1AdcQog"
   },
   "source": [
    "### Задание"
   ]
  },
  {
   "cell_type": "markdown",
   "source": [
    "Есть ли в наборе данных пропущенные значения? Если да, удалите строки с ними.\n",
    "\n",
    "Также выведите на экран число пропусков в каждом столбце."
   ],
   "metadata": {
    "id": "NsLlrKMoTWV3"
   }
  },
  {
   "cell_type": "code",
   "execution_count": 29,
   "metadata": {
    "id": "UhtzYYhWcQoi",
    "ExecuteTime": {
     "end_time": "2024-02-11T13:21:52.893946Z",
     "start_time": "2024-02-11T13:21:52.868242Z"
    }
   },
   "outputs": [
    {
     "data": {
      "text/plain": "Unnamed: 0    0\ncarat         0\ncut           0\ncolor         0\nclarity       0\ndepth         0\ntable         0\nprice         0\nx             0\ny             0\nz             0\ndtype: int64"
     },
     "execution_count": 29,
     "metadata": {},
     "output_type": "execute_result"
    }
   ],
   "source": [
    "# ваш код здесь\n",
    "data.isna().sum()"
   ]
  },
  {
   "cell_type": "markdown",
   "metadata": {
    "id": "QIv6NmAvcQoi"
   },
   "source": [
    "### Задача 2"
   ]
  },
  {
   "cell_type": "markdown",
   "source": [
    "Есть ли в наборе данных бессмысленные столбцы (признаки, не несущие дополнительной информации)?  \n",
    "Если да, то удалите их. Поясните свой выбор (напишите текстом обоснование)"
   ],
   "metadata": {
    "id": "AE1pbgfBTn2D"
   }
  },
  {
   "cell_type": "code",
   "execution_count": 32,
   "metadata": {
    "id": "U_0CNUupcQoj",
    "ExecuteTime": {
     "end_time": "2024-02-11T13:22:55.566115Z",
     "start_time": "2024-02-11T13:22:55.544923Z"
    }
   },
   "outputs": [],
   "source": [
    "# ваш код здесь\n",
    "data.drop(['Unnamed: 0'], axis = 1, inplace =True)\n",
    "#Очевидно, что эта колонка не несла никакой полезной информации"
   ]
  },
  {
   "cell_type": "markdown",
   "metadata": {
    "id": "dyxaSVUccQoj"
   },
   "source": [
    "### Задание 3"
   ]
  },
  {
   "cell_type": "markdown",
   "source": [
    "Линейная регрессия основана на предположении о линейной связи между признаками и целевой переменной, а потому перед выбором переменных для включения в модель имеет смысл проверить, насколько эта связь выполняется. Для следующих пунктов нам также потребуются корреляции между признаками.  \n",
    "Выведите матрицу корреляций между всеми вещественными признаками и целевой переменной.\n",
    "\n",
    "Какой вещественный признак коррелирует с целевой переменной больше всего?"
   ],
   "metadata": {
    "id": "WFjwqetkTwGv"
   }
  },
  {
   "cell_type": "code",
   "execution_count": 43,
   "metadata": {
    "id": "5GF_O6hacQok",
    "ExecuteTime": {
     "end_time": "2024-02-11T13:29:18.155021Z",
     "start_time": "2024-02-11T13:29:18.134535Z"
    }
   },
   "outputs": [
    {
     "data": {
      "text/plain": "          carat     depth     table     price         x         y         z\ncarat  1.000000  0.028224  0.181618  0.921591  0.975094  0.951722  0.953387\ndepth  0.028224  1.000000 -0.295779 -0.010647 -0.025289 -0.029341  0.094924\ntable  0.181618 -0.295779  1.000000  0.127134  0.195344  0.183760  0.150929\nprice  0.921591 -0.010647  0.127134  1.000000  0.884435  0.865421  0.861249\nx      0.975094 -0.025289  0.195344  0.884435  1.000000  0.974701  0.970772\ny      0.951722 -0.029341  0.183760  0.865421  0.974701  1.000000  0.952006\nz      0.953387  0.094924  0.150929  0.861249  0.970772  0.952006  1.000000",
      "text/html": "<div>\n<style scoped>\n    .dataframe tbody tr th:only-of-type {\n        vertical-align: middle;\n    }\n\n    .dataframe tbody tr th {\n        vertical-align: top;\n    }\n\n    .dataframe thead th {\n        text-align: right;\n    }\n</style>\n<table border=\"1\" class=\"dataframe\">\n  <thead>\n    <tr style=\"text-align: right;\">\n      <th></th>\n      <th>carat</th>\n      <th>depth</th>\n      <th>table</th>\n      <th>price</th>\n      <th>x</th>\n      <th>y</th>\n      <th>z</th>\n    </tr>\n  </thead>\n  <tbody>\n    <tr>\n      <th>carat</th>\n      <td>1.000000</td>\n      <td>0.028224</td>\n      <td>0.181618</td>\n      <td>0.921591</td>\n      <td>0.975094</td>\n      <td>0.951722</td>\n      <td>0.953387</td>\n    </tr>\n    <tr>\n      <th>depth</th>\n      <td>0.028224</td>\n      <td>1.000000</td>\n      <td>-0.295779</td>\n      <td>-0.010647</td>\n      <td>-0.025289</td>\n      <td>-0.029341</td>\n      <td>0.094924</td>\n    </tr>\n    <tr>\n      <th>table</th>\n      <td>0.181618</td>\n      <td>-0.295779</td>\n      <td>1.000000</td>\n      <td>0.127134</td>\n      <td>0.195344</td>\n      <td>0.183760</td>\n      <td>0.150929</td>\n    </tr>\n    <tr>\n      <th>price</th>\n      <td>0.921591</td>\n      <td>-0.010647</td>\n      <td>0.127134</td>\n      <td>1.000000</td>\n      <td>0.884435</td>\n      <td>0.865421</td>\n      <td>0.861249</td>\n    </tr>\n    <tr>\n      <th>x</th>\n      <td>0.975094</td>\n      <td>-0.025289</td>\n      <td>0.195344</td>\n      <td>0.884435</td>\n      <td>1.000000</td>\n      <td>0.974701</td>\n      <td>0.970772</td>\n    </tr>\n    <tr>\n      <th>y</th>\n      <td>0.951722</td>\n      <td>-0.029341</td>\n      <td>0.183760</td>\n      <td>0.865421</td>\n      <td>0.974701</td>\n      <td>1.000000</td>\n      <td>0.952006</td>\n    </tr>\n    <tr>\n      <th>z</th>\n      <td>0.953387</td>\n      <td>0.094924</td>\n      <td>0.150929</td>\n      <td>0.861249</td>\n      <td>0.970772</td>\n      <td>0.952006</td>\n      <td>1.000000</td>\n    </tr>\n  </tbody>\n</table>\n</div>"
     },
     "execution_count": 43,
     "metadata": {},
     "output_type": "execute_result"
    }
   ],
   "source": [
    "# ваш код здесь\n",
    "# import matplotlib.pyplot as plt\n",
    "# \n",
    "# plt.matshow(data.corr())\n",
    "# plt.show()\n",
    "# data[['carat', 'depth', 'table', 'price', 'x', 'y', 'z']].corr()\n",
    "data.select_dtypes(exclude='object').corr()"
   ]
  },
  {
   "cell_type": "code",
   "outputs": [
    {
     "data": {
      "text/plain": "<Axes: >"
     },
     "execution_count": 44,
     "metadata": {},
     "output_type": "execute_result"
    },
    {
     "data": {
      "text/plain": "<Figure size 1000x800 with 2 Axes>",
      "image/png": "[encoded data removed]"
     },
     "metadata": {},
     "output_type": "display_data"
    }
   ],
   "source": [
    "import matplotlib.pyplot as pl\n",
    "\n",
    "import seaborn as sns\n",
    "\n",
    "f, ax = pl.subplots(figsize=(10, 8))\n",
    "corr = data.select_dtypes(exclude='object').corr()\n",
    "sns.heatmap(corr,\n",
    "    cmap=sns.diverging_palette(220, 10, as_cmap=True),\n",
    "    vmin=-1.0, vmax=1.0,\n",
    "    square=True, ax=ax)"
   ],
   "metadata": {
    "collapsed": false,
    "ExecuteTime": {
     "end_time": "2024-02-11T13:30:25.771816Z",
     "start_time": "2024-02-11T13:30:25.644356Z"
    }
   },
   "execution_count": 44
  },
  {
   "cell_type": "markdown",
   "source": [
    "Целевая переменная price имеет значительную степерь корреляции с 4 признаками - carat, x, y, z."
   ],
   "metadata": {
    "collapsed": false
   }
  },
  {
   "cell_type": "markdown",
   "metadata": {
    "id": "WKadJc9wcQok"
   },
   "source": [
    "### Задание 4"
   ]
  },
  {
   "cell_type": "markdown",
   "source": [
    "Так как линейная модель складывает значения признаков с некоторыми весами, нам нужно аккуратно обработать категориальные признаки. Закодируйте категориальные переменные при помощи OneHot-кодирования ([`pd.get_dummies`](https://pandas.pydata.org/pandas-docs/stable/reference/api/pandas.get_dummies.html) или `sklearn.OneHotEncoder`). Не забудьте поставить значение параметра `drop_first` равным `True`.\n",
    "\n",
    "Сколько получилось столбцов в таблице `data`?"
   ],
   "metadata": {
    "id": "j55oUCs9T7aI"
   }
  },
  {
   "cell_type": "code",
   "outputs": [
    {
     "data": {
      "text/plain": "Index(['cut', 'color', 'clarity'], dtype='object')"
     },
     "execution_count": 47,
     "metadata": {},
     "output_type": "execute_result"
    }
   ],
   "source": [
    "cat_columns = data.select_dtypes(include='object').columns\n",
    "cat_columns"
   ],
   "metadata": {
    "collapsed": false,
    "ExecuteTime": {
     "end_time": "2024-02-11T13:32:29.443127Z",
     "start_time": "2024-02-11T13:32:29.424262Z"
    }
   },
   "execution_count": 47
  },
  {
   "cell_type": "code",
   "execution_count": 48,
   "metadata": {
    "id": "8cGDgSsFcQok",
    "ExecuteTime": {
     "end_time": "2024-02-11T13:32:35.961994Z",
     "start_time": "2024-02-11T13:32:35.918960Z"
    }
   },
   "outputs": [
    {
     "data": {
      "text/plain": "       carat        cut color clarity  depth  table  price     x     y     z  \\\n0       0.23      Ideal     E     SI2   61.5   55.0    326  3.95  3.98  2.43   \n1       0.21    Premium     E     SI1   59.8   61.0    326  3.89  3.84  2.31   \n2       0.23       Good     E     VS1   56.9   65.0    327  4.05  4.07  2.31   \n3       0.29    Premium     I     VS2   62.4   58.0    334  4.20  4.23  2.63   \n4       0.31       Good     J     SI2   63.3   58.0    335  4.34  4.35  2.75   \n...      ...        ...   ...     ...    ...    ...    ...   ...   ...   ...   \n53935   0.72      Ideal     D     SI1   60.8   57.0   2757  5.75  5.76  3.50   \n53936   0.72       Good     D     SI1   63.1   55.0   2757  5.69  5.75  3.61   \n53937   0.70  Very Good     D     SI1   62.8   60.0   2757  5.66  5.68  3.56   \n53938   0.86    Premium     H     SI2   61.0   58.0   2757  6.15  6.12  3.74   \n53939   0.75      Ideal     D     SI2   62.2   55.0   2757  5.83  5.87  3.64   \n\n       ...  color_I  color_J  clarity_I1  clarity_IF  clarity_SI1  \\\n0      ...      0.0      0.0         0.0         0.0          0.0   \n1      ...      0.0      0.0         0.0         0.0          1.0   \n2      ...      0.0      0.0         0.0         0.0          0.0   \n3      ...      1.0      0.0         0.0         0.0          0.0   \n4      ...      0.0      1.0         0.0         0.0          0.0   \n...    ...      ...      ...         ...         ...          ...   \n53935  ...      0.0      0.0         0.0         0.0          1.0   \n53936  ...      0.0      0.0         0.0         0.0          1.0   \n53937  ...      0.0      0.0         0.0         0.0          1.0   \n53938  ...      0.0      0.0         0.0         0.0          0.0   \n53939  ...      0.0      0.0         0.0         0.0          0.0   \n\n       clarity_SI2  clarity_VS1  clarity_VS2  clarity_VVS1  clarity_VVS2  \n0              1.0          0.0          0.0           0.0           0.0  \n1              0.0          0.0          0.0           0.0           0.0  \n2              0.0          1.0          0.0           0.0           0.0  \n3              0.0          0.0          1.0           0.0           0.0  \n4              1.0          0.0          0.0           0.0           0.0  \n...            ...          ...          ...           ...           ...  \n53935          0.0          0.0          0.0           0.0           0.0  \n53936          0.0          0.0          0.0           0.0           0.0  \n53937          0.0          0.0          0.0           0.0           0.0  \n53938          1.0          0.0          0.0           0.0           0.0  \n53939          1.0          0.0          0.0           0.0           0.0  \n\n[53940 rows x 30 columns]",
      "text/html": "<div>\n<style scoped>\n    .dataframe tbody tr th:only-of-type {\n        vertical-align: middle;\n    }\n\n    .dataframe tbody tr th {\n        vertical-align: top;\n    }\n\n    .dataframe thead th {\n        text-align: right;\n    }\n</style>\n<table border=\"1\" class=\"dataframe\">\n  <thead>\n    <tr style=\"text-align: right;\">\n      <th></th>\n      <th>carat</th>\n      <th>cut</th>\n      <th>color</th>\n      <th>clarity</th>\n      <th>depth</th>\n      <th>table</th>\n      <th>price</th>\n      <th>x</th>\n      <th>y</th>\n      <th>z</th>\n      <th>...</th>\n      <th>color_I</th>\n      <th>color_J</th>\n      <th>clarity_I1</th>\n      <th>clarity_IF</th>\n      <th>clarity_SI1</th>\n      <th>clarity_SI2</th>\n      <th>clarity_VS1</th>\n      <th>clarity_VS2</th>\n      <th>clarity_VVS1</th>\n      <th>clarity_VVS2</th>\n    </tr>\n  </thead>\n  <tbody>\n    <tr>\n      <th>0</th>\n      <td>0.23</td>\n      <td>Ideal</td>\n      <td>E</td>\n      <td>SI2</td>\n      <td>61.5</td>\n      <td>55.0</td>\n      <td>326</td>\n      <td>3.95</td>\n      <td>3.98</td>\n      <td>2.43</td>\n      <td>...</td>\n      <td>0.0</td>\n      <td>0.0</td>\n      <td>0.0</td>\n      <td>0.0</td>\n      <td>0.0</td>\n      <td>1.0</td>\n      <td>0.0</td>\n      <td>0.0</td>\n      <td>0.0</td>\n      <td>0.0</td>\n    </tr>\n    <tr>\n      <th>1</th>\n      <td>0.21</td>\n      <td>Premium</td>\n      <td>E</td>\n      <td>SI1</td>\n      <td>59.8</td>\n      <td>61.0</td>\n      <td>326</td>\n      <td>3.89</td>\n      <td>3.84</td>\n      <td>2.31</td>\n      <td>...</td>\n      <td>0.0</td>\n      <td>0.0</td>\n      <td>0.0</td>\n      <td>0.0</td>\n      <td>1.0</td>\n      <td>0.0</td>\n      <td>0.0</td>\n      <td>0.0</td>\n      <td>0.0</td>\n      <td>0.0</td>\n    </tr>\n    <tr>\n      <th>2</th>\n      <td>0.23</td>\n      <td>Good</td>\n      <td>E</td>\n      <td>VS1</td>\n      <td>56.9</td>\n      <td>65.0</td>\n      <td>327</td>\n      <td>4.05</td>\n      <td>4.07</td>\n      <td>2.31</td>\n      <td>...</td>\n      <td>0.0</td>\n      <td>0.0</td>\n      <td>0.0</td>\n      <td>0.0</td>\n      <td>0.0</td>\n      <td>0.0</td>\n      <td>1.0</td>\n      <td>0.0</td>\n      <td>0.0</td>\n      <td>0.0</td>\n    </tr>\n    <tr>\n      <th>3</th>\n      <td>0.29</td>\n      <td>Premium</td>\n      <td>I</td>\n      <td>VS2</td>\n      <td>62.4</td>\n      <td>58.0</td>\n      <td>334</td>\n      <td>4.20</td>\n      <td>4.23</td>\n      <td>2.63</td>\n      <td>...</td>\n      <td>1.0</td>\n      <td>0.0</td>\n      <td>0.0</td>\n      <td>0.0</td>\n      <td>0.0</td>\n      <td>0.0</td>\n      <td>0.0</td>\n      <td>1.0</td>\n      <td>0.0</td>\n      <td>0.0</td>\n    </tr>\n    <tr>\n      <th>4</th>\n      <td>0.31</td>\n      <td>Good</td>\n      <td>J</td>\n      <td>SI2</td>\n      <td>63.3</td>\n      <td>58.0</td>\n      <td>335</td>\n      <td>4.34</td>\n      <td>4.35</td>\n      <td>2.75</td>\n      <td>...</td>\n      <td>0.0</td>\n      <td>1.0</td>\n      <td>0.0</td>\n      <td>0.0</td>\n      <td>0.0</td>\n      <td>1.0</td>\n      <td>0.0</td>\n      <td>0.0</td>\n      <td>0.0</td>\n      <td>0.0</td>\n    </tr>\n    <tr>\n      <th>...</th>\n      <td>...</td>\n      <td>...</td>\n      <td>...</td>\n      <td>...</td>\n      <td>...</td>\n      <td>...</td>\n      <td>...</td>\n      <td>...</td>\n      <td>...</td>\n      <td>...</td>\n      <td>...</td>\n      <td>...</td>\n      <td>...</td>\n      <td>...</td>\n      <td>...</td>\n      <td>...</td>\n      <td>...</td>\n      <td>...</td>\n      <td>...</td>\n      <td>...</td>\n      <td>...</td>\n    </tr>\n    <tr>\n      <th>53935</th>\n      <td>0.72</td>\n      <td>Ideal</td>\n      <td>D</td>\n      <td>SI1</td>\n      <td>60.8</td>\n      <td>57.0</td>\n      <td>2757</td>\n      <td>5.75</td>\n      <td>5.76</td>\n      <td>3.50</td>\n      <td>...</td>\n      <td>0.0</td>\n      <td>0.0</td>\n      <td>0.0</td>\n      <td>0.0</td>\n      <td>1.0</td>\n      <td>0.0</td>\n      <td>0.0</td>\n      <td>0.0</td>\n      <td>0.0</td>\n      <td>0.0</td>\n    </tr>\n    <tr>\n      <th>53936</th>\n      <td>0.72</td>\n      <td>Good</td>\n      <td>D</td>\n      <td>SI1</td>\n      <td>63.1</td>\n      <td>55.0</td>\n      <td>2757</td>\n      <td>5.69</td>\n      <td>5.75</td>\n      <td>3.61</td>\n      <td>...</td>\n      <td>0.0</td>\n      <td>0.0</td>\n      <td>0.0</td>\n      <td>0.0</td>\n      <td>1.0</td>\n      <td>0.0</td>\n      <td>0.0</td>\n      <td>0.0</td>\n      <td>0.0</td>\n      <td>0.0</td>\n    </tr>\n    <tr>\n      <th>53937</th>\n      <td>0.70</td>\n      <td>Very Good</td>\n      <td>D</td>\n      <td>SI1</td>\n      <td>62.8</td>\n      <td>60.0</td>\n      <td>2757</td>\n      <td>5.66</td>\n      <td>5.68</td>\n      <td>3.56</td>\n      <td>...</td>\n      <td>0.0</td>\n      <td>0.0</td>\n      <td>0.0</td>\n      <td>0.0</td>\n      <td>1.0</td>\n      <td>0.0</td>\n      <td>0.0</td>\n      <td>0.0</td>\n      <td>0.0</td>\n      <td>0.0</td>\n    </tr>\n    <tr>\n      <th>53938</th>\n      <td>0.86</td>\n      <td>Premium</td>\n      <td>H</td>\n      <td>SI2</td>\n      <td>61.0</td>\n      <td>58.0</td>\n      <td>2757</td>\n      <td>6.15</td>\n      <td>6.12</td>\n      <td>3.74</td>\n      <td>...</td>\n      <td>0.0</td>\n      <td>0.0</td>\n      <td>0.0</td>\n      <td>0.0</td>\n      <td>0.0</td>\n      <td>1.0</td>\n      <td>0.0</td>\n      <td>0.0</td>\n      <td>0.0</td>\n      <td>0.0</td>\n    </tr>\n    <tr>\n      <th>53939</th>\n      <td>0.75</td>\n      <td>Ideal</td>\n      <td>D</td>\n      <td>SI2</td>\n      <td>62.2</td>\n      <td>55.0</td>\n      <td>2757</td>\n      <td>5.83</td>\n      <td>5.87</td>\n      <td>3.64</td>\n      <td>...</td>\n      <td>0.0</td>\n      <td>0.0</td>\n      <td>0.0</td>\n      <td>0.0</td>\n      <td>0.0</td>\n      <td>1.0</td>\n      <td>0.0</td>\n      <td>0.0</td>\n      <td>0.0</td>\n      <td>0.0</td>\n    </tr>\n  </tbody>\n</table>\n<p>53940 rows × 30 columns</p>\n</div>"
     },
     "execution_count": 48,
     "metadata": {},
     "output_type": "execute_result"
    }
   ],
   "source": [
    "from DataFrameOneHotEncoder import DataFrameOneHotEncoder\n",
    "# ваш код здесь\n",
    "from sklearn.preprocessing import OneHotEncoder\n",
    "\n",
    "enc = OneHotEncoder(handle_unknown='ignore')\n",
    "\n",
    "encoded_df = pd.DataFrame(enc.fit_transform(data[cat_columns]). toarray ())\n",
    "encoded_df.columns = enc.get_feature_names_out()\n",
    "df = data.join (encoded_df)\n",
    "df\n"
   ]
  },
  {
   "cell_type": "code",
   "outputs": [],
   "source": [
    "df.drop(cat_columns, axis= 1 , inplace= True )"
   ],
   "metadata": {
    "collapsed": false,
    "ExecuteTime": {
     "end_time": "2024-02-11T13:32:56.337235Z",
     "start_time": "2024-02-11T13:32:56.330529Z"
    }
   },
   "execution_count": 49
  },
  {
   "cell_type": "code",
   "outputs": [
    {
     "data": {
      "text/plain": "   carat  depth  table  price     x     y     z  cut_Fair  cut_Good  \\\n0   0.23   61.5   55.0    326  3.95  3.98  2.43       0.0       0.0   \n1   0.21   59.8   61.0    326  3.89  3.84  2.31       0.0       0.0   \n2   0.23   56.9   65.0    327  4.05  4.07  2.31       0.0       1.0   \n\n   cut_Ideal  ...  color_I  color_J  clarity_I1  clarity_IF  clarity_SI1  \\\n0        1.0  ...      0.0      0.0         0.0         0.0          0.0   \n1        0.0  ...      0.0      0.0         0.0         0.0          1.0   \n2        0.0  ...      0.0      0.0         0.0         0.0          0.0   \n\n   clarity_SI2  clarity_VS1  clarity_VS2  clarity_VVS1  clarity_VVS2  \n0          1.0          0.0          0.0           0.0           0.0  \n1          0.0          0.0          0.0           0.0           0.0  \n2          0.0          1.0          0.0           0.0           0.0  \n\n[3 rows x 27 columns]",
      "text/html": "<div>\n<style scoped>\n    .dataframe tbody tr th:only-of-type {\n        vertical-align: middle;\n    }\n\n    .dataframe tbody tr th {\n        vertical-align: top;\n    }\n\n    .dataframe thead th {\n        text-align: right;\n    }\n</style>\n<table border=\"1\" class=\"dataframe\">\n  <thead>\n    <tr style=\"text-align: right;\">\n      <th></th>\n      <th>carat</th>\n      <th>depth</th>\n      <th>table</th>\n      <th>price</th>\n      <th>x</th>\n      <th>y</th>\n      <th>z</th>\n      <th>cut_Fair</th>\n      <th>cut_Good</th>\n      <th>cut_Ideal</th>\n      <th>...</th>\n      <th>color_I</th>\n      <th>color_J</th>\n      <th>clarity_I1</th>\n      <th>clarity_IF</th>\n      <th>clarity_SI1</th>\n      <th>clarity_SI2</th>\n      <th>clarity_VS1</th>\n      <th>clarity_VS2</th>\n      <th>clarity_VVS1</th>\n      <th>clarity_VVS2</th>\n    </tr>\n  </thead>\n  <tbody>\n    <tr>\n      <th>0</th>\n      <td>0.23</td>\n      <td>61.5</td>\n      <td>55.0</td>\n      <td>326</td>\n      <td>3.95</td>\n      <td>3.98</td>\n      <td>2.43</td>\n      <td>0.0</td>\n      <td>0.0</td>\n      <td>1.0</td>\n      <td>...</td>\n      <td>0.0</td>\n      <td>0.0</td>\n      <td>0.0</td>\n      <td>0.0</td>\n      <td>0.0</td>\n      <td>1.0</td>\n      <td>0.0</td>\n      <td>0.0</td>\n      <td>0.0</td>\n      <td>0.0</td>\n    </tr>\n    <tr>\n      <th>1</th>\n      <td>0.21</td>\n      <td>59.8</td>\n      <td>61.0</td>\n      <td>326</td>\n      <td>3.89</td>\n      <td>3.84</td>\n      <td>2.31</td>\n      <td>0.0</td>\n      <td>0.0</td>\n      <td>0.0</td>\n      <td>...</td>\n      <td>0.0</td>\n      <td>0.0</td>\n      <td>0.0</td>\n      <td>0.0</td>\n      <td>1.0</td>\n      <td>0.0</td>\n      <td>0.0</td>\n      <td>0.0</td>\n      <td>0.0</td>\n      <td>0.0</td>\n    </tr>\n    <tr>\n      <th>2</th>\n      <td>0.23</td>\n      <td>56.9</td>\n      <td>65.0</td>\n      <td>327</td>\n      <td>4.05</td>\n      <td>4.07</td>\n      <td>2.31</td>\n      <td>0.0</td>\n      <td>1.0</td>\n      <td>0.0</td>\n      <td>...</td>\n      <td>0.0</td>\n      <td>0.0</td>\n      <td>0.0</td>\n      <td>0.0</td>\n      <td>0.0</td>\n      <td>0.0</td>\n      <td>1.0</td>\n      <td>0.0</td>\n      <td>0.0</td>\n      <td>0.0</td>\n    </tr>\n  </tbody>\n</table>\n<p>3 rows × 27 columns</p>\n</div>"
     },
     "execution_count": 50,
     "metadata": {},
     "output_type": "execute_result"
    }
   ],
   "source": [
    "df.head(3)"
   ],
   "metadata": {
    "collapsed": false,
    "ExecuteTime": {
     "end_time": "2024-02-11T13:32:57.074686Z",
     "start_time": "2024-02-11T13:32:57.051140Z"
    }
   },
   "execution_count": 50
  },
  {
   "cell_type": "markdown",
   "metadata": {
    "id": "ulc9aqK9cQok"
   },
   "source": [
    "### Задание 5"
   ]
  },
  {
   "cell_type": "markdown",
   "source": [
    "Создайте матрицу `X`, содержащую все признаки, и не содержащую целевую переменную `price`.  \n",
    "Также создайте вектор `y`, содержащий целевую переменную `price`."
   ],
   "metadata": {
    "id": "1AKuHPk5UVm5"
   }
  },
  {
   "cell_type": "code",
   "execution_count": 51,
   "metadata": {
    "id": "KKwRA4MBcQol",
    "ExecuteTime": {
     "end_time": "2024-02-11T13:34:09.403851Z",
     "start_time": "2024-02-11T13:34:09.397902Z"
    }
   },
   "outputs": [],
   "source": [
    "# ваш код здесь\n",
    "y = df.price\n",
    "X = df.drop(['price'], axis=1)\n"
   ]
  },
  {
   "cell_type": "markdown",
   "source": [
    "Разделите выборку на тренировочную и тестовую. Долю тестовой выборки укажите равной `0.3`\n",
    "\n",
    "При разбиении укажите `random_state = 42`"
   ],
   "metadata": {
    "id": "_bUEw4MdUc6R"
   }
  },
  {
   "cell_type": "code",
   "execution_count": 53,
   "metadata": {
    "id": "Lq5iUG3pcQol",
    "ExecuteTime": {
     "end_time": "2024-02-11T13:34:51.033565Z",
     "start_time": "2024-02-11T13:34:51.011715Z"
    }
   },
   "outputs": [],
   "source": [
    "# ваш код здесь\n",
    "from sklearn.model_selection import train_test_split\n",
    "X_train, X_test, y_train, y_test = train_test_split(X, y, random_state=RANDOM_STATE, test_size = TEST_SIZE)"
   ]
  },
  {
   "cell_type": "markdown",
   "metadata": {
    "id": "6N8pvf9AcQol"
   },
   "source": [
    "### Задание 6"
   ]
  },
  {
   "cell_type": "markdown",
   "source": [
    "Зачастую при использовании линейных моделей вещественные признаки масштабируются.  В этой задаче масштабируйте вещественные признаки тренировочной и тестовой выборок при помощи модуля `StandardScaler`\n",
    "\n",
    "*  Обучите (`fit`) scaler на тренировочных данных\n",
    "*  Преобразуйте (`transform`) и трейн, и тест\n",
    "\n",
    "После применения масштабирования матрица перестает быть объектом `pandas.DataFrame` - решите эту проблему"
   ],
   "metadata": {
    "id": "G2bphubmVoRH"
   }
  },
  {
   "cell_type": "code",
   "execution_count": 54,
   "metadata": {
    "id": "gcIqv_GHcQom",
    "ExecuteTime": {
     "end_time": "2024-02-11T13:35:14.787460Z",
     "start_time": "2024-02-11T13:35:14.761459Z"
    }
   },
   "outputs": [],
   "source": [
    "from sklearn.preprocessing import StandardScaler\n",
    "\n",
    "# ваш код здесь\n",
    "scaler = StandardScaler()\n",
    "\n",
    "X_train_scaled = scaler.fit_transform(X_train)\n",
    "X_test_scaled = scaler.transform(X_test)\n"
   ]
  },
  {
   "cell_type": "markdown",
   "metadata": {
    "id": "kfptkhMecQom"
   },
   "source": [
    "### Задание 7"
   ]
  },
  {
   "cell_type": "markdown",
   "source": [
    "Обучите линейную регрессию на тренировочной выборке. Выведите r2-score на тренировочной и тестовой выборках"
   ],
   "metadata": {
    "id": "K2GX2AdZWZyC"
   }
  },
  {
   "cell_type": "code",
   "execution_count": 55,
   "metadata": {
    "id": "SqJz_mDycQom",
    "ExecuteTime": {
     "end_time": "2024-02-11T13:36:04.967099Z",
     "start_time": "2024-02-11T13:36:04.769838Z"
    }
   },
   "outputs": [
    {
     "name": "stdout",
     "output_type": "stream",
     "text": [
      "Test r2_score = 0.9202\n",
      "Train r2_score = 0.9196\n"
     ]
    }
   ],
   "source": [
    "# ваш код здесь\n",
    "from sklearn.linear_model import LinearRegression\n",
    "from sklearn.metrics import r2_score\n",
    "\n",
    "model = LinearRegression()\n",
    "\n",
    "model.fit(X_train_scaled, y_train) #обучаем на тренировочных данных\n",
    "\n",
    "predicted_on_test = model.predict(X_test_scaled) #предсказываем на отложенной выборке\n",
    "predicted_on_train = model.predict(X_train_scaled) #предсказываем на тренировочных данных\n",
    "\n",
    "print(\"Test r2_score = %.4f\" % r2_score(y_test, predicted_on_test))\n",
    "print(\"Train r2_score = %.4f\" % r2_score(y_train, predicted_on_train))\n"
   ]
  },
  {
   "cell_type": "markdown",
   "metadata": {
    "id": "6_SoB7kycQon"
   },
   "source": [
    "### Задание 8"
   ]
  },
  {
   "cell_type": "markdown",
   "source": [
    "Выведите на экран веса, которые линейная регрессия присвоила признакам. Назовите вещественные переменные, оценки коэффициентов которых по модулю на порядок превышают оценки прочих вещественных переменных"
   ],
   "metadata": {
    "id": "EC3Eyb7KWnjI"
   }
  },
  {
   "cell_type": "code",
   "execution_count": 19,
   "metadata": {
    "id": "t-C9Fh-dcQon",
    "ExecuteTime": {
     "end_time": "2024-02-11T09:24:34.945013Z",
     "start_time": "2024-02-11T09:24:34.937849Z"
    }
   },
   "outputs": [
    {
     "data": {
      "text/plain": "array([ 5.33960136e+03, -9.01659327e+01, -6.04214567e+01, -1.09995413e+03,\n       -7.11294685e+00, -3.47695261e+01, -1.00112927e+14, -1.68830350e+14,\n       -2.88587731e+14, -2.57049069e+14, -2.46305181e+14,  3.11946315e+14,\n        3.63337610e+14,  3.60692968e+14,  3.82392014e+14,  3.41757943e+14,\n        2.82809687e+14,  2.09555151e+14,  1.40936873e+14,  2.17643233e+14,\n        5.22951419e+14,  4.56398910e+14,  4.36572320e+14,  5.10261328e+14,\n        3.06616705e+14,  3.53737031e+14])"
     },
     "execution_count": 19,
     "metadata": {},
     "output_type": "execute_result"
    }
   ],
   "source": [
    "# ваш код здесь\n",
    "model.coef_\n"
   ]
  },
  {
   "cell_type": "markdown",
   "metadata": {
    "id": "TiMxKob2cQon"
   },
   "source": [
    "## Попытка улучшить качество модели\n",
    "\n",
    "Эта часть является творческой, и задания в ней немного сложнее, чем предыдущие.  "
   ]
  },
  {
   "cell_type": "markdown",
   "source": [
    "### Задание 9"
   ],
   "metadata": {
    "id": "wXikHKjMWrZ4"
   }
  },
  {
   "cell_type": "markdown",
   "metadata": {
    "id": "mdzW2AVncQon"
   },
   "source": [
    "Как можно заметить из анализа корреляционной матрицы в задании 3, между некоторыми признаками имеется сильная корреляция, что может быть индикатором проблемы *мультиколлинеарности*. Различия в порядке коэффициентов, выявленные в предыдущей задаче, также свидетельствуют об этом. Для решения этой проблемы можно либо исключить некоторые признаки из модели (например, если признак линейно зависим с какими-то другими, его можно исключить из модели, т.е. удалить из матрицы объект-признак и заново обучить модель).\n",
    "\n",
    "Удалите из матриц `Xtrain` и `Xtest` признак, который наиболее сильно коррелирует с остальными. Заново обучите модель и оцените её качество. Улучшилось ли качество модели?\n",
    "\n",
    "Попробуйте удалить какой-то другой признак (можете попробовать несколько вариантов). Помогло ли это улучшить качество модели?"
   ]
  },
  {
   "cell_type": "code",
   "execution_count": 20,
   "metadata": {
    "id": "ijzbnURZcQon",
    "ExecuteTime": {
     "end_time": "2024-02-11T09:24:39.247991Z",
     "start_time": "2024-02-11T09:24:39.236235Z"
    }
   },
   "outputs": [],
   "source": [
    "# ваш код здесь\n",
    "X_train2 = X_train.drop(['x', 'y', 'z'], axis= 1)\n",
    "X_test2 = X_test.drop(['x', 'y', 'z'], axis= 1)"
   ]
  },
  {
   "cell_type": "code",
   "outputs": [
    {
     "name": "stdout",
     "output_type": "stream",
     "text": [
      "Test r2_score = 0.9162\n",
      "Train r2_score = 0.9160\n"
     ]
    }
   ],
   "source": [
    "X_train2_scaled = scaler.fit_transform(X_train2)\n",
    "X_test2_scaled = scaler.transform(X_test2)\n",
    "\n",
    "model2 = LinearRegression()\n",
    "\n",
    "model2.fit(X_train2_scaled, y_train) #обучаем на тренировочных данных после удаления x, y, z\n",
    "\n",
    "predicted_on_test2 = model2.predict(X_test2_scaled) #предсказываем на отложенной выборке после удаления x, y, z\n",
    "predicted_on_train2 = model2.predict(X_train2_scaled) #предсказываем на тренировочных данных после удаления x, y, z\n",
    "\n",
    "print(\"Test r2_score = %.4f\" % r2_score(y_test, predicted_on_test2))\n",
    "print(\"Train r2_score = %.4f\" % r2_score(y_train, predicted_on_train2))"
   ],
   "metadata": {
    "collapsed": false,
    "ExecuteTime": {
     "end_time": "2024-02-11T09:24:39.898547Z",
     "start_time": "2024-02-11T09:24:39.803595Z"
    }
   },
   "execution_count": 21
  },
  {
   "cell_type": "markdown",
   "metadata": {
    "id": "rRYRz_mKcQoo"
   },
   "source": [
    "### Задание 10"
   ]
  },
  {
   "cell_type": "markdown",
   "source": [
    "Иногда генерация новых признаков помогает модели лучше находить взаимосвязи между целевой переменной и признаками. Попробуйте придумать новые признаки и добавить их в модель.  \n",
    "\n",
    "Помогло ли это улучшить качество модели?"
   ],
   "metadata": {
    "id": "Tdef9JCSW-i6"
   }
  },
  {
   "cell_type": "code",
   "execution_count": 22,
   "metadata": {
    "id": "q8hBFxxLcQoo",
    "ExecuteTime": {
     "end_time": "2024-02-11T09:24:46.190901Z",
     "start_time": "2024-02-11T09:24:46.183517Z"
    }
   },
   "outputs": [],
   "source": [
    "# ваш код здесь\n",
    "## что если смержить с другим датасетом? например, с этим - https://www.kaggle.com/datasets/miguelcorraljr/brilliant-diamonds\n",
    "### но интересно, по какому индексу это сделать. По цене, по карат, по комбинации индексов (цена+карат+цвет+огранка). То есть надо найти корректный key\n",
    "\n",
    "####генерирование новых признаков - какие main и best practices?"
   ]
  },
  {
   "cell_type": "markdown",
   "source": [
    "## Выводы"
   ],
   "metadata": {
    "id": "YNKwDLs1XN9n"
   }
  },
  {
   "cell_type": "markdown",
   "metadata": {
    "id": "HbYKbvevcQoo"
   },
   "source": [
    "Сделайте выводы, исходя из проделанной работы.\n",
    "\n",
    "Какого наилучшего качества удалось добиться? Хорошее ли это качество на ваш взгляд? Что для этого вам пришлось сделать?"
   ]
  },
  {
   "cell_type": "code",
   "execution_count": 23,
   "metadata": {
    "id": "3oz-HAOHcQoo",
    "ExecuteTime": {
     "end_time": "2024-02-09T09:35:55.010894Z",
     "start_time": "2024-02-09T09:35:55.007734Z"
    }
   },
   "outputs": [],
   "source": [
    "# ваш код здесь\n",
    "..."
   ]
  },
  {
   "cell_type": "code",
   "outputs": [],
   "source": [],
   "metadata": {
    "collapsed": false
   }
  }
 ],
 "metadata": {
  "kernelspec": {
   "display_name": "Python 3",
   "language": "python",
   "name": "python3"
  },
  "language_info": {
   "codemirror_mode": {
    "name": "ipython",
    "version": 3
   },
   "file_extension": ".py",
   "mimetype": "text/x-python",
   "name": "python",
   "nbconvert_exporter": "python",
   "pygments_lexer": "ipython3",
   "version": "3.7.6"
  },
  "colab": {
   "provenance": []
  }
 },
 "nbformat": 4,
 "nbformat_minor": 0
}
